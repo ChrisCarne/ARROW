{
 "cells": [
  {
   "cell_type": "markdown",
   "metadata": {},
   "source": [
    "## Process and display data from ARROW\n",
    "\n",
    "1. Get filenames and read in data - Done\n",
    "2. Aggregate baseline data - Done\n",
    "3. Normalise data using baseline obs - Done\n",
    "4. Convert frequency to velocity - Done\n",
    "5. Save data + headers to file - Done\n",
    "6. Aggregate data - Done\n",
    "7. Display data\n",
    "8. Think of at least a dozen synonyms for data so there aren't duplicate variables - Done\n",
    "\n"
   ]
  },
  {
   "cell_type": "markdown",
   "metadata": {},
   "source": [
    "## Imports\n"
   ]
  },
  {
   "cell_type": "code",
   "execution_count": 34,
   "metadata": {},
   "outputs": [],
   "source": [
    "import os #filesystem stuff\n",
    "import fnmatch\n",
    "from operator import itemgetter #to help with complex list sort\n",
    "#from astropy import units as u\n",
    "import numpy as np\n",
    "import pandas as pd\n",
    "from bokeh.plotting import figure, output_notebook, show\n",
    "from bokeh.models.tools import HoverTool\n",
    "#from astropy import constants as const"
   ]
  },
  {
   "cell_type": "markdown",
   "metadata": {},
   "source": [
    "## Functions"
   ]
  },
  {
   "cell_type": "markdown",
   "metadata": {},
   "source": [
    "#### Reads the data"
   ]
  },
  {
   "cell_type": "code",
   "execution_count": 35,
   "metadata": {},
   "outputs": [],
   "source": [
    "def read_ARROW_data(path, filename):\n",
    "    \"\"\"Reads in and partially processes an  ARROW spectrum\n",
    "    \n",
    "    The spectrum file contains a number of header lines indicated by `#' or blanks. \n",
    "    This function splits these from the main data and returns both \n",
    "            \n",
    "    Parameters\n",
    "    ----------\n",
    "    filename : str\n",
    "    path : str\n",
    "       filepath\n",
    "    \n",
    "    Returns\n",
    "    -------\n",
    "    dat : class: pandas.DataFrame\n",
    "        Spectrum data\n",
    "    Header lines : list of str\n",
    "        List of header lines\n",
    "    \"\"\"\n",
    "     \n",
    "    # Read lines till first line not starting with #, or whitespace.\n",
    "    # Store these as a list\n",
    "    #path_filename=path+'\\\\'+filename\n",
    "    path_filename=os.path.join(path, filename)\n",
    "    angle=filename.split('_')[0]\n",
    "    header_list = []\n",
    "    number_header_lines = 0\n",
    "    dat = None\n",
    "    with open(path_filename) as f:\n",
    "        line = f.readline()\n",
    "        while line[0] == '#' or line[0] == ',' or line[0].isspace():\n",
    "            header_list.append(line)\n",
    "            number_header_lines += 1\n",
    "            line = f.readline()\n",
    "        dat = pd.read_csv(path_filename, header = number_header_lines, skipinitialspace = True, index_col='frequency')\n",
    "\n",
    "    return (angle, dat, header_list,filename)"
   ]
  },
  {
   "cell_type": "markdown",
   "metadata": {},
   "source": [
    "####  Processes the data to take the average of sets of obervations"
   ]
  },
  {
   "cell_type": "code",
   "execution_count": 36,
   "metadata": {},
   "outputs": [],
   "source": [
    "def aggregate_d(data_list,ang): \n",
    "    \"\"\" Takes in a list of dataframes and an angle and contatenates the results from a \n",
    "    number of observation and returns a df with the averaged result\n",
    "        \n",
    "    Parameters\n",
    "    ----------\n",
    "    data_list : list, str\n",
    "    ang: str\n",
    "    \n",
    "    Returns\n",
    "    -------\n",
    "    dat : class: pandas.DataFrame\n",
    "        Averaged spectrum data\n",
    "    \"\"\"\n",
    "    x=[data for angle, data, header,filename in data_list if angle.startswith(ang)]\n",
    "    df=pd.concat((x),axis=1)\n",
    "    df.columns=[item + '_'+  str(n+1) for n,item in enumerate(df.columns)]\n",
    "    df['mean intensity']=df.mean(axis=1)\n",
    "    return df"
   ]
  },
  {
   "cell_type": "markdown",
   "metadata": {},
   "source": [
    "#### Subtract the baseline data and save and display normalised data"
   ]
  },
  {
   "cell_type": "code",
   "execution_count": 37,
   "metadata": {},
   "outputs": [],
   "source": [
    "def normalise_data(data, baseline):\n",
    "    \"\"\" Takes in a list of angle, dataFrame and a pandas series of the baseline observation and\n",
    "    returns a new data frame with the baseline and normalised_ data added as columns. \n",
    "            \n",
    "    Parameters\n",
    "    ----------\n",
    "    data : tuple, str, pandas.DataFrame\n",
    "    baseline: pandas.Series\n",
    "    \n",
    "    Returns\n",
    "    -------\n",
    "    new_df : class: pandas.DataFrame\n",
    "    \"\"\"\n",
    "        \n",
    "    if data[0] !='BG':\n",
    "        new_df=data[1]\n",
    "        new_df['baseline']=baseline\n",
    "        new_df['norm_data']=new_df['intensity']-new_df['baseline']\n",
    "        return new_df"
   ]
  },
  {
   "cell_type": "markdown",
   "metadata": {},
   "source": [
    "#### Convert frequency to velocity"
   ]
  },
  {
   "cell_type": "code",
   "execution_count": 38,
   "metadata": {},
   "outputs": [],
   "source": [
    "def freq_to_vel(freq, f0=1420.4e6):\n",
    "    ''' Takes a frequency value (or Pandas Dataframe column or Series) and returns\n",
    "    a velocity value (or new Dataframe column of values). f0 is the rest\n",
    "    frequency and defaults to 1420.4 MHz'''\n",
    "\n",
    "    C = 299792458.0  #m/s\n",
    "    #or use C=const.c \n",
    "    v=-(freq*C)/f0\n",
    "    return v/1000  #(km/s)     "
   ]
  },
  {
   "cell_type": "markdown",
   "metadata": {},
   "source": [
    "#### Saves data list items back to file"
   ]
  },
  {
   "cell_type": "code",
   "execution_count": 39,
   "metadata": {},
   "outputs": [],
   "source": [
    "def save_data(data_list):\n",
    "    \n",
    "    '''Takes the data list and writes the header and dataframe out to a csv file making a directory if necessory\n",
    "        \n",
    "        Parameters\n",
    "        ----------\n",
    "        datalist : list [list, pandas.DataFrame]\n",
    "\n",
    "        Returns\n",
    "        -------\n",
    "        void  \n",
    "    '''\n",
    "    try: #Easier to ask forgiveness than seek permission\n",
    "        os.mkdir('.\\\\proc_data')\n",
    "    except:\n",
    "        pass\n",
    "    save_path = '.\\\\proc_data\\\\'\n",
    "    for _,df,header,fn in data_list:\n",
    "        new_fn= fn[:-4] +\"_proc.csv\"\n",
    "        completeName = os.path.join(save_path, new_fn)\n",
    "        with open(completeName, mode='w') as data_file:\n",
    "            data_file.write(\"\".join(header))\n",
    "        df.to_csv(completeName, mode='a')"
   ]
  },
  {
   "cell_type": "markdown",
   "metadata": {},
   "source": [
    "#### Loops over a list of angles and calls the aggregating list function for each group of obs\n",
    "There's currently two functions doing much the same thing for the background data and the main data as they need slighty different treatment - not 100% satisfactory but hey ho.\n"
   ]
  },
  {
   "cell_type": "code",
   "execution_count": 40,
   "metadata": {},
   "outputs": [],
   "source": [
    "def agg(obs_list):\n",
    "    #This is for the background obs\n",
    "    angle_set={angle[0][0:2] if angle[0].startswith('BG') else angle[0] for angle in obs_list} #using set to remove dupes\n",
    "\n",
    "    #sorts back into list - sets are unordered.  Function in a function - tut. \n",
    "    return sorted([[ang,aggregate_d(obs_list, ang)] for ang in angle_set],key=itemgetter(0)) \n",
    "    "
   ]
  },
  {
   "cell_type": "markdown",
   "metadata": {},
   "source": [
    "#### Pretty much the same just calls a different function to do the processing"
   ]
  },
  {
   "cell_type": "code",
   "execution_count": 41,
   "metadata": {},
   "outputs": [],
   "source": [
    "def aggregate2(data_list):\n",
    "    angle_set={angle[0] for angle in data_list}\n",
    "    #sorts back into list - sets are unordered\n",
    "    return sorted([[angle,process_data(angle,data_list)]for angle in angle_set],key=itemgetter(0))"
   ]
  },
  {
   "cell_type": "markdown",
   "metadata": {},
   "source": [
    "#### Takes the main datalist and an angle and returns an aggregated  dataframe for each angle"
   ]
  },
  {
   "cell_type": "code",
   "execution_count": 42,
   "metadata": {},
   "outputs": [],
   "source": [
    "def process_data(ang,datalist):\n",
    "    ''' Stuff here I suppose\n",
    "    '''\n",
    "    dataframe= datalist[0][1]\n",
    "    x=[data for angle, data,_,_ in data_list if angle.startswith(ang)]\n",
    "    \n",
    "    # smashes everythign together into a big df\n",
    "    for frame in x:\n",
    "        dataframe = pd.merge(dataframe,frame, on=['baseline','frequency','velocity'])     \n",
    "  \n",
    "    #filters for intensity and normalised data\n",
    "    cols= [col for col in dataframe.columns if not(col.startswith('int'))]\n",
    "    n_cols=[col for col in dataframe.columns if not(col.startswith('norm'))]\n",
    "    \n",
    "    #chops up the big df and puts it together with the means of intensity and normalised intensity \n",
    "    mean_int=dataframe.drop(cols, axis =1).mean(axis=1)\n",
    "    int_norm=dataframe.drop(n_cols, axis =1).mean(axis=1)\n",
    "    new_df=pd.DataFrame({'mean_int':mean_int, 'mean_norm':int_norm})\n",
    "    new_df['velocity']=dataframe['velocity']\n",
    "    new_df['baseline']=dataframe['baseline']\n",
    "    return new_df"
   ]
  },
  {
   "cell_type": "markdown",
   "metadata": {},
   "source": [
    "## Main"
   ]
  },
  {
   "cell_type": "markdown",
   "metadata": {},
   "source": [
    "#### Get the filenames from the specified directory and sends a list of them off to be read.\n"
   ]
  },
  {
   "cell_type": "code",
   "execution_count": 43,
   "metadata": {},
   "outputs": [],
   "source": [
    "basepath = '.\\\\data\\\\'\n",
    "\n",
    "#gets a list of csv file\n",
    "files=[entry.name for entry in os.scandir(basepath) if fnmatch.fnmatch(entry.name, '*.csv')]\n",
    "\n",
    "#processes the background data files\n",
    "background_list=[read_ARROW_data(basepath, file) for file in files if fnmatch.fnmatch(file, 'BG*')] \n",
    "\n",
    "#processes the target data files\n",
    "data_list=[read_ARROW_data(basepath, file) for file in files if not(fnmatch.fnmatch(file, 'BG*'))]        "
   ]
  },
  {
   "cell_type": "markdown",
   "metadata": {},
   "source": [
    "####  Calls the function to aggregate the background data"
   ]
  },
  {
   "cell_type": "code",
   "execution_count": 81,
   "metadata": {},
   "outputs": [],
   "source": [
    "agg_bg=agg(background_list)"
   ]
  },
  {
   "cell_type": "markdown",
   "metadata": {},
   "source": [
    "#### Iterates over the sorted data list and calls the normalise_data function on each item"
   ]
  },
  {
   "cell_type": "code",
   "execution_count": 46,
   "metadata": {},
   "outputs": [],
   "source": [
    "baseline=agg_bg[0][1]['mean intensity'] #plucks the mean background values from the df\n",
    "\n",
    "norm_data_list=[(data[0],normalise_data(data,baseline),data[2],data[3])for data in data_list]"
   ]
  },
  {
   "cell_type": "markdown",
   "metadata": {},
   "source": [
    "#### Converts frequency to velocity"
   ]
  },
  {
   "cell_type": "code",
   "execution_count": 48,
   "metadata": {},
   "outputs": [],
   "source": [
    "for item in norm_data_list:\n",
    "    item[1]['velocity']=freq_to_vel(item[1].index)"
   ]
  },
  {
   "cell_type": "markdown",
   "metadata": {},
   "source": [
    "#### Saves data (duh)"
   ]
  },
  {
   "cell_type": "code",
   "execution_count": 49,
   "metadata": {},
   "outputs": [],
   "source": [
    "save_data(norm_data_list)"
   ]
  },
  {
   "cell_type": "markdown",
   "metadata": {},
   "source": [
    "## Display the data as graphs"
   ]
  },
  {
   "cell_type": "markdown",
   "metadata": {},
   "source": [
    "#### Calls the function to aggregate the data into one df."
   ]
  },
  {
   "cell_type": "code",
   "execution_count": 80,
   "metadata": {},
   "outputs": [],
   "source": [
    "display_data = aggregate2(norm_data_list)"
   ]
  },
  {
   "cell_type": "markdown",
   "metadata": {},
   "source": [
    "#### Sets up the variables for the graphs"
   ]
  },
  {
   "cell_type": "code",
   "execution_count": 52,
   "metadata": {},
   "outputs": [],
   "source": [
    "angle,df40 = display_data[0]\n",
    "angle,df50 = display_data[1]\n",
    "angle,df60 = display_data[2]\n",
    "angle,df70 = display_data[3]\n",
    "angle,df80 = display_data[4]"
   ]
  },
  {
   "cell_type": "markdown",
   "metadata": {},
   "source": [
    "#### Outputs all the data on one graph with hiding enabled"
   ]
  },
  {
   "cell_type": "code",
   "execution_count": 72,
   "metadata": {},
   "outputs": [
    {
     "data": {
      "text/html": [
       "\n",
       "    <div class=\"bk-root\">\n",
       "        <a href=\"https://bokeh.org\" target=\"_blank\" class=\"bk-logo bk-logo-small bk-logo-notebook\"></a>\n",
       "        <span id=\"3507\">Loading BokehJS ...</span>\n",
       "    </div>"
      ]
     },
     "metadata": {},
     "output_type": "display_data"
    },
    {
     "data": {
      "application/javascript": [
       "\n",
       "(function(root) {\n",
       "  function now() {\n",
       "    return new Date();\n",
       "  }\n",
       "\n",
       "  var force = true;\n",
       "\n",
       "  if (typeof root._bokeh_onload_callbacks === \"undefined\" || force === true) {\n",
       "    root._bokeh_onload_callbacks = [];\n",
       "    root._bokeh_is_loading = undefined;\n",
       "  }\n",
       "\n",
       "  var JS_MIME_TYPE = 'application/javascript';\n",
       "  var HTML_MIME_TYPE = 'text/html';\n",
       "  var EXEC_MIME_TYPE = 'application/vnd.bokehjs_exec.v0+json';\n",
       "  var CLASS_NAME = 'output_bokeh rendered_html';\n",
       "\n",
       "  /**\n",
       "   * Render data to the DOM node\n",
       "   */\n",
       "  function render(props, node) {\n",
       "    var script = document.createElement(\"script\");\n",
       "    node.appendChild(script);\n",
       "  }\n",
       "\n",
       "  /**\n",
       "   * Handle when an output is cleared or removed\n",
       "   */\n",
       "  function handleClearOutput(event, handle) {\n",
       "    var cell = handle.cell;\n",
       "\n",
       "    var id = cell.output_area._bokeh_element_id;\n",
       "    var server_id = cell.output_area._bokeh_server_id;\n",
       "    // Clean up Bokeh references\n",
       "    if (id != null && id in Bokeh.index) {\n",
       "      Bokeh.index[id].model.document.clear();\n",
       "      delete Bokeh.index[id];\n",
       "    }\n",
       "\n",
       "    if (server_id !== undefined) {\n",
       "      // Clean up Bokeh references\n",
       "      var cmd = \"from bokeh.io.state import curstate; print(curstate().uuid_to_server['\" + server_id + \"'].get_sessions()[0].document.roots[0]._id)\";\n",
       "      cell.notebook.kernel.execute(cmd, {\n",
       "        iopub: {\n",
       "          output: function(msg) {\n",
       "            var id = msg.content.text.trim();\n",
       "            if (id in Bokeh.index) {\n",
       "              Bokeh.index[id].model.document.clear();\n",
       "              delete Bokeh.index[id];\n",
       "            }\n",
       "          }\n",
       "        }\n",
       "      });\n",
       "      // Destroy server and session\n",
       "      var cmd = \"import bokeh.io.notebook as ion; ion.destroy_server('\" + server_id + \"')\";\n",
       "      cell.notebook.kernel.execute(cmd);\n",
       "    }\n",
       "  }\n",
       "\n",
       "  /**\n",
       "   * Handle when a new output is added\n",
       "   */\n",
       "  function handleAddOutput(event, handle) {\n",
       "    var output_area = handle.output_area;\n",
       "    var output = handle.output;\n",
       "\n",
       "    // limit handleAddOutput to display_data with EXEC_MIME_TYPE content only\n",
       "    if ((output.output_type != \"display_data\") || (!output.data.hasOwnProperty(EXEC_MIME_TYPE))) {\n",
       "      return\n",
       "    }\n",
       "\n",
       "    var toinsert = output_area.element.find(\".\" + CLASS_NAME.split(' ')[0]);\n",
       "\n",
       "    if (output.metadata[EXEC_MIME_TYPE][\"id\"] !== undefined) {\n",
       "      toinsert[toinsert.length - 1].firstChild.textContent = output.data[JS_MIME_TYPE];\n",
       "      // store reference to embed id on output_area\n",
       "      output_area._bokeh_element_id = output.metadata[EXEC_MIME_TYPE][\"id\"];\n",
       "    }\n",
       "    if (output.metadata[EXEC_MIME_TYPE][\"server_id\"] !== undefined) {\n",
       "      var bk_div = document.createElement(\"div\");\n",
       "      bk_div.innerHTML = output.data[HTML_MIME_TYPE];\n",
       "      var script_attrs = bk_div.children[0].attributes;\n",
       "      for (var i = 0; i < script_attrs.length; i++) {\n",
       "        toinsert[toinsert.length - 1].firstChild.setAttribute(script_attrs[i].name, script_attrs[i].value);\n",
       "        toinsert[toinsert.length - 1].firstChild.textContent = bk_div.children[0].textContent\n",
       "      }\n",
       "      // store reference to server id on output_area\n",
       "      output_area._bokeh_server_id = output.metadata[EXEC_MIME_TYPE][\"server_id\"];\n",
       "    }\n",
       "  }\n",
       "\n",
       "  function register_renderer(events, OutputArea) {\n",
       "\n",
       "    function append_mime(data, metadata, element) {\n",
       "      // create a DOM node to render to\n",
       "      var toinsert = this.create_output_subarea(\n",
       "        metadata,\n",
       "        CLASS_NAME,\n",
       "        EXEC_MIME_TYPE\n",
       "      );\n",
       "      this.keyboard_manager.register_events(toinsert);\n",
       "      // Render to node\n",
       "      var props = {data: data, metadata: metadata[EXEC_MIME_TYPE]};\n",
       "      render(props, toinsert[toinsert.length - 1]);\n",
       "      element.append(toinsert);\n",
       "      return toinsert\n",
       "    }\n",
       "\n",
       "    /* Handle when an output is cleared or removed */\n",
       "    events.on('clear_output.CodeCell', handleClearOutput);\n",
       "    events.on('delete.Cell', handleClearOutput);\n",
       "\n",
       "    /* Handle when a new output is added */\n",
       "    events.on('output_added.OutputArea', handleAddOutput);\n",
       "\n",
       "    /**\n",
       "     * Register the mime type and append_mime function with output_area\n",
       "     */\n",
       "    OutputArea.prototype.register_mime_type(EXEC_MIME_TYPE, append_mime, {\n",
       "      /* Is output safe? */\n",
       "      safe: true,\n",
       "      /* Index of renderer in `output_area.display_order` */\n",
       "      index: 0\n",
       "    });\n",
       "  }\n",
       "\n",
       "  // register the mime type if in Jupyter Notebook environment and previously unregistered\n",
       "  if (root.Jupyter !== undefined) {\n",
       "    var events = require('base/js/events');\n",
       "    var OutputArea = require('notebook/js/outputarea').OutputArea;\n",
       "\n",
       "    if (OutputArea.prototype.mime_types().indexOf(EXEC_MIME_TYPE) == -1) {\n",
       "      register_renderer(events, OutputArea);\n",
       "    }\n",
       "  }\n",
       "\n",
       "  \n",
       "  if (typeof (root._bokeh_timeout) === \"undefined\" || force === true) {\n",
       "    root._bokeh_timeout = Date.now() + 5000;\n",
       "    root._bokeh_failed_load = false;\n",
       "  }\n",
       "\n",
       "  var NB_LOAD_WARNING = {'data': {'text/html':\n",
       "     \"<div style='background-color: #fdd'>\\n\"+\n",
       "     \"<p>\\n\"+\n",
       "     \"BokehJS does not appear to have successfully loaded. If loading BokehJS from CDN, this \\n\"+\n",
       "     \"may be due to a slow or bad network connection. Possible fixes:\\n\"+\n",
       "     \"</p>\\n\"+\n",
       "     \"<ul>\\n\"+\n",
       "     \"<li>re-rerun `output_notebook()` to attempt to load from CDN again, or</li>\\n\"+\n",
       "     \"<li>use INLINE resources instead, as so:</li>\\n\"+\n",
       "     \"</ul>\\n\"+\n",
       "     \"<code>\\n\"+\n",
       "     \"from bokeh.resources import INLINE\\n\"+\n",
       "     \"output_notebook(resources=INLINE)\\n\"+\n",
       "     \"</code>\\n\"+\n",
       "     \"</div>\"}};\n",
       "\n",
       "  function display_loaded() {\n",
       "    var el = document.getElementById(\"3507\");\n",
       "    if (el != null) {\n",
       "      el.textContent = \"BokehJS is loading...\";\n",
       "    }\n",
       "    if (root.Bokeh !== undefined) {\n",
       "      if (el != null) {\n",
       "        el.textContent = \"BokehJS \" + root.Bokeh.version + \" successfully loaded.\";\n",
       "      }\n",
       "    } else if (Date.now() < root._bokeh_timeout) {\n",
       "      setTimeout(display_loaded, 100)\n",
       "    }\n",
       "  }\n",
       "\n",
       "\n",
       "  function run_callbacks() {\n",
       "    try {\n",
       "      root._bokeh_onload_callbacks.forEach(function(callback) {\n",
       "        if (callback != null)\n",
       "          callback();\n",
       "      });\n",
       "    } finally {\n",
       "      delete root._bokeh_onload_callbacks\n",
       "    }\n",
       "    console.debug(\"Bokeh: all callbacks have finished\");\n",
       "  }\n",
       "\n",
       "  function load_libs(css_urls, js_urls, callback) {\n",
       "    if (css_urls == null) css_urls = [];\n",
       "    if (js_urls == null) js_urls = [];\n",
       "\n",
       "    root._bokeh_onload_callbacks.push(callback);\n",
       "    if (root._bokeh_is_loading > 0) {\n",
       "      console.debug(\"Bokeh: BokehJS is being loaded, scheduling callback at\", now());\n",
       "      return null;\n",
       "    }\n",
       "    if (js_urls == null || js_urls.length === 0) {\n",
       "      run_callbacks();\n",
       "      return null;\n",
       "    }\n",
       "    console.debug(\"Bokeh: BokehJS not loaded, scheduling load and callback at\", now());\n",
       "    root._bokeh_is_loading = css_urls.length + js_urls.length;\n",
       "\n",
       "    function on_load() {\n",
       "      root._bokeh_is_loading--;\n",
       "      if (root._bokeh_is_loading === 0) {\n",
       "        console.debug(\"Bokeh: all BokehJS libraries/stylesheets loaded\");\n",
       "        run_callbacks()\n",
       "      }\n",
       "    }\n",
       "\n",
       "    function on_error() {\n",
       "      console.error(\"failed to load \" + url);\n",
       "    }\n",
       "\n",
       "    for (var i = 0; i < css_urls.length; i++) {\n",
       "      var url = css_urls[i];\n",
       "      const element = document.createElement(\"link\");\n",
       "      element.onload = on_load;\n",
       "      element.onerror = on_error;\n",
       "      element.rel = \"stylesheet\";\n",
       "      element.type = \"text/css\";\n",
       "      element.href = url;\n",
       "      console.debug(\"Bokeh: injecting link tag for BokehJS stylesheet: \", url);\n",
       "      document.body.appendChild(element);\n",
       "    }\n",
       "\n",
       "    const hashes = {\"https://cdn.bokeh.org/bokeh/release/bokeh-2.2.3.min.js\": \"T2yuo9Oe71Cz/I4X9Ac5+gpEa5a8PpJCDlqKYO0CfAuEszu1JrXLl8YugMqYe3sM\", \"https://cdn.bokeh.org/bokeh/release/bokeh-widgets-2.2.3.min.js\": \"98GDGJ0kOMCUMUePhksaQ/GYgB3+NH9h996V88sh3aOiUNX3N+fLXAtry6xctSZ6\", \"https://cdn.bokeh.org/bokeh/release/bokeh-tables-2.2.3.min.js\": \"89bArO+nlbP3sgakeHjCo1JYxYR5wufVgA3IbUvDY+K7w4zyxJqssu7wVnfeKCq8\"};\n",
       "\n",
       "    for (var i = 0; i < js_urls.length; i++) {\n",
       "      var url = js_urls[i];\n",
       "      var element = document.createElement('script');\n",
       "      element.onload = on_load;\n",
       "      element.onerror = on_error;\n",
       "      element.async = false;\n",
       "      element.src = url;\n",
       "      if (url in hashes) {\n",
       "        element.crossOrigin = \"anonymous\";\n",
       "        element.integrity = \"sha384-\" + hashes[url];\n",
       "      }\n",
       "      console.debug(\"Bokeh: injecting script tag for BokehJS library: \", url);\n",
       "      document.head.appendChild(element);\n",
       "    }\n",
       "  };\n",
       "\n",
       "  function inject_raw_css(css) {\n",
       "    const element = document.createElement(\"style\");\n",
       "    element.appendChild(document.createTextNode(css));\n",
       "    document.body.appendChild(element);\n",
       "  }\n",
       "\n",
       "  \n",
       "  var js_urls = [\"https://cdn.bokeh.org/bokeh/release/bokeh-2.2.3.min.js\", \"https://cdn.bokeh.org/bokeh/release/bokeh-widgets-2.2.3.min.js\", \"https://cdn.bokeh.org/bokeh/release/bokeh-tables-2.2.3.min.js\"];\n",
       "  var css_urls = [];\n",
       "  \n",
       "\n",
       "  var inline_js = [\n",
       "    function(Bokeh) {\n",
       "      Bokeh.set_log_level(\"info\");\n",
       "    },\n",
       "    function(Bokeh) {\n",
       "    \n",
       "    \n",
       "    }\n",
       "  ];\n",
       "\n",
       "  function run_inline_js() {\n",
       "    \n",
       "    if (root.Bokeh !== undefined || force === true) {\n",
       "      \n",
       "    for (var i = 0; i < inline_js.length; i++) {\n",
       "      inline_js[i].call(root, root.Bokeh);\n",
       "    }\n",
       "    if (force === true) {\n",
       "        display_loaded();\n",
       "      }} else if (Date.now() < root._bokeh_timeout) {\n",
       "      setTimeout(run_inline_js, 100);\n",
       "    } else if (!root._bokeh_failed_load) {\n",
       "      console.log(\"Bokeh: BokehJS failed to load within specified timeout.\");\n",
       "      root._bokeh_failed_load = true;\n",
       "    } else if (force !== true) {\n",
       "      var cell = $(document.getElementById(\"3507\")).parents('.cell').data().cell;\n",
       "      cell.output_area.append_execute_result(NB_LOAD_WARNING)\n",
       "    }\n",
       "\n",
       "  }\n",
       "\n",
       "  if (root._bokeh_is_loading === 0) {\n",
       "    console.debug(\"Bokeh: BokehJS loaded, going straight to plotting\");\n",
       "    run_inline_js();\n",
       "  } else {\n",
       "    load_libs(css_urls, js_urls, function() {\n",
       "      console.debug(\"Bokeh: BokehJS plotting callback run at\", now());\n",
       "      run_inline_js();\n",
       "    });\n",
       "  }\n",
       "}(window));"
      ],
      "application/vnd.bokehjs_load.v0+json": "\n(function(root) {\n  function now() {\n    return new Date();\n  }\n\n  var force = true;\n\n  if (typeof root._bokeh_onload_callbacks === \"undefined\" || force === true) {\n    root._bokeh_onload_callbacks = [];\n    root._bokeh_is_loading = undefined;\n  }\n\n  \n\n  \n  if (typeof (root._bokeh_timeout) === \"undefined\" || force === true) {\n    root._bokeh_timeout = Date.now() + 5000;\n    root._bokeh_failed_load = false;\n  }\n\n  var NB_LOAD_WARNING = {'data': {'text/html':\n     \"<div style='background-color: #fdd'>\\n\"+\n     \"<p>\\n\"+\n     \"BokehJS does not appear to have successfully loaded. If loading BokehJS from CDN, this \\n\"+\n     \"may be due to a slow or bad network connection. Possible fixes:\\n\"+\n     \"</p>\\n\"+\n     \"<ul>\\n\"+\n     \"<li>re-rerun `output_notebook()` to attempt to load from CDN again, or</li>\\n\"+\n     \"<li>use INLINE resources instead, as so:</li>\\n\"+\n     \"</ul>\\n\"+\n     \"<code>\\n\"+\n     \"from bokeh.resources import INLINE\\n\"+\n     \"output_notebook(resources=INLINE)\\n\"+\n     \"</code>\\n\"+\n     \"</div>\"}};\n\n  function display_loaded() {\n    var el = document.getElementById(\"3507\");\n    if (el != null) {\n      el.textContent = \"BokehJS is loading...\";\n    }\n    if (root.Bokeh !== undefined) {\n      if (el != null) {\n        el.textContent = \"BokehJS \" + root.Bokeh.version + \" successfully loaded.\";\n      }\n    } else if (Date.now() < root._bokeh_timeout) {\n      setTimeout(display_loaded, 100)\n    }\n  }\n\n\n  function run_callbacks() {\n    try {\n      root._bokeh_onload_callbacks.forEach(function(callback) {\n        if (callback != null)\n          callback();\n      });\n    } finally {\n      delete root._bokeh_onload_callbacks\n    }\n    console.debug(\"Bokeh: all callbacks have finished\");\n  }\n\n  function load_libs(css_urls, js_urls, callback) {\n    if (css_urls == null) css_urls = [];\n    if (js_urls == null) js_urls = [];\n\n    root._bokeh_onload_callbacks.push(callback);\n    if (root._bokeh_is_loading > 0) {\n      console.debug(\"Bokeh: BokehJS is being loaded, scheduling callback at\", now());\n      return null;\n    }\n    if (js_urls == null || js_urls.length === 0) {\n      run_callbacks();\n      return null;\n    }\n    console.debug(\"Bokeh: BokehJS not loaded, scheduling load and callback at\", now());\n    root._bokeh_is_loading = css_urls.length + js_urls.length;\n\n    function on_load() {\n      root._bokeh_is_loading--;\n      if (root._bokeh_is_loading === 0) {\n        console.debug(\"Bokeh: all BokehJS libraries/stylesheets loaded\");\n        run_callbacks()\n      }\n    }\n\n    function on_error() {\n      console.error(\"failed to load \" + url);\n    }\n\n    for (var i = 0; i < css_urls.length; i++) {\n      var url = css_urls[i];\n      const element = document.createElement(\"link\");\n      element.onload = on_load;\n      element.onerror = on_error;\n      element.rel = \"stylesheet\";\n      element.type = \"text/css\";\n      element.href = url;\n      console.debug(\"Bokeh: injecting link tag for BokehJS stylesheet: \", url);\n      document.body.appendChild(element);\n    }\n\n    const hashes = {\"https://cdn.bokeh.org/bokeh/release/bokeh-2.2.3.min.js\": \"T2yuo9Oe71Cz/I4X9Ac5+gpEa5a8PpJCDlqKYO0CfAuEszu1JrXLl8YugMqYe3sM\", \"https://cdn.bokeh.org/bokeh/release/bokeh-widgets-2.2.3.min.js\": \"98GDGJ0kOMCUMUePhksaQ/GYgB3+NH9h996V88sh3aOiUNX3N+fLXAtry6xctSZ6\", \"https://cdn.bokeh.org/bokeh/release/bokeh-tables-2.2.3.min.js\": \"89bArO+nlbP3sgakeHjCo1JYxYR5wufVgA3IbUvDY+K7w4zyxJqssu7wVnfeKCq8\"};\n\n    for (var i = 0; i < js_urls.length; i++) {\n      var url = js_urls[i];\n      var element = document.createElement('script');\n      element.onload = on_load;\n      element.onerror = on_error;\n      element.async = false;\n      element.src = url;\n      if (url in hashes) {\n        element.crossOrigin = \"anonymous\";\n        element.integrity = \"sha384-\" + hashes[url];\n      }\n      console.debug(\"Bokeh: injecting script tag for BokehJS library: \", url);\n      document.head.appendChild(element);\n    }\n  };\n\n  function inject_raw_css(css) {\n    const element = document.createElement(\"style\");\n    element.appendChild(document.createTextNode(css));\n    document.body.appendChild(element);\n  }\n\n  \n  var js_urls = [\"https://cdn.bokeh.org/bokeh/release/bokeh-2.2.3.min.js\", \"https://cdn.bokeh.org/bokeh/release/bokeh-widgets-2.2.3.min.js\", \"https://cdn.bokeh.org/bokeh/release/bokeh-tables-2.2.3.min.js\"];\n  var css_urls = [];\n  \n\n  var inline_js = [\n    function(Bokeh) {\n      Bokeh.set_log_level(\"info\");\n    },\n    function(Bokeh) {\n    \n    \n    }\n  ];\n\n  function run_inline_js() {\n    \n    if (root.Bokeh !== undefined || force === true) {\n      \n    for (var i = 0; i < inline_js.length; i++) {\n      inline_js[i].call(root, root.Bokeh);\n    }\n    if (force === true) {\n        display_loaded();\n      }} else if (Date.now() < root._bokeh_timeout) {\n      setTimeout(run_inline_js, 100);\n    } else if (!root._bokeh_failed_load) {\n      console.log(\"Bokeh: BokehJS failed to load within specified timeout.\");\n      root._bokeh_failed_load = true;\n    } else if (force !== true) {\n      var cell = $(document.getElementById(\"3507\")).parents('.cell').data().cell;\n      cell.output_area.append_execute_result(NB_LOAD_WARNING)\n    }\n\n  }\n\n  if (root._bokeh_is_loading === 0) {\n    console.debug(\"Bokeh: BokehJS loaded, going straight to plotting\");\n    run_inline_js();\n  } else {\n    load_libs(css_urls, js_urls, function() {\n      console.debug(\"Bokeh: BokehJS plotting callback run at\", now());\n      run_inline_js();\n    });\n  }\n}(window));"
     },
     "metadata": {},
     "output_type": "display_data"
    },
    {
     "data": {
      "text/html": [
       "\n",
       "\n",
       "\n",
       "\n",
       "\n",
       "\n",
       "  <div class=\"bk-root\" id=\"e678959d-2d91-4f1f-872f-283af8446ed0\" data-root-id=\"3508\"></div>\n"
      ]
     },
     "metadata": {},
     "output_type": "display_data"
    },
    {
     "data": {
      "application/javascript": [
       "(function(root) {\n",
       "  function embed_document(root) {\n",
       "    \n",
       "  var docs_json = {\"ce39cd2a-4ebc-44c5-9063-cfa265d08b23\":{\"roots\":{\"references\":[{\"attributes\":{\"below\":[{\"id\":\"3519\"}],\"center\":[{\"id\":\"3522\"},{\"id\":\"3526\"},{\"id\":\"3554\"}],\"left\":[{\"id\":\"3523\"}],\"plot_height\":400,\"plot_width\":800,\"renderers\":[{\"id\":\"3544\"},{\"id\":\"3559\"},{\"id\":\"3575\"},{\"id\":\"3593\"},{\"id\":\"3613\"}],\"title\":{\"id\":\"3509\"},\"toolbar\":{\"id\":\"3534\"},\"x_range\":{\"id\":\"3511\"},\"x_scale\":{\"id\":\"3515\"},\"y_range\":{\"id\":\"3513\"},\"y_scale\":{\"id\":\"3517\"}},\"id\":\"3508\",\"subtype\":\"Figure\",\"type\":\"Plot\"},{\"attributes\":{\"data_source\":{\"id\":\"3610\"},\"glyph\":{\"id\":\"3611\"},\"hover_glyph\":null,\"muted_glyph\":null,\"nonselection_glyph\":{\"id\":\"3612\"},\"selection_glyph\":null,\"view\":{\"id\":\"3614\"}},\"id\":\"3613\",\"type\":\"GlyphRenderer\"},{\"attributes\":{\"source\":{\"id\":\"3572\"}},\"id\":\"3576\",\"type\":\"CDSView\"},{\"attributes\":{\"line_color\":\"green\",\"x\":{\"field\":\"x\"},\"y\":{\"field\":\"y\"}},\"id\":\"3573\",\"type\":\"Line\"},{\"attributes\":{\"label\":{\"value\":\"l=60\"},\"renderers\":[{\"id\":\"3575\"}]},\"id\":\"3589\",\"type\":\"LegendItem\"},{\"attributes\":{\"data\":{\"x\":{\"__ndarray__\":\"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\",\"dtype\":\"float64\",\"order\":\"little\",\"shape\":[401]},\"y\":{\"__ndarray__\":\"AI0G8BZIkL8AsFBrmnd8vwDMf0i/fX2/gJ7Nqs/Vlj8AzH9Iv32NP4CDns2qz5U/gNy1hHzQkz8AYqHWNO+YP4C8dJMYBJY/AAOaCBuenj8AejarPlebP4DwFkhQ/Jg/AGHD0ytliT+AERQ/xtyVPwCNKO0NvpA/AFdbsb/sjj8AW9O84xSNPwCASL99HZg/gPjCZKpglD+AfNCzWfWZP0D029eBc6Y/gCXkg57Nqj9AW0I+6NmsPyCZKhiV1LE/QEATYcPTsz8gtvP91HixP0AjSnuDL7Q/QAwCK4cWsT8Avw6cM6KkP4B6FK5H4Zo/gGHD0ytlmT8Asi5uowGcP4BBYOXQIps/AEXY8PRKmT+A1sVtNICXP0CHhVrTvKM/gDCZKhiVpD9AUwWjkjqhPwBF2PD0Spk/QH2utmJ/sT/A9Shcj8K1P2D35GGh1rQ/4KWbxCCwsj+gz9VW7C+zP2CYTBWMSrI/4PUoXI/CtT+ApgpGJXWyP4BjXdxGA7A/gEI+6Nmsqj8AFR3J5T+kPwBvgQTFj6E/gOMUHcnlnz8AUWuad5yiP8Cd76fGS6c/gKyL22gArz9AJXUCmgirP8AHPZtVn6s/QDMzMzMzoz+AL0ymCkalP2DjpZvEILA/AOqVsgxxrD+gU3Qkl/+wP8De4AuTqbI/YCnLEMe6sD/ArwPnjCitP0BR2ht8YbI/YBe30QDesj+ge/KwUGu6P2Csi9toAL8/gEs3iUFgvT9AkKD4Mea+P2D+Q/rt68A/wKz6XG3Fvj+AqYJRSZ3AP1DhehSuR8E/ANBE2PD0wj+g76fGSzfFP3CcoiO5/MM/QOF6FK5HxT/wYaHWNO/IP6D/kH77Osw/cC9MpgpGzT8wZ0Rpb/DNPzAIrBxaZM8/iIVa07zj0D/QAN4CCYrRPwj5oGez6tM/+EpZhjjW1T94CyQofozZP3jOiNLe4Nk/ODy9UpYh2j/w/dR46SbbP0jPZtXnats/8OI2GsBb3j+wpE5AE2HfP5gqGJXUCeA/0BDHuriN4D98SL99HTjhP7T8h/Tb1+E/AN4CCYof4j8sbqMBvAXiP+Slm8QgsOI/9EpZhjjW4j/QvOMUHcnjP8QpOpLLf+Q/oDOitDf44z8McayL22jjP4zC9Shcj+Q/+ORhodY05D8wbqMBvAXkP6hns+pzteI/hCbChqdX4j/ccYqO5PLhP8zuycNCreI/vH0dOGdE4z+8rwPnjCjjP1TaG3xhMuQ/+H5qvHST5T/g14FzRpTmP2jV52or9uY/UEmdgCbC6D8A1XjpJjHpPyQofoy5a+k/tI0G8BZI6T/whclUwajoP2x4eqUsQ+k/7AQ0ETY86j/cT42XbhLqP0CbVZ+rrek/rGBUUieg6T+c3ZOHhVrpP3T5D+m3r+g/WNO84xQd6D8c6+I2GsDnPxziWBe30ec/aCJseHql5z/EQq1p3nHnP1h0JJf/kOc/IIXrUbge5z9QSZ2AJsLnP5yrrdhfduc/bFZ9rrZi5z+o6Egu/yHnP7CL22gAb+c/jP1l9+Rh5z9sgQTFjzHnP9g07zhFR+c/oNY07zhF5z+cu5aQD3rnP8CopE5AE+g/UI2XbhKD6D8YrkfhehTpPwDeAgmKH+g/lNQJaCJs5z/g8PRKWYbmP2TuWkI+6OQ/UJYhjnVx4z8EVg4tsp3hP4AvTKYKRuA/HDhnRGlv4D8wuycPC7XeP/i52or9Zd8/CJF++zpw3j8AZvfkYaHeP1gnoImw4ds/UHQkl/+Q2D9Ixty1hHzWPyg6kst/SNM/kA96Nqs+0T8Ypb3BFybRPwDTTWIQWNE/aPkP6bev0z9YF7fRAN7SP6C9wRcmU9E/yAc9m1Wf0T9Y2ht8YTLRPwjFjzF3LdE/sOpztRX70T+QQ4ts5/vRP7hrCfmgZ9M/KJCg+DHm1D8IxY8xdy3XP0jo2az6XNk/YN5xio7k2D8YDeAtkKDYP5Bs5/up8do/wEKtad5x2j/ISzeJQWDbPxCcM6K0N9o/wB6F61G42j+wN/jCZKraP/CePCzUmto/EC2yne+n3D94jLlrCfncP2CGONbFbdw/6D+k374O2j9Yr5RliGPZP4jpJjEIrNg/ED/G3LWE2j94WKg1zTvaP4BIv30dONs/OEymCkYl2z+IPzVeuknaP8B/SL99Hdo/oJvEILBy2j/gX3ZPHhbaP/A4RUdy+dk/EHgLJCh+2j84zTtO0ZHcP1BJnYAmwt4/AI9TdCSX3z84tMh2vp/eP0hHcvkP6d0/iP1l9+Rh3T/ojCjtDb7aP0itad5xitg/sLQ3+MJk1j9gqDXNO07VPyDJ5T+k39Q/8GxWfa621D8IK4cW2c7RP0B5WKg1zc8/MARWDi2yzT9AaW/whcnMPxAJih9j7so/8P3UeOkmyT8AutqK/WXHP9BLN4lBYMk/gHzQs1n1xT+A9NvXgXPGPxCuR+F6FMI/YA3gLZCguD/gaABvgQS9P6CFWtO848A/gNk9eVioxT9wvHSTGATGPyBTBaOSOsU/8AZfmEwVyD9AmSoYldTFPyBKe4MvTMI/EPAWSFD8wD+QdXEbDeDBP1CWIY51ccM/sK8D54woyT+gTkATYcPHP9BILv8h/cI/sL3BFyZTwT+A5/up8dK9PyAofoy5a8E/cJhMFYxKwj+Qh4Va07zHP5AIG55eKcc/4MeYu5aQxz9g/kP67evIPxAUP8bctcg/gBbZzvdTyz9AOpLLf0jLP0ADeAskKM4/0AuTqYJRzT8A54wo7Q3OP/CTh4Va08g/INv5fmq8yD9gwaikTkDDP5BjXdxGA8Q/QDMzMzMzwz8w2/l+arzAP4CO5PIf0r8/wCQGgZVDuz+A6SYxCKzAP4DV52or9r8/gBBYObTIvj/gmLuWkA/CP1Au/yH99sE/AGTMXUvIvz+whqdXyjLAP2D+Q/rt68A/wCk6kst/xD+gfvs6cM7AP8AwmSoYlcA/II51cRsNwD/gvg6cM6K8PwC/Dpwzorw/QGb35GGhtj8Ao5I6AU28P1Cfq63YX8Y/4FG4HoXrxT+g+DHmriXEPzD/If32dcQ/cCv2l92Twz+Q9NvXgXPCP3Csi9toAMM/gMcpOpLLwz9AtMh2vp/CPyC30QDeAsE/oOYdp+hIwj/gGVHaG3zBP5DbaABvgcA/UGIQWDm0xD8QyeU/pN/CP/CVsgxxrMM/cCSX/5B+wz9Q0ZFc/kPCP8D1KFyPwsE/MCqpE9BEwD+QM6K0N/jCP0BVMCqpE8A/MGPuWkI+wD+gFyZTBaO6P4A0gLdAgro/QJtVn6utsD9AJJf/kH6rP4Adp+hILq8/wMvuycNCrT9g7C+7Jw+zPwCuR+F6FK4/wCGOdXEbrT/AuI0G8BaoP4AIG55eKbM/gG3F/rJ7sj9A3EYDeAukPwDMf0i/fX0/ALn8h/Tbh78ASgwCK4eGvwAWrkfhenQ/gHEbDeAtoD8AduCcEaW1P8CSOgFNhLU/ALFQa5p3tD/AoiO5/IekP4DuWkI+6Jk/gBSuR+F6pD+AZmZmZmamPwC06nO1FZs/gKWbxCCwkr+AlUOLbOerv4A6AU2EDa+/QOwvuycPq7/A4emVsgyhvwD+1HjpJpG/AM07TtGRrD8Aj1N0JJefP4D5oGez6pM/AF9LyAc9iz8AxCCwcmhxPwCBJsKGp4c/gIts5/upoT8ACoofY+6KP4Dnaiv2l52/gCjtDb4wqb/ghclUwai0v2DsL7snD7O/AKjGSzeJsb8A1XjpJjGov4Bg5dAi25m/gG+BBMWPkb8AmpmZmZl5vwAAs3vysIA/AGiz6nO1ZT8AwoanV8qSvwAUrkfheoQ/ADm0yHa+j79ACfmgZ7Oqv4C3QILix7C/wEFg5dAiq7+AcM6I0t6gv0ASFD/G3KW/gDXvOEVHkr/APldbsb+sP4B5xyk6kqs/wHecoiO5rD8ASS7/If2mPwAIrBxaZKs/wLq4jQbwpj+AV1uxv+yuPwDwFkhQ/LA/AJCg+DHmrj/As1n1udqqPyBMpgpGJbU/4OmVsgxxwD9w9+RhodbAP9A5I0p7g8M/AMzuycNCzT+Ab/CFyVTFP8AnDwu1psE/YF3cRgN4uz8gwoanV8q6PyC8BRIUP7Y/4CtlGeJYtz8A001iEFixPwBSuB6F67E/oLQ3+MJksj8gk6mCUUm9P6CUZYhjXbw/YMoyxLEutj+g6Egu/yG1P8B9HThnRLE/oLQ3+MJksj+gNc07TtG5P2BxGw3gLbg/oGJ/2T15uD8gak3zjlO0Pw==\",\"dtype\":\"float64\",\"order\":\"little\",\"shape\":[401]}},\"selected\":{\"id\":\"3551\"},\"selection_policy\":{\"id\":\"3552\"}},\"id\":\"3541\",\"type\":\"ColumnDataSource\"},{\"attributes\":{\"source\":{\"id\":\"3610\"}},\"id\":\"3614\",\"type\":\"CDSView\"},{\"attributes\":{\"data_source\":{\"id\":\"3541\"},\"glyph\":{\"id\":\"3542\"},\"hover_glyph\":null,\"muted_glyph\":null,\"nonselection_glyph\":{\"id\":\"3543\"},\"selection_glyph\":null,\"view\":{\"id\":\"3545\"}},\"id\":\"3544\",\"type\":\"GlyphRenderer\"},{\"attributes\":{\"label\":{\"value\":\"l=80\"},\"renderers\":[{\"id\":\"3613\"}]},\"id\":\"3631\",\"type\":\"LegendItem\"},{\"attributes\":{\"data\":{\"x\":{\"__ndarray__\":\"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\",\"dtype\":\"float64\",\"order\":\"little\",\"shape\":[401]},\"y\":{\"__ndarray__\":\"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\",\"dtype\":\"float64\",\"order\":\"little\",\"shape\":[401]}},\"selected\":{\"id\":\"3628\"},\"selection_policy\":{\"id\":\"3629\"}},\"id\":\"3610\",\"type\":\"ColumnDataSource\"},{\"attributes\":{\"line_alpha\":0.1,\"line_color\":\"green\",\"x\":{\"field\":\"x\"},\"y\":{\"field\":\"y\"}},\"id\":\"3574\",\"type\":\"Line\"},{\"attributes\":{},\"id\":\"3532\",\"type\":\"HelpTool\"},{\"attributes\":{\"axis\":{\"id\":\"3519\"},\"ticker\":null},\"id\":\"3522\",\"type\":\"Grid\"},{\"attributes\":{\"source\":{\"id\":\"3556\"}},\"id\":\"3560\",\"type\":\"CDSView\"},{\"attributes\":{\"line_alpha\":0.1,\"line_color\":\"orange\",\"x\":{\"field\":\"x\"},\"y\":{\"field\":\"y\"}},\"id\":\"3612\",\"type\":\"Line\"},{\"attributes\":{\"text\":\"Spectral data from Galactic observations with baseline subtracted\"},\"id\":\"3509\",\"type\":\"Title\"},{\"attributes\":{},\"id\":\"3517\",\"type\":\"LinearScale\"},{\"attributes\":{},\"id\":\"3548\",\"type\":\"BasicTickFormatter\"},{\"attributes\":{},\"id\":\"3515\",\"type\":\"LinearScale\"},{\"attributes\":{\"line_color\":\"red\",\"x\":{\"field\":\"x\"},\"y\":{\"field\":\"y\"}},\"id\":\"3557\",\"type\":\"Line\"},{\"attributes\":{\"data_source\":{\"id\":\"3556\"},\"glyph\":{\"id\":\"3557\"},\"hover_glyph\":null,\"muted_glyph\":null,\"nonselection_glyph\":{\"id\":\"3558\"},\"selection_glyph\":null,\"view\":{\"id\":\"3560\"}},\"id\":\"3559\",\"type\":\"GlyphRenderer\"},{\"attributes\":{\"data\":{\"x\":{\"__ndarray__\":\"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\",\"dtype\":\"float64\",\"order\":\"little\",\"shape\":[401]},\"y\":{\"__ndarray__\":\"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\",\"dtype\":\"float64\",\"order\":\"little\",\"shape\":[401]}},\"selected\":{\"id\":\"3568\"},\"selection_policy\":{\"id\":\"3569\"}},\"id\":\"3556\",\"type\":\"ColumnDataSource\"},{\"attributes\":{},\"id\":\"3511\",\"type\":\"DataRange1d\"},{\"attributes\":{},\"id\":\"3586\",\"type\":\"Selection\"},{\"attributes\":{\"label\":{\"value\":\"l=50\"},\"renderers\":[{\"id\":\"3559\"}]},\"id\":\"3571\",\"type\":\"LegendItem\"},{\"attributes\":{},\"id\":\"3550\",\"type\":\"BasicTickFormatter\"},{\"attributes\":{},\"id\":\"3628\",\"type\":\"Selection\"},{\"attributes\":{},\"id\":\"3528\",\"type\":\"WheelZoomTool\"},{\"attributes\":{\"data\":{\"x\":{\"__ndarray__\":\"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\",\"dtype\":\"float64\",\"order\":\"little\",\"shape\":[401]},\"y\":{\"__ndarray__\":\"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\",\"dtype\":\"float64\",\"order\":\"little\",\"shape\":[401]}},\"selected\":{\"id\":\"3586\"},\"selection_policy\":{\"id\":\"3587\"}},\"id\":\"3572\",\"type\":\"ColumnDataSource\"},{\"attributes\":{},\"id\":\"3520\",\"type\":\"BasicTicker\"},{\"attributes\":{\"line_alpha\":0.1,\"line_color\":\"red\",\"x\":{\"field\":\"x\"},\"y\":{\"field\":\"y\"}},\"id\":\"3558\",\"type\":\"Line\"},{\"attributes\":{},\"id\":\"3587\",\"type\":\"UnionRenderers\"},{\"attributes\":{\"axis_label\":\"Velocity (km / s)\",\"formatter\":{\"id\":\"3550\"},\"ticker\":{\"id\":\"3520\"}},\"id\":\"3519\",\"type\":\"LinearAxis\"},{\"attributes\":{\"data_source\":{\"id\":\"3572\"},\"glyph\":{\"id\":\"3573\"},\"hover_glyph\":null,\"muted_glyph\":null,\"nonselection_glyph\":{\"id\":\"3574\"},\"selection_glyph\":null,\"view\":{\"id\":\"3576\"}},\"id\":\"3575\",\"type\":\"GlyphRenderer\"},{\"attributes\":{},\"id\":\"3530\",\"type\":\"SaveTool\"},{\"attributes\":{},\"id\":\"3513\",\"type\":\"DataRange1d\"},{\"attributes\":{},\"id\":\"3629\",\"type\":\"UnionRenderers\"},{\"attributes\":{\"axis_label\":\"Intensity\",\"formatter\":{\"id\":\"3548\"},\"ticker\":{\"id\":\"3524\"}},\"id\":\"3523\",\"type\":\"LinearAxis\"},{\"attributes\":{\"axis\":{\"id\":\"3523\"},\"dimension\":1,\"ticker\":null},\"id\":\"3526\",\"type\":\"Grid\"},{\"attributes\":{\"active_drag\":\"auto\",\"active_inspect\":\"auto\",\"active_multi\":null,\"active_scroll\":\"auto\",\"active_tap\":\"auto\",\"tools\":[{\"id\":\"3527\"},{\"id\":\"3528\"},{\"id\":\"3529\"},{\"id\":\"3530\"},{\"id\":\"3531\"},{\"id\":\"3532\"},{\"id\":\"3632\"}]},\"id\":\"3534\",\"type\":\"Toolbar\"},{\"attributes\":{},\"id\":\"3524\",\"type\":\"BasicTicker\"},{\"attributes\":{},\"id\":\"3527\",\"type\":\"PanTool\"},{\"attributes\":{\"label\":{\"value\":\"l=40\"},\"renderers\":[{\"id\":\"3544\"}]},\"id\":\"3555\",\"type\":\"LegendItem\"},{\"attributes\":{\"overlay\":{\"id\":\"3533\"}},\"id\":\"3529\",\"type\":\"BoxZoomTool\"},{\"attributes\":{\"click_policy\":\"hide\",\"items\":[{\"id\":\"3555\"},{\"id\":\"3571\"},{\"id\":\"3589\"},{\"id\":\"3609\"},{\"id\":\"3631\"}],\"location\":\"top_left\"},\"id\":\"3554\",\"type\":\"Legend\"},{\"attributes\":{\"line_color\":\"#1f77b4\",\"x\":{\"field\":\"x\"},\"y\":{\"field\":\"y\"}},\"id\":\"3542\",\"type\":\"Line\"},{\"attributes\":{},\"id\":\"3568\",\"type\":\"Selection\"},{\"attributes\":{\"data\":{\"x\":{\"__ndarray__\":\"ZKtO5C8bZUC4YOHKavlkQAwWdLGl12RAYcsGmOC1ZEC1gJl+G5RkQAk2LGVWcmRAXeu+S5FQZECxoFEyzC5kQAZW5BgHDWRAWgt3/0HrY0CuwAnmfMljQAJ2nMy3p2NAVisvs/KFY0Cr4MGZLWRjQP+VVIBoQmNAU0vnZqMgY0CnAHpN3v5iQPu1DDQZ3WJAUGufGlS7YkCkIDIBj5liQPjVxOfJd2JATItXzgRWYkCgQOq0PzRiQPX1fJt6EmJASasPgrXwYUCdYKJo8M5hQPEVNU8rrWFARcvHNWaLYUCagFocoWlhQO417QLcR2FAQut/6RYmYUCWoBLQUQRhQOlVpbaM4mBAPgs4ncfAYECSwMqDAp9gQOZ1XWo9fWBAOivwUHhbYECP4II3szlgQOOVFR7uF2BAb5ZQCVLsX0AXAXbWx6hfQL5rm6M9ZV9AZ9bAcLMhX0APQeY9Kd5eQLirCwufml5AYBYx2BRXXkAIgValihNeQLHre3IA0F1AWVahP3aMXUACwcYM7EhdQKor7NlhBV1AUpYRp9fBXED7ADd0TX5cQKNrXEHDOlxATNaBDjn3W0D0QKfbrrNbQJyrzKgkcFtARRbydZosW0DtgBdDEOlaQJbrPBCGpVpAPVZi3fthWkDlwIeqcR5aQI4rrXfn2llANpbSRF2XWUDfAPgR01NZQIdrHd9IEFlAL9ZCrL7MWEDYQGh5NIlYQICrjUaqRVhAKRazEyACWEDRgNjglb5XQHnr/a0Le1dAIlYje4E3V0DKwEhI9/NWQHMrbhVtsFZAG5aT4uJsVkDDALmvWClWQGxr3nzO5VVAE9YDSkSiVUC8QCkXul5VQGSrTuQvG1VADBZ0saXXVEC1gJl+G5RUQF3rvkuRUFRABlbkGAcNVECuwAnmfMlTQFYrL7PyhVNA/5VUgGhCU0CnAHpN3v5SQFBrnxpUu1JA+NXE58l3UkCgQOq0PzRSQEmrD4K18FFA8RU1TyutUUCagFocoWlRQELrf+kWJlFA6VWltoziUECSwMqDAp9QQDor8FB4W1BA45UVHu4XUEAXAXbWx6hPQGfWwHCzIU9AuKsLC5+aTkAIgValihNOQFlWoT92jE1Aqivs2WEFTUD7ADd0TX5MQEzWgQ4590tAnKvMqCRwS0DtgBdDEOlKQD1WYt37YUpAjiutd+faSUDfAPgR01NJQC/WQqy+zEhAgKuNRqpFSEDRgNjglb5HQCJWI3uBN0dAcytuFW2wRkDDALmvWClGQBPWA0pEokVAZKtO5C8bRUC1gJl+G5REQAZW5BgHDURAVisvs/KFQ0CnAHpN3v5CQPjVxOfJd0JASasPgrXwQUCagFocoWlBQOlVpbaM4kBAOivwUHhbQEAXAXbWx6g/QLirCwufmj5AWVahP3aMPUD7ADd0TX48QJyrzKgkcDtAPVZi3fthOkDfAPgR01M5QICrjUaqRThAIlYje4E3N0DDALmvWCk2QGSrTuQvGzVABlbkGAcNNECnAHpN3v4yQEmrD4K18DFA6VWltoziMEAXAXbWx6gvQFlWoT92jC1AnKvMqCRwK0DfAPgR01MpQCJWI3uBNydAZKtO5C8bJUCnAHpN3v4iQOlVpbaM4iBAWVahP3aMHUDfAPgR01MZQGSrTuQvGxVA6VWltoziEEDfAPgR01MJQOlVpbaM4gBA6VWltozi8D8AAAAAAAAAgOlVpbaM4vC/6VWltoziAMDfAPgR01MJwOlVpbaM4hDAZKtO5C8bFcDfAPgR01MZwFlWoT92jB3A6VWltoziIMCnAHpN3v4iwGSrTuQvGyXAIlYje4E3J8DfAPgR01MpwJyrzKgkcCvAWVahP3aMLcAXAXbWx6gvwOlVpbaM4jDASasPgrXwMcCnAHpN3v4ywAZW5BgHDTTAZKtO5C8bNcDDALmvWCk2wCJWI3uBNzfAgKuNRqpFOMDfAPgR01M5wD1WYt37YTrAnKvMqCRwO8D7ADd0TX48wFlWoT92jD3AuKsLC5+aPsAXAXbWx6g/wDor8FB4W0DA6VWltoziQMCagFocoWlBwEmrD4K18EHA+NXE58l3QsCnAHpN3v5CwFYrL7PyhUPABlbkGAcNRMC1gJl+G5REwGSrTuQvG0XAE9YDSkSiRcDDALmvWClGwHMrbhVtsEbAIlYje4E3R8DRgNjglb5HwICrjUaqRUjAL9ZCrL7MSMDfAPgR01NJwI4rrXfn2knAPVZi3fthSsDtgBdDEOlKwJyrzKgkcEvATNaBDjn3S8D7ADd0TX5MwKor7NlhBU3AWVahP3aMTcAIgValihNOwLirCwufmk7AZ9bAcLMhT8AXAXbWx6hPwOOVFR7uF1DAOivwUHhbUMCSwMqDAp9QwOlVpbaM4lDAQut/6RYmUcCagFocoWlRwPEVNU8rrVHASasPgrXwUcCgQOq0PzRSwPjVxOfJd1LAUGufGlS7UsCnAHpN3v5SwP+VVIBoQlPAVisvs/KFU8CuwAnmfMlTwAZW5BgHDVTAXeu+S5FQVMC1gJl+G5RUwAwWdLGl11TAZKtO5C8bVcC8QCkXul5VwBPWA0pEolXAbGvefM7lVcDDALmvWClWwBuWk+LibFbAcytuFW2wVsDKwEhI9/NWwCJWI3uBN1fAeev9rQt7V8DRgNjglb5XwCkWsxMgAljAgKuNRqpFWMDYQGh5NIlYwC/WQqy+zFjAh2sd30gQWcDfAPgR01NZwDaW0kRdl1nAjiutd+faWcDlwIeqcR5awD1WYt37YVrAlus8EIalWsDtgBdDEOlawEUW8nWaLFvAnKvMqCRwW8D0QKfbrrNbwEzWgQ4591vAo2tcQcM6XMD7ADd0TX5cwFKWEafXwVzAqivs2WEFXcACwcYM7EhdwFlWoT92jF3Aset7cgDQXcAIgValihNewGAWMdgUV17AuKsLC5+aXsAPQeY9Kd5ewGfWwHCzIV/Avmuboz1lX8AXAXbWx6hfwG+WUAlS7F/A45UVHu4XYMCP4II3szlgwDor8FB4W2DA5nVdaj19YMCSwMqDAp9gwD4LOJ3HwGDA6VWltoziYMCWoBLQUQRhwELrf+kWJmHA7jXtAtxHYcCagFocoWlhwEXLxzVmi2HA8RU1TyutYcCdYKJo8M5hwEmrD4K18GHA9fV8m3oSYsCgQOq0PzRiwEyLV84EVmLA+NXE58l3YsCkIDIBj5liwFBrnxpUu2LA+7UMNBndYsCnAHpN3v5iwFNL52ajIGPA/5VUgGhCY8Cr4MGZLWRjwFYrL7PyhWPAAnaczLenY8CuwAnmfMljwFoLd/9B62PABlbkGAcNZMCxoFEyzC5kwF3rvkuRUGTACTYsZVZyZMC1gJl+G5RkwGHLBpjgtWTADBZ0saXXZMC4YOHKavlkwGSrTuQvG2XAEPa7/fQ8ZcC8QCkXul5lwGeLljB/gGXAE9YDSkSiZcC/IHFjCcRlwGxr3nzO5WXAGLZLlpMHZsDDALmvWClmwG9LJskdS2bAG5aT4uJsZsDH4AD8p45mwHMrbhVtsGbAHnbbLjLSZsDKwEhI9/NmwHYLtmG8FWfAIlYje4E3Z8DOoJCURllnwHnr/a0Le2fAJTZrx9CcZ8DRgNjglb5nwH3LRfpa4GfAKRazEyACaMDUYCAt5SNowICrjUaqRWjALPb6X29naMDYQGh5NIlowISL1ZL5qmjAL9ZCrL7MaMDbILDFg+5owIdrHd9IEGnAM7aK+A0yacDfAPgR01NpwIpLZSuYdWnANpbSRF2XacDi4D9eIrlpwI4rrXfn2mnAOnYakaz8acDlwIeqcR5qwJEL9cM2QGrAPVZi3fthasDpoM/2wINqwJbrPBCGpWrAQTaqKUvHasDtgBdDEOlqwJnLhFzVCmvARRbydZosa8DxYF+PX05rwJyrzKgkcGvASPY5wumRa8D0QKfbrrNrwKCLFPVz1WvATNaBDjn3a8D3IO8n/hhswKNrXEHDOmzAT7bJWohcbMD7ADd0TX5swKdLpI0SoGzAUpYRp9fBbMD+4H7AnONswKor7NlhBW3AVnZZ8yYnbcACwcYM7EhtwK0LNCaxam3AWVahP3aMbcAFoQ5ZO65twLHre3IA0G3AXTbpi8XxbcAIgValihNuwLTLw75PNW7AYBYx2BRXbsAMYZ7x2XhuwLirCwufmm7AY/Z4JGS8bsAPQeY9Kd5uwLuLU1fu/27AZ9bAcLMhb8ATIS6KeENvwL5rm6M9ZW/AarYIvQKHb8AXAXbWx6hvwA==\",\"dtype\":\"float64\",\"order\":\"little\",\"shape\":[401]},\"y\":{\"__ndarray__\":\"AO0NvjCZsr9g7lpCPuixv9BSliGOdbG/ADtwzojSrr/gP6Tfvg60v2AZ4lgXt7G/QBiV1Alosr8w8WPMXUuwv2A9CtejcK2/IJYhjnVxq7/AkVz+Q/qtv8Cye/KwUKu/YH/ZPXlYsL+AB84ZUdqrv6C7lpAPeqa/AHUCmggbnr+Ad5yiI7mcv8DgC5OpgqG/AOeMKO0Nnr8ASFD8GHOXv4CgibDh6ZW/AL8OnDOilL+AKcsQx7qYvwDAuI0G8Da/AGb35GGhhr8A16NwPQqHvwDUK2UZ4oi/ADeJQWDlgL8AApoIG56OvwB/arx0k5i/gGNd3EYDmL+A4emVsgyRvwB3vp8aL52/wGbV52orpr/AvOMUHcmlv0DEsS5uo6G/QME5I0p7o7/A2az6XG2lvwBE+u3rwKm/AHgLJCh+rL/A0CLb+X6qvwDarPpcbaW/wEW28/3UqL9AqDXNO06hv4Ddk4eFWqO/AIPAyqFFlr8AXinLEMeavwBseHqlLKO/wJrmHafoqL9AR3L5D+mnv4D9ZffkYaG/gG/whclUob8Ap+hILv+hv4BwPQrXo6C/gOhILv8hnb8Afoy5awmZvwDFjzF3LaG/wFG4HoXrob/AhHzQs1mlv8DGSzeJQaC/AGx4eqUso7+ApE5AE2GjvwCyLm6jAZy/gGWIY13cpr+ALSEf9Gymv0DWNO84Rae/gGSqYFRSp7+Ah4Va07yjvwB0RpT2Bo+/AIBqvHSTiL8A6K4l5IN+PwCQSuoENFG/AOziNhrAi78AAt4CCYp/vwDcT42XbmK/AN3XgXNGhL8A+H5qvHRzPwDAf0i/fU0/AAAAAAAAAAAAxY8xdy2hPwBdbcX+sps/AGNd3EYDmD8A/Bhz1xKSP4C8dJMYBJY/gMjlP6Tfnj+AXG3F/rKbPwBseHqlLKM/AL4wmSoYpT/AVZ+rrdivP0ADCYofY64/gKyL22gArz/A91PjpZu0P8AsQxzr4rY/YC0hH/Rsvj8gUdobfGG6P4DJVMGopLY/QKs+V1uxtz/gwmSqYFS6PyBKe4MvTL4/gN2Th4Vauz9gb/CFyVS5P+Ai2/l+arw/wAPnjCjtvT8w8WPMXUvAP1CvlGWIY8E/4GGh1jTvwD9AGsBbIEHBP+BRuB6F68E/4JOHhVrTwD8Aq8/VVuy/P4CdgCbChr8/oPTb14Fzvj/As1n1udq6P2CdgCbChr8/cOCcEaW9wT8A7MA5I0rDP7BSliGOdcU/QN9PjZduxj/Av+yePCzIP0BwzojS3sg/8Gor9pfdyz8Q16NwPQrLP7DRAN4CCco/gHzQs1n1yT/gx5i7lpDHP7A1zTtO0ck/0JrmHafoyD9gke18PzXKPwBtVn2utso/QB4Wak3zyj/Qs1n1udrKP9C84xQdyck/MMbctYR8yD/gvg6cM6LIP9DuycNCrck/gIMvTKYKyj9AlPYGX5jMP1CmCkYldc4/UI2XbhKD0D9IhA1Pr5TRP5C7lpAPetI/2FbsL7sn1T+gibDh6ZXWP7BQa5p3nNg/GCZTBaOS2j+YoiO5/IfcPwDM7snDQt0/kA96Nqs+3z/E7J48LNTgP/yH9NvXgeE/MLKd76fG4j9UuB6F61HkP5D2Bl+YTOU//DpwzojS5T9AAU2EDU/mP7jRAN4CCec/+AZfmEwV5z88CtejcD3nP2yBBMWPMec/iB9j7lpC5z/s68A5I0rmP6h5xyk6kuY/KI51cRsN5j+coiO5/IflP3RfB84ZUeQ/UEATYcPT4j9Y7C+7Jw/hP3BxGw3gLd4/gLdAguLH2j8gfGEyVTDYP0C0yHa+n9Y/QHL5D+m31T9QQBNhw9PTPyhTBaOSOtM/mFWfq63Y0z8Y+8vuycPSP7BgVFInoNM/gIy5awn50j9g5dAi2/nQP1hbsb/sntA/gKmCUUmdzD9AZ0Rpb/DNPzCX/5B++84/4GxWfa62zj/QYaHWNO/MP/D7qfHSTc4/YFRSJ6CJzD/w+6nx0k3OP4DysFBrmss/cA4tsp3vyz9AlPYGX5jMPzDNO07Rkcw/sO+nxks3zT8wzTtO0ZHMPyD0bFZ9rso/AIj029eBxz+w374OnDPGPyBaZDvfT8U/QNjw9EpZxj+ASuoENBHGP8CEfNCzWcU/oKIjufyHxD9AiUFg5dDCP2B4eqUsQ8Q/kBgEVg4txj/AwRcmUwXHPzCAt0CC4sc/UFD8GHPXxj+goiO5/IfIP/CePCzUmso/QFUwKqkTzD8w2/l+arzMP4A2qz5XW80/8B/Sb18Hzj+gvcEXJlPNP1B5WKg1zcs/IAu1pnnHzT/gVuwvuyfPP8hkqmBUUtE/aNcS8kHP0j8I1XjpJjHSP+iePCzUmtI/UOF6FK5H0z8Ab4EExY/TP4AtIR/0bNQ/mJmZmZmZ1T8AiPTb14HVPzheukkMAtc/sCXkg57N1D+YM6K0N/jUPzAzMzMzM9E/EO7rwDkjzj8gp+hILv/NP5DZPXlYqM0/2Bt8YTJV0D9ACKwcWmTPP7A+V1uxv8w/QJLLf0i/yT8QEOm3rwPHP/BsVn2utsI/0D15WKg1wT9w8IXJVMHAP+A07zhFR7o/YK+UZYhjvT/A3uALk6m6P0DXEvJBz7Y/oAbwFkhQtD9AXrpJDAKzP8A7TtGRXLY/gMxdS8gHtT/Az9VW7C+zP4BVn6ut2K8/gHVxGw3grT8AOUVHcvmvP0BWfa62Yq8/YL6fGi/dtD/gCWgibHiyPyD2l92Th7U/wHGKjuTytz+AY13cRgO4P6Cg+DHmrrU/ANV46SYxuD8g54wo7Q22P4DTvOMUHbE/gJHtfD81rj/AQWDl0CKrP4DZPXlYqKU/AKrx0k1ioD8AqvHSTWKgP8BxGw3gLaA/gGDl0CLbmT8ATRWMSuqkP4DsL7snD6s/AE2EDU+vpD+AOZLLf0ifP4DNGVHaG5w/gGbV52orlj8Aam/whcmUPwAk/fZ14Hw/AIxK6gQ0Yb8A2l92Tx52vwBAHOviNjq/gGX35GGhlr8ALiEf9GyGvwCAJsKGp4c/ABSuR+F6dL+A+zpwzoiSv4CNBvAWSJC/ABC+MJkqaD8AMFUwKqlDvwBGlPYGX3g/ABE2PL1Shj8A6CYxCKx8PwDix5i7loC/ADBlGeJYZz8AsLiNBvBWvwByio7k8n+/AKDx0k1iQD8AhFrTvONkvwCYIY51cXs/ANhfdk8eZr8AfPKwUGt6PwBcj8L1KIw/AMbctYR8kD+A2ht8YTKVPwC8uI0G8HY/AAzOGVHaaz8AfHqlLENsvwCY3ZOHhYq/gHEbDeAtoL9Aw2SqYFSivwBhB84ZUYq/AIpa07zjdL8A+MJkqmCEPwAYrkfhelS/AMt/SL99jb8As+pztRWbv4Ddk4eFWpO/APKwUGual78A3NeBc0akv+AbfGEyVbC/ABIUP8bctb+APQrXo3C1v4CXbhKDwLK/wEgu/yH9pr+AG3xhMlWQvwBif9k9eYi/AGlv8IXJlL/AG3xhMlWgv8ANvjCZKqi/wPUoXI/Cpb+AlUOLbOerv0B7gy9Mpqq/wPl+arx0s7+AkxgEVg69v/AvuycPC8G/IEymCkYlvb9AAU2EDU+3v8D1KFyPwrW/ADY8vVKWsb/AMsSxLm6zvwB6Nqs+V7O/QMX+snvysL8AAAAAAACwv8CQfvs6cK6/AClcj8L1sL9Ady0hH/S0v2AgQfFjzL2/ABueXinLwL9w1xLyQc/Cv8A3+MJkqsC/IIGVQ4tst7/gJjEIrByyvwB56SYxCKy/gLuWkA96pr/AGi/dJAahvwAgQfFjzJ2/AI51cRsNoL/A+DHmriWkvwCmm8QgsKK/gOkmMQistL8gyAc9m1W/v+DiNhrAW8C/oJMYBFYOvb9ANjy9Upa5v8B5xyk6kru/4OU/pN++tr+ATBWMSuqkv8AXJlMFo6K/gBX7y+7Jo7/Ag57Nqs+lv8BFtvP91Ki/QPFjzF1LqL+Ah/Tb14Gjv4DcRgN4C6S/gNjw9EpZpr/AYn/ZPXmov4As1JrmHae/gN2Th4Vao78AguLHmLuWvwCaVZ+rrYi/gOHplbIMkb8A/PZ14JyBvwDaG3xhMoW/AMx/SL99fb8Ar5RliGONvwDgLZCg+KG/gIvbaABvob9AZmZmZmamv8AmMQisHKq/wB2n6Egur79Aa5p3nKKjvwDf4AuTqaK/gJhMFYxKqr9AZvfkYaGmv4AjSnuDL6y/AHxhMlUwqr8AC0YldQKavwDhC5OpgoG/ALq4jQbwdj8Aaiv2l91zvw==\",\"dtype\":\"float64\",\"order\":\"little\",\"shape\":[401]}},\"selected\":{\"id\":\"3606\"},\"selection_policy\":{\"id\":\"3607\"}},\"id\":\"3590\",\"type\":\"ColumnDataSource\"},{\"attributes\":{},\"id\":\"3551\",\"type\":\"Selection\"},{\"attributes\":{\"line_color\":\"purple\",\"x\":{\"field\":\"x\"},\"y\":{\"field\":\"y\"}},\"id\":\"3591\",\"type\":\"Line\"},{\"attributes\":{\"source\":{\"id\":\"3541\"}},\"id\":\"3545\",\"type\":\"CDSView\"},{\"attributes\":{\"source\":{\"id\":\"3590\"}},\"id\":\"3594\",\"type\":\"CDSView\"},{\"attributes\":{\"line_alpha\":0.1,\"line_color\":\"#1f77b4\",\"x\":{\"field\":\"x\"},\"y\":{\"field\":\"y\"}},\"id\":\"3543\",\"type\":\"Line\"},{\"attributes\":{},\"id\":\"3552\",\"type\":\"UnionRenderers\"},{\"attributes\":{},\"id\":\"3569\",\"type\":\"UnionRenderers\"},{\"attributes\":{},\"id\":\"3606\",\"type\":\"Selection\"},{\"attributes\":{},\"id\":\"3607\",\"type\":\"UnionRenderers\"},{\"attributes\":{\"label\":{\"value\":\"l=70\"},\"renderers\":[{\"id\":\"3593\"}]},\"id\":\"3609\",\"type\":\"LegendItem\"},{\"attributes\":{},\"id\":\"3531\",\"type\":\"ResetTool\"},{\"attributes\":{\"line_alpha\":0.1,\"line_color\":\"purple\",\"x\":{\"field\":\"x\"},\"y\":{\"field\":\"y\"}},\"id\":\"3592\",\"type\":\"Line\"},{\"attributes\":{\"line_color\":\"orange\",\"x\":{\"field\":\"x\"},\"y\":{\"field\":\"y\"}},\"id\":\"3611\",\"type\":\"Line\"},{\"attributes\":{\"callback\":null,\"mode\":\"vline\"},\"id\":\"3632\",\"type\":\"HoverTool\"},{\"attributes\":{\"data_source\":{\"id\":\"3590\"},\"glyph\":{\"id\":\"3591\"},\"hover_glyph\":null,\"muted_glyph\":null,\"nonselection_glyph\":{\"id\":\"3592\"},\"selection_glyph\":null,\"view\":{\"id\":\"3594\"}},\"id\":\"3593\",\"type\":\"GlyphRenderer\"},{\"attributes\":{\"bottom_units\":\"screen\",\"fill_alpha\":0.5,\"fill_color\":\"lightgrey\",\"left_units\":\"screen\",\"level\":\"overlay\",\"line_alpha\":1.0,\"line_color\":\"black\",\"line_dash\":[4,4],\"line_width\":2,\"right_units\":\"screen\",\"top_units\":\"screen\"},\"id\":\"3533\",\"type\":\"BoxAnnotation\"}],\"root_ids\":[\"3508\"]},\"title\":\"Bokeh Application\",\"version\":\"2.2.3\"}};\n",
       "  var render_items = [{\"docid\":\"ce39cd2a-4ebc-44c5-9063-cfa265d08b23\",\"root_ids\":[\"3508\"],\"roots\":{\"3508\":\"e678959d-2d91-4f1f-872f-283af8446ed0\"}}];\n",
       "  root.Bokeh.embed.embed_items_notebook(docs_json, render_items);\n",
       "\n",
       "  }\n",
       "  if (root.Bokeh !== undefined) {\n",
       "    embed_document(root);\n",
       "  } else {\n",
       "    var attempts = 0;\n",
       "    var timer = setInterval(function(root) {\n",
       "      if (root.Bokeh !== undefined) {\n",
       "        clearInterval(timer);\n",
       "        embed_document(root);\n",
       "      } else {\n",
       "        attempts++;\n",
       "        if (attempts > 100) {\n",
       "          clearInterval(timer);\n",
       "          console.log(\"Bokeh: ERROR: Unable to run BokehJS code because BokehJS library is missing\");\n",
       "        }\n",
       "      }\n",
       "    }, 10, root)\n",
       "  }\n",
       "})(window);"
      ],
      "application/vnd.bokehjs_exec.v0+json": ""
     },
     "metadata": {
      "application/vnd.bokehjs_exec.v0+json": {
       "id": "3508"
      }
     },
     "output_type": "display_data"
    }
   ],
   "source": [
    "output_notebook()\n",
    "\n",
    "p1 = figure(title = \"Spectral data from Galactic observations with baseline subtracted\", \n",
    "            plot_width=800, plot_height=400,\n",
    "          x_axis_label='Velocity (km / s)', \n",
    "          y_axis_label='Intensity')\n",
    "p1.line(df40['velocity'],df40['mean_int']-df40['baseline'], legend_label='l=40')\n",
    "p1.line(df50['velocity'],df50['mean_int']-df40['baseline'], color='red', legend_label='l=50')\n",
    "p1.line(df60['velocity'],df60['mean_int']-df40['baseline'], color='green', legend_label='l=60')\n",
    "p1.line(df70['velocity'],df70['mean_int']-df40['baseline'], legend_label='l=70', color='purple')\n",
    "p1.line(df80['velocity'],df80['mean_int']-df40['baseline'], legend_label='l=80', color='orange')\n",
    "p1.add_tools(HoverTool(mode='vline'))\n",
    "p1.legend.location = \"top_left\"\n",
    "p1.legend.click_policy=\"hide\"\n",
    "show(p1)"
   ]
  },
  {
   "cell_type": "markdown",
   "metadata": {},
   "source": [
    "#### Outputs a multi-graph grid"
   ]
  },
  {
   "cell_type": "code",
   "execution_count": 78,
   "metadata": {},
   "outputs": [
    {
     "data": {
      "text/html": [
       "\n",
       "\n",
       "\n",
       "\n",
       "\n",
       "\n",
       "  <div class=\"bk-root\" id=\"8d151fa3-4b43-4afb-9f62-cfdac246930d\" data-root-id=\"8415\"></div>\n"
      ]
     },
     "metadata": {},
     "output_type": "display_data"
    },
    {
     "data": {
      "application/javascript": [
       "(function(root) {\n",
       "  function embed_document(root) {\n",
       "    \n",
       "  var docs_json = {\"b300f972-414f-435d-9efe-a7f9a9a2ea7e\":{\"roots\":{\"references\":[{\"attributes\":{\"children\":[{\"id\":\"8414\"},{\"id\":\"8412\"}]},\"id\":\"8415\",\"type\":\"Column\"},{\"attributes\":{\"bottom_units\":\"screen\",\"fill_alpha\":0.5,\"fill_color\":\"lightgrey\",\"left_units\":\"screen\",\"level\":\"overlay\",\"line_alpha\":1.0,\"line_color\":\"black\",\"line_dash\":[4,4],\"line_width\":2,\"right_units\":\"screen\",\"top_units\":\"screen\"},\"id\":\"8228\",\"type\":\"BoxAnnotation\"},{\"attributes\":{},\"id\":\"8295\",\"type\":\"BasicTicker\"},{\"attributes\":{},\"id\":\"8263\",\"type\":\"SaveTool\"},{\"attributes\":{\"axis\":{\"id\":\"8294\"},\"dimension\":1,\"ticker\":null},\"id\":\"8297\",\"type\":\"Grid\"},{\"attributes\":{\"line_color\":\"red\",\"x\":{\"field\":\"x\"},\"y\":{\"field\":\"y\"}},\"id\":\"8313\",\"type\":\"Line\"},{\"attributes\":{},\"id\":\"8299\",\"type\":\"WheelZoomTool\"},{\"attributes\":{\"overlay\":{\"id\":\"8342\"}},\"id\":\"8338\",\"type\":\"BoxZoomTool\"},{\"attributes\":{\"axis\":{\"id\":\"8290\"},\"ticker\":null},\"id\":\"8293\",\"type\":\"Grid\"},{\"attributes\":{\"line_color\":\"purple\",\"x\":{\"field\":\"x\"},\"y\":{\"field\":\"y\"}},\"id\":\"8351\",\"type\":\"Line\"},{\"attributes\":{\"overlay\":{\"id\":\"8266\"}},\"id\":\"8262\",\"type\":\"BoxZoomTool\"},{\"attributes\":{},\"id\":\"8264\",\"type\":\"ResetTool\"},{\"attributes\":{},\"id\":\"8303\",\"type\":\"HelpTool\"},{\"attributes\":{},\"id\":\"8298\",\"type\":\"PanTool\"},{\"attributes\":{\"toolbars\":[{\"id\":\"8153\"},{\"id\":\"8191\"},{\"id\":\"8229\"},{\"id\":\"8267\"},{\"id\":\"8305\"},{\"id\":\"8343\"}],\"tools\":[{\"id\":\"8146\"},{\"id\":\"8147\"},{\"id\":\"8148\"},{\"id\":\"8149\"},{\"id\":\"8150\"},{\"id\":\"8151\"},{\"id\":\"8184\"},{\"id\":\"8185\"},{\"id\":\"8186\"},{\"id\":\"8187\"},{\"id\":\"8188\"},{\"id\":\"8189\"},{\"id\":\"8222\"},{\"id\":\"8223\"},{\"id\":\"8224\"},{\"id\":\"8225\"},{\"id\":\"8226\"},{\"id\":\"8227\"},{\"id\":\"8260\"},{\"id\":\"8261\"},{\"id\":\"8262\"},{\"id\":\"8263\"},{\"id\":\"8264\"},{\"id\":\"8265\"},{\"id\":\"8298\"},{\"id\":\"8299\"},{\"id\":\"8300\"},{\"id\":\"8301\"},{\"id\":\"8302\"},{\"id\":\"8303\"},{\"id\":\"8336\"},{\"id\":\"8337\"},{\"id\":\"8338\"},{\"id\":\"8339\"},{\"id\":\"8340\"},{\"id\":\"8341\"},{\"id\":\"8355\"}]},\"id\":\"8413\",\"type\":\"ProxyToolbar\"},{\"attributes\":{\"overlay\":{\"id\":\"8304\"}},\"id\":\"8300\",\"type\":\"BoxZoomTool\"},{\"attributes\":{},\"id\":\"8340\",\"type\":\"ResetTool\"},{\"attributes\":{},\"id\":\"8301\",\"type\":\"SaveTool\"},{\"attributes\":{},\"id\":\"8337\",\"type\":\"WheelZoomTool\"},{\"attributes\":{},\"id\":\"8302\",\"type\":\"ResetTool\"},{\"attributes\":{},\"id\":\"8341\",\"type\":\"HelpTool\"},{\"attributes\":{\"toolbar\":{\"id\":\"8413\"},\"toolbar_location\":\"above\"},\"id\":\"8414\",\"type\":\"ToolbarBox\"},{\"attributes\":{},\"id\":\"8260\",\"type\":\"PanTool\"},{\"attributes\":{\"active_drag\":\"auto\",\"active_inspect\":\"auto\",\"active_multi\":null,\"active_scroll\":\"auto\",\"active_tap\":\"auto\",\"tools\":[{\"id\":\"8260\"},{\"id\":\"8261\"},{\"id\":\"8262\"},{\"id\":\"8263\"},{\"id\":\"8264\"},{\"id\":\"8265\"}]},\"id\":\"8267\",\"type\":\"Toolbar\"},{\"attributes\":{},\"id\":\"8265\",\"type\":\"HelpTool\"},{\"attributes\":{\"bottom_units\":\"screen\",\"fill_alpha\":0.5,\"fill_color\":\"lightgrey\",\"left_units\":\"screen\",\"level\":\"overlay\",\"line_alpha\":1.0,\"line_color\":\"black\",\"line_dash\":[4,4],\"line_width\":2,\"right_units\":\"screen\",\"top_units\":\"screen\"},\"id\":\"8190\",\"type\":\"BoxAnnotation\"},{\"attributes\":{\"bottom_units\":\"screen\",\"fill_alpha\":0.5,\"fill_color\":\"lightgrey\",\"left_units\":\"screen\",\"level\":\"overlay\",\"line_alpha\":1.0,\"line_color\":\"black\",\"line_dash\":[4,4],\"line_width\":2,\"right_units\":\"screen\",\"top_units\":\"screen\"},\"id\":\"8342\",\"type\":\"BoxAnnotation\"},{\"attributes\":{},\"id\":\"8339\",\"type\":\"SaveTool\"},{\"attributes\":{},\"id\":\"8257\",\"type\":\"BasicTicker\"},{\"attributes\":{},\"id\":\"8382\",\"type\":\"UnionRenderers\"},{\"attributes\":{\"bottom_units\":\"screen\",\"fill_alpha\":0.5,\"fill_color\":\"lightgrey\",\"left_units\":\"screen\",\"level\":\"overlay\",\"line_alpha\":1.0,\"line_color\":\"black\",\"line_dash\":[4,4],\"line_width\":2,\"right_units\":\"screen\",\"top_units\":\"screen\"},\"id\":\"8304\",\"type\":\"BoxAnnotation\"},{\"attributes\":{\"line_alpha\":0.1,\"line_color\":\"red\",\"x\":{\"field\":\"x\"},\"y\":{\"field\":\"y\"}},\"id\":\"8238\",\"type\":\"Line\"},{\"attributes\":{\"source\":{\"id\":\"8236\"}},\"id\":\"8240\",\"type\":\"CDSView\"},{\"attributes\":{\"data\":{\"x\":{\"__ndarray__\":\"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\",\"dtype\":\"float64\",\"order\":\"little\",\"shape\":[401]},\"y\":{\"__ndarray__\":\"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\",\"dtype\":\"float64\",\"order\":\"little\",\"shape\":[401]}},\"selected\":{\"id\":\"8390\"},\"selection_policy\":{\"id\":\"8391\"}},\"id\":\"8274\",\"type\":\"ColumnDataSource\"},{\"attributes\":{\"data_source\":{\"id\":\"8274\"},\"glyph\":{\"id\":\"8275\"},\"hover_glyph\":null,\"muted_glyph\":null,\"nonselection_glyph\":{\"id\":\"8276\"},\"selection_glyph\":null,\"view\":{\"id\":\"8278\"}},\"id\":\"8277\",\"type\":\"GlyphRenderer\"},{\"attributes\":{\"data\":{\"x\":{\"__ndarray__\":\"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\",\"dtype\":\"float64\",\"order\":\"little\",\"shape\":[401]},\"y\":{\"__ndarray__\":\"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\",\"dtype\":\"float64\",\"order\":\"little\",\"shape\":[401]}},\"selected\":{\"id\":\"8381\"},\"selection_policy\":{\"id\":\"8382\"}},\"id\":\"8236\",\"type\":\"ColumnDataSource\"},{\"attributes\":{\"line_color\":\"red\",\"x\":{\"field\":\"x\"},\"y\":{\"field\":\"y\"}},\"id\":\"8275\",\"type\":\"Line\"},{\"attributes\":{\"text\":\"l = 70\"},\"id\":\"8242\",\"type\":\"Title\"},{\"attributes\":{},\"id\":\"8360\",\"type\":\"BasicTickFormatter\"},{\"attributes\":{},\"id\":\"8381\",\"type\":\"Selection\"},{\"attributes\":{\"axis_label\":\"Velocity (kms^-1)\",\"formatter\":{\"id\":\"8380\"},\"ticker\":{\"id\":\"8215\"}},\"id\":\"8214\",\"type\":\"LinearAxis\"},{\"attributes\":{\"active_drag\":\"auto\",\"active_inspect\":\"auto\",\"active_multi\":null,\"active_scroll\":\"auto\",\"active_tap\":\"auto\",\"tools\":[{\"id\":\"8336\"},{\"id\":\"8337\"},{\"id\":\"8338\"},{\"id\":\"8339\"},{\"id\":\"8340\"},{\"id\":\"8341\"},{\"id\":\"8355\"}]},\"id\":\"8343\",\"type\":\"Toolbar\"},{\"attributes\":{},\"id\":\"8208\",\"type\":\"DataRange1d\"},{\"attributes\":{},\"id\":\"8362\",\"type\":\"BasicTickFormatter\"},{\"attributes\":{\"bottom_units\":\"screen\",\"fill_alpha\":0.5,\"fill_color\":\"lightgrey\",\"left_units\":\"screen\",\"level\":\"overlay\",\"line_alpha\":1.0,\"line_color\":\"black\",\"line_dash\":[4,4],\"line_width\":2,\"right_units\":\"screen\",\"top_units\":\"screen\"},\"id\":\"8266\",\"type\":\"BoxAnnotation\"},{\"attributes\":{\"line_alpha\":0.1,\"line_color\":\"red\",\"x\":{\"field\":\"x\"},\"y\":{\"field\":\"y\"}},\"id\":\"8200\",\"type\":\"Line\"},{\"attributes\":{\"axis_label\":\"Velocity (kms^-1)\",\"formatter\":{\"id\":\"8407\"},\"ticker\":{\"id\":\"8329\"}},\"id\":\"8328\",\"type\":\"LinearAxis\"},{\"attributes\":{\"source\":{\"id\":\"8198\"}},\"id\":\"8202\",\"type\":\"CDSView\"},{\"attributes\":{\"below\":[{\"id\":\"8252\"}],\"center\":[{\"id\":\"8255\"},{\"id\":\"8259\"}],\"left\":[{\"id\":\"8256\"}],\"plot_height\":300,\"plot_width\":400,\"renderers\":[{\"id\":\"8277\"}],\"title\":{\"id\":\"8242\"},\"toolbar\":{\"id\":\"8267\"},\"toolbar_location\":null,\"x_range\":{\"id\":\"8244\"},\"x_scale\":{\"id\":\"8248\"},\"y_range\":{\"id\":\"8246\"},\"y_scale\":{\"id\":\"8250\"}},\"id\":\"8241\",\"subtype\":\"Figure\",\"type\":\"Plot\"},{\"attributes\":{\"data_source\":{\"id\":\"8236\"},\"glyph\":{\"id\":\"8237\"},\"hover_glyph\":null,\"muted_glyph\":null,\"nonselection_glyph\":{\"id\":\"8238\"},\"selection_glyph\":null,\"view\":{\"id\":\"8240\"}},\"id\":\"8239\",\"type\":\"GlyphRenderer\"},{\"attributes\":{\"active_drag\":\"auto\",\"active_inspect\":\"auto\",\"active_multi\":null,\"active_scroll\":\"auto\",\"active_tap\":\"auto\",\"tools\":[{\"id\":\"8298\"},{\"id\":\"8299\"},{\"id\":\"8300\"},{\"id\":\"8301\"},{\"id\":\"8302\"},{\"id\":\"8303\"}]},\"id\":\"8305\",\"type\":\"Toolbar\"},{\"attributes\":{\"text\":\"l = 60\"},\"id\":\"8204\",\"type\":\"Title\"},{\"attributes\":{},\"id\":\"8206\",\"type\":\"DataRange1d\"},{\"attributes\":{\"line_color\":\"red\",\"x\":{\"field\":\"x\"},\"y\":{\"field\":\"y\"}},\"id\":\"8237\",\"type\":\"Line\"},{\"attributes\":{},\"id\":\"8215\",\"type\":\"BasicTicker\"},{\"attributes\":{\"line_alpha\":0.1,\"line_color\":\"red\",\"x\":{\"field\":\"x\"},\"y\":{\"field\":\"y\"}},\"id\":\"8314\",\"type\":\"Line\"},{\"attributes\":{},\"id\":\"8363\",\"type\":\"Selection\"},{\"attributes\":{},\"id\":\"8212\",\"type\":\"LinearScale\"},{\"attributes\":{\"source\":{\"id\":\"8312\"}},\"id\":\"8316\",\"type\":\"CDSView\"},{\"attributes\":{\"children\":[[{\"id\":\"8127\"},0,0],[{\"id\":\"8165\"},0,1],[{\"id\":\"8203\"},1,0],[{\"id\":\"8241\"},1,1],[{\"id\":\"8279\"},2,0],[{\"id\":\"8317\"},2,1]]},\"id\":\"8412\",\"type\":\"GridBox\"},{\"attributes\":{},\"id\":\"8210\",\"type\":\"LinearScale\"},{\"attributes\":{},\"id\":\"8364\",\"type\":\"UnionRenderers\"},{\"attributes\":{},\"id\":\"8226\",\"type\":\"ResetTool\"},{\"attributes\":{\"data\":{\"x\":{\"__ndarray__\":\"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\",\"dtype\":\"float64\",\"order\":\"little\",\"shape\":[401]},\"y\":{\"__ndarray__\":\"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\",\"dtype\":\"float64\",\"order\":\"little\",\"shape\":[401]}},\"selected\":{\"id\":\"8408\"},\"selection_policy\":{\"id\":\"8409\"}},\"id\":\"8350\",\"type\":\"ColumnDataSource\"},{\"attributes\":{\"axis\":{\"id\":\"8214\"},\"ticker\":null},\"id\":\"8217\",\"type\":\"Grid\"},{\"attributes\":{\"source\":{\"id\":\"8350\"}},\"id\":\"8354\",\"type\":\"CDSView\"},{\"attributes\":{},\"id\":\"8223\",\"type\":\"WheelZoomTool\"},{\"attributes\":{\"line_alpha\":0.1,\"line_color\":\"purple\",\"x\":{\"field\":\"x\"},\"y\":{\"field\":\"y\"}},\"id\":\"8352\",\"type\":\"Line\"},{\"attributes\":{\"text\":\"Baseline - (NEP)\"},\"id\":\"8318\",\"type\":\"Title\"},{\"attributes\":{\"axis_label\":\"Intensity\",\"formatter\":{\"id\":\"8378\"},\"ticker\":{\"id\":\"8219\"}},\"id\":\"8218\",\"type\":\"LinearAxis\"},{\"attributes\":{},\"id\":\"8320\",\"type\":\"DataRange1d\"},{\"attributes\":{\"axis\":{\"id\":\"8218\"},\"dimension\":1,\"ticker\":null},\"id\":\"8221\",\"type\":\"Grid\"},{\"attributes\":{\"below\":[{\"id\":\"8290\"}],\"center\":[{\"id\":\"8293\"},{\"id\":\"8297\"}],\"left\":[{\"id\":\"8294\"}],\"plot_height\":300,\"plot_width\":400,\"renderers\":[{\"id\":\"8315\"}],\"title\":{\"id\":\"8280\"},\"toolbar\":{\"id\":\"8305\"},\"toolbar_location\":null,\"x_range\":{\"id\":\"8282\"},\"x_scale\":{\"id\":\"8286\"},\"y_range\":{\"id\":\"8284\"},\"y_scale\":{\"id\":\"8288\"}},\"id\":\"8279\",\"subtype\":\"Figure\",\"type\":\"Plot\"},{\"attributes\":{\"axis_label\":\"Velocity (kms^-1)\",\"formatter\":{\"id\":\"8398\"},\"ticker\":{\"id\":\"8291\"}},\"id\":\"8290\",\"type\":\"LinearAxis\"},{\"attributes\":{},\"id\":\"8219\",\"type\":\"BasicTicker\"},{\"attributes\":{},\"id\":\"8329\",\"type\":\"BasicTicker\"},{\"attributes\":{\"active_drag\":\"auto\",\"active_inspect\":\"auto\",\"active_multi\":null,\"active_scroll\":\"auto\",\"active_tap\":\"auto\",\"tools\":[{\"id\":\"8222\"},{\"id\":\"8223\"},{\"id\":\"8224\"},{\"id\":\"8225\"},{\"id\":\"8226\"},{\"id\":\"8227\"}]},\"id\":\"8229\",\"type\":\"Toolbar\"},{\"attributes\":{},\"id\":\"8326\",\"type\":\"LinearScale\"},{\"attributes\":{},\"id\":\"8227\",\"type\":\"HelpTool\"},{\"attributes\":{},\"id\":\"8324\",\"type\":\"LinearScale\"},{\"attributes\":{\"axis\":{\"id\":\"8328\"},\"ticker\":null},\"id\":\"8331\",\"type\":\"Grid\"},{\"attributes\":{},\"id\":\"8222\",\"type\":\"PanTool\"},{\"attributes\":{\"line_alpha\":0.1,\"line_color\":\"red\",\"x\":{\"field\":\"x\"},\"y\":{\"field\":\"y\"}},\"id\":\"8276\",\"type\":\"Line\"},{\"attributes\":{},\"id\":\"8250\",\"type\":\"LinearScale\"},{\"attributes\":{\"overlay\":{\"id\":\"8228\"}},\"id\":\"8224\",\"type\":\"BoxZoomTool\"},{\"attributes\":{\"axis_label\":\"Intensity\",\"formatter\":{\"id\":\"8405\"},\"ticker\":{\"id\":\"8333\"}},\"id\":\"8332\",\"type\":\"LinearAxis\"},{\"attributes\":{\"source\":{\"id\":\"8274\"}},\"id\":\"8278\",\"type\":\"CDSView\"},{\"attributes\":{\"below\":[{\"id\":\"8328\"}],\"center\":[{\"id\":\"8331\"},{\"id\":\"8335\"}],\"left\":[{\"id\":\"8332\"}],\"plot_height\":300,\"plot_width\":400,\"renderers\":[{\"id\":\"8353\"}],\"title\":{\"id\":\"8318\"},\"toolbar\":{\"id\":\"8343\"},\"toolbar_location\":null,\"x_range\":{\"id\":\"8320\"},\"x_scale\":{\"id\":\"8324\"},\"y_range\":{\"id\":\"8357\"},\"y_scale\":{\"id\":\"8326\"}},\"id\":\"8317\",\"subtype\":\"Figure\",\"type\":\"Plot\"},{\"attributes\":{},\"id\":\"8225\",\"type\":\"SaveTool\"},{\"attributes\":{\"axis\":{\"id\":\"8332\"},\"dimension\":1,\"ticker\":null},\"id\":\"8335\",\"type\":\"Grid\"},{\"attributes\":{\"data\":{\"x\":{\"__ndarray__\":\"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\",\"dtype\":\"float64\",\"order\":\"little\",\"shape\":[401]},\"y\":{\"__ndarray__\":\"rkfhehRuAEA/NV66SUwAQDIIrBxaJABAHFpkO98PAEDC9ShcjwIAQPHSTWIQ2P8/EFg5tMj2/z/vp8ZLNwkAQLKd76fGCwBARrbz/dT4/z+wcmiR7fz/P3E9Ctej8P8/Gi/dJAYBAEDNzMzMzAwAQMQgsHJoEQBAXrpJDAIrAEDQItv5fioAQIlBYOXQIgBAVg4tsp0vAEDJdr6fGi8AQD4K16NwPQBAMN0kBoFVAECiRbbz/VQAQLTIdr6fWgBAarx0kxhEAECPwvUoXE8AQAwCK4cWWQBAcT0K16NwAEDdJAaBlYMAQDEIrBxaZABAkxgEVg5tAEBV46WbxGAAQP7UeOkmcQBAuB6F61F4AEC4HoXrUXgAQLKd76fGiwBA+FPjpZuEAEDdJAaBlYMAQIcW2c73kwBAf2q8dJOYAECgGi/dJIYAQPHSTWIQmABAlBgEVg6tAEA830+Nl64AQN0kBoGVwwBAoBov3STGAEBOYhBYObQAQGq8dJMYxABAexSuR+G6AEBANV66ScwAQHe+nxov3QBAm8QgsHLoAEB1kxgEVg4BQJqZmZmZGQFAwMqhRbYzAUB3vp8aLx0BQAwCK4cWGQFAJzEIrBwaAUAK16NwPUoBQM/3U+OlWwFAd76fGi9dAUAGgZVDi2wBQNnO91PjZQFAd76fGi9dAUCNl24Sg0ABQDVeukkMQgFAzczMzMxMAUB6FK5H4XoBQAisHFpkewFAg8DKoUV2AUBSuB6F65EBQKwcWmQ7nwFAlkOLbOe7AUD4U+Olm8QBQN0kBoGVwwFAWmQ730/NAUB0kxgEVs4BQKwcWmQ73wFAK4cW2c73AUDUTWIQWDkCQKRwPQrXIwJAcD0K16MwAkDGSzeJQSACQEjhehSuRwJA2c73U+NlAkDO91PjpVsCQP7UeOkmcQJAO99PjZduAkBcj8L1KJwCQBkEVg4tsgJAWmQ730/NAkAX2c73U+MCQPLSTWIQ2AJAexSuR+H6AkAlBoGVQwsDQAIrhxbZDgNAd76fGi8dA0CkcD0K1yMDQIGVQ4tsJwNA7FG4HoUrA0CHFtnO9xMDQHJoke18/wJA9ihcj8L1AkASg8DKoQUDQEkMAiuHFgNAsp3vp8YLA0BkO99PjRcDQO58PzVeOgNAlBgEVg4tA0DRItv5fioDQGDl0CLbOQNA+n5qvHRTA0BCYOXQIlsDQEa28/3UeANANolBYOWQA0C7SQwCK4cDQJDC9ShcjwNAlkOLbOe7A0AlBoGVQ8sDQGq8dJMYxANArBxaZDvfA0DNzMzMzMwDQFYOLbKd7wNAGARWDi3yA0Da+X5qvPQDQDvfT42X7gNAzMzMzMwMBEACK4cW2Q4EQEw3iUFgJQRATDeJQWAlBEBkO99PjRcEQMUgsHJoEQRAukkMAisHBEAdWmQ73w8EQHWTGARWDgRAPQrXo3D9A0BiEFg5tAgEQKwcWmQ7HwRAvHSTGAQWBED3U+Olm0QEQA4tsp3vZwRAcmiR7Xx/BEBoke18P7UEQLgehetR+ARAkxgEVg4tBUAhsHJokW0FQBFYObTItgVAnMQgsHIoBkDo+6nx0o0GQDMzMzMz8wZAhutRuB6FB0D2KFyPwvUHQML1KFyPQghAyqFFtvN9CEAHgZVDi6wIQFk5tMh2vghAFK5H4XrUCEASg8DKoQUJQAAAAAAAAAlArBxaZDsfCUDGSzeJQSAJQIGVQ4tsZwlAlBgEVg5tCUAfhetRuJ4JQJVDi2znewlAku18PzVeCUAGgZVDiywJQOj7qfHSDQlAppvEILDyCED4U+Olm8QIQJzEILByqAhANl66SQyCCEDXo3A9ClcIQKwcWmQ7HwhA5/up8dLNB0Coxks3icEHQMHKoUW2cwdAkML1KFwPB0Bdj8L1KNwGQHA9CtejsAZAX7pJDAJrBkCoxks3iUEGQOf7qfHSTQZAj8L1KFxPBkBzaJHtfD8GQCGwcmiRLQZAnu+nxks3BkCTGARWDi0GQDiJQWDlEAZAWmQ7308NBkCoxks3iUEGQCGwcmiRLQZAlUOLbOf7BUCbxCCwcugFQD4K16NwvQVAQmDl0CKbBUCsHFpkO58FQM/3U+OlmwVAQDVeukmMBUA/NV66SYwFQLKd76fGiwVAokW28/2UBUCgGi/dJIYFQPp+arx0kwVAhxbZzveTBUDP91PjpdsFQE5iEFg59AVAAQAAAADABUD6fmq8dJMFQJQYBFYObQVA0SLb+X5qBUB1kxgEVk4FQFcOLbKdLwVAlUOLbOc7BUCsHFpkOx8FQI6XbhKDAAVAJNv5fmr8BEAnMQisHBoFQCcxCKwcGgVAhetRuB5FBUBvEoPAymEFQDEIrBxapAVAQmDl0CKbBUDiehSuR6EFQClcj8L1qAVApHA9CtejBUCUGARWDq0FQB+F61G4ngVADy2yne+nBUAAAAAAAMAFQJ8aL90kRgZAjpduEoOABkDufD81XjoGQLOd76fGCwZAU7gehesRBkDwp8ZLNwkGQFK4HoXrEQZACtejcD0KBkDQItv5fuoFQHWTGARWzgVA9P3UeOmmBUBBYOXQIpsFQDeJQWDlkAVAWmQ730+NBUDD9Shcj4IFQJVDi2znewVAMgisHFpkBUAdWmQ7308FQGDl0CLbOQVAkML1KFwPBUCF61G4HgUFQPLSTWIQ2ARAEFg5tMi2BEAhsHJoka0EQPCnxks3iQRAGARWDi1yBEBxPQrXo3AEQEW28/3UeARAjGzn+6lxBEACK4cW2U4EQA4tsp3vJwRACKwcWmR7BECIFtnO95MEQNNNYhBYuQRAnMQgsHKoBECcxCCwcqgEQEa28/3U+ARA1XjpJjHIBEA4iUFg5ZAEQK9H4XoUbgRA46WbxCBwBEBFtvP91HgEQLgehetRuARANl66SQzCBECamZmZmZkEQBBYObTIdgRAlBgEVg6tBEAj2/l+arwEQJZDi2zn+wRA+n5qvHTTBEASg8DKocUEQCGwcmiRrQRAfBSuR+F6BEBbZDvfT80EQGDl0CLb+QRA16NwPQoXBUBxPQrXozAFQJHtfD813gRAVg4tsp2vBECyne+nxosEQBxaZDvfjwRANV66SQyCBEBlO99PjVcEQMdLN4lBYARAjZduEoOABEDWeOkmMYgEQMQgsHJokQRATDeJQWBlBEDEILByaFEEQG4Sg8DKYQRAx0s3iUFgBEBH4XoUrkcEQJZDi2znOwRA91PjpZtEBEDb+X5qvHQEQJQYBFYObQRApHA9CtdjBECsHFpkO18EQEJg5dAiWwRAOIlBYOUQBEA830+Nl+4DQHnpJjEI7ANAGQRWDi3yA0A730+Nl+4DQF66SQwC6wNAlBgEVg7tA0CuR+F6FO4DQHw/NV66CQRAzczMzMwMBEBkO99PjRcEQHWTGARWDgRAsHJoke38A0AfhetRuN4DQP7UeOkm8QNADAIrhxYZBEAEVg4tsl0EQEoMAiuHVgRAexSuR+E6BEBpke18PzUEQGmR7Xw/NQRAlkOLbOc7BEBzaJHtfD8EQIlBYOXQIgRAR+F6FK4HBEAxCKwcWuQDQE5iEFg59ANAAiuHFtkOBEBcj8L1KBwEQMZLN4lBIARA2/l+arw0BEC8dJMYBBYEQPhT46WbBARASOF6FK4HBEDkpZvEIPADQH0/NV66CQRAJzEIrBwaBEB7FK5H4ToEQGDl0CLbOQRA/tR46SYxBEAYBFYOLTIEQPYoXI/CNQRAg8DKoUU2BEARWDm0yDYEQD4K16NwPQRAxCCwcmhRBECsHFpkO18EQNRNYhBYeQRAJjEIrBxaBED+1HjpJjEEQD0K16NwPQRAAAAAAABABECiRbbz/VQEQKwcWmQ7XwRAcmiR7Xx/BEC8dJMYBJYEQGQ730+NlwRA4noUrkehBECYbhKDwMoEQArXo3A9ygRAdZMYBFbOBEDYo3A9CtcEQNnO91Pj5QRAppvEILDyBEDdJAaBlQMFQJ7vp8ZL9wRAO99PjZfuBED4U+Olm8QEQDZeukkMwgRAUrgehevRBEAK16NwPcoEQFyPwvUo3ARAXrpJDALrBECMbOf7qfEEQL6fGi/dJAVA+FPjpZtEBUAw3SQGgVUFQCuHFtnONwVAu0kMAitHBUC28/3UeGkFQCYGgZVDiwVAPN9PjZduBUBoke18P7UFQOxRuB6F6wVAaJHtfD/1BUC9dJMYBNYFQEW28/3UuAVAIrByaJGtBUBeukkMAqsFQGU730+NlwVABoGVQ4usBUCuR+F6FK4FQA==\",\"dtype\":\"float64\",\"order\":\"little\",\"shape\":[401]}},\"selected\":{\"id\":\"8399\"},\"selection_policy\":{\"id\":\"8400\"}},\"id\":\"8312\",\"type\":\"ColumnDataSource\"},{\"attributes\":{},\"id\":\"8333\",\"type\":\"BasicTicker\"},{\"attributes\":{},\"id\":\"8244\",\"type\":\"DataRange1d\"},{\"attributes\":{\"data_source\":{\"id\":\"8312\"},\"glyph\":{\"id\":\"8313\"},\"hover_glyph\":null,\"muted_glyph\":null,\"nonselection_glyph\":{\"id\":\"8314\"},\"selection_glyph\":null,\"view\":{\"id\":\"8316\"}},\"id\":\"8315\",\"type\":\"GlyphRenderer\"},{\"attributes\":{\"axis\":{\"id\":\"8252\"},\"ticker\":null},\"id\":\"8255\",\"type\":\"Grid\"},{\"attributes\":{\"text\":\"l = 80\"},\"id\":\"8280\",\"type\":\"Title\"},{\"attributes\":{},\"id\":\"8336\",\"type\":\"PanTool\"},{\"attributes\":{},\"id\":\"8248\",\"type\":\"LinearScale\"},{\"attributes\":{},\"id\":\"8282\",\"type\":\"DataRange1d\"},{\"attributes\":{},\"id\":\"8261\",\"type\":\"WheelZoomTool\"},{\"attributes\":{},\"id\":\"8284\",\"type\":\"DataRange1d\"},{\"attributes\":{\"axis_label\":\"Intensity\",\"formatter\":{\"id\":\"8387\"},\"ticker\":{\"id\":\"8257\"}},\"id\":\"8256\",\"type\":\"LinearAxis\"},{\"attributes\":{\"axis_label\":\"Intensity\",\"formatter\":{\"id\":\"8396\"},\"ticker\":{\"id\":\"8295\"}},\"id\":\"8294\",\"type\":\"LinearAxis\"},{\"attributes\":{},\"id\":\"8253\",\"type\":\"BasicTicker\"},{\"attributes\":{},\"id\":\"8291\",\"type\":\"BasicTicker\"},{\"attributes\":{\"axis\":{\"id\":\"8256\"},\"dimension\":1,\"ticker\":null},\"id\":\"8259\",\"type\":\"Grid\"},{\"attributes\":{},\"id\":\"8288\",\"type\":\"LinearScale\"},{\"attributes\":{\"axis_label\":\"Velocity (kms^-1)\",\"formatter\":{\"id\":\"8389\"},\"ticker\":{\"id\":\"8253\"}},\"id\":\"8252\",\"type\":\"LinearAxis\"},{\"attributes\":{},\"id\":\"8246\",\"type\":\"DataRange1d\"},{\"attributes\":{},\"id\":\"8286\",\"type\":\"LinearScale\"},{\"attributes\":{\"callback\":null,\"mode\":\"vline\"},\"id\":\"8355\",\"type\":\"HoverTool\"},{\"attributes\":{},\"id\":\"8409\",\"type\":\"UnionRenderers\"},{\"attributes\":{\"below\":[{\"id\":\"8176\"}],\"center\":[{\"id\":\"8179\"},{\"id\":\"8183\"}],\"left\":[{\"id\":\"8180\"}],\"plot_height\":300,\"plot_width\":400,\"renderers\":[{\"id\":\"8201\"}],\"title\":{\"id\":\"8166\"},\"toolbar\":{\"id\":\"8191\"},\"toolbar_location\":null,\"x_range\":{\"id\":\"8168\"},\"x_scale\":{\"id\":\"8172\"},\"y_range\":{\"id\":\"8170\"},\"y_scale\":{\"id\":\"8174\"}},\"id\":\"8165\",\"subtype\":\"Figure\",\"type\":\"Plot\"},{\"attributes\":{\"end\":3,\"start\":2},\"id\":\"8357\",\"type\":\"Range1d\"},{\"attributes\":{\"data\":{\"x\":{\"__ndarray__\":\"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\",\"dtype\":\"float64\",\"order\":\"little\",\"shape\":[401]},\"y\":{\"__ndarray__\":\"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\",\"dtype\":\"float64\",\"order\":\"little\",\"shape\":[401]}},\"selected\":{\"id\":\"8363\"},\"selection_policy\":{\"id\":\"8364\"}},\"id\":\"8160\",\"type\":\"ColumnDataSource\"},{\"attributes\":{\"text\":\"l = 40\"},\"id\":\"8128\",\"type\":\"Title\"},{\"attributes\":{},\"id\":\"8396\",\"type\":\"BasicTickFormatter\"},{\"attributes\":{\"data_source\":{\"id\":\"8160\"},\"glyph\":{\"id\":\"8161\"},\"hover_glyph\":null,\"muted_glyph\":null,\"nonselection_glyph\":{\"id\":\"8162\"},\"selection_glyph\":null,\"view\":{\"id\":\"8164\"}},\"id\":\"8163\",\"type\":\"GlyphRenderer\"},{\"attributes\":{\"below\":[{\"id\":\"8138\"}],\"center\":[{\"id\":\"8141\"},{\"id\":\"8145\"}],\"left\":[{\"id\":\"8142\"}],\"plot_height\":300,\"plot_width\":400,\"renderers\":[{\"id\":\"8163\"}],\"title\":{\"id\":\"8128\"},\"toolbar\":{\"id\":\"8153\"},\"toolbar_location\":null,\"x_range\":{\"id\":\"8130\"},\"x_scale\":{\"id\":\"8134\"},\"y_range\":{\"id\":\"8132\"},\"y_scale\":{\"id\":\"8136\"}},\"id\":\"8127\",\"subtype\":\"Figure\",\"type\":\"Plot\"},{\"attributes\":{},\"id\":\"8130\",\"type\":\"DataRange1d\"},{\"attributes\":{},\"id\":\"8132\",\"type\":\"DataRange1d\"},{\"attributes\":{},\"id\":\"8369\",\"type\":\"BasicTickFormatter\"},{\"attributes\":{\"line_color\":\"red\",\"x\":{\"field\":\"x\"},\"y\":{\"field\":\"y\"}},\"id\":\"8161\",\"type\":\"Line\"},{\"attributes\":{},\"id\":\"8398\",\"type\":\"BasicTickFormatter\"},{\"attributes\":{\"axis_label\":\"Velocity (kms^-1)\",\"formatter\":{\"id\":\"8362\"},\"ticker\":{\"id\":\"8139\"}},\"id\":\"8138\",\"type\":\"LinearAxis\"},{\"attributes\":{},\"id\":\"8139\",\"type\":\"BasicTicker\"},{\"attributes\":{},\"id\":\"8136\",\"type\":\"LinearScale\"},{\"attributes\":{},\"id\":\"8134\",\"type\":\"LinearScale\"},{\"attributes\":{},\"id\":\"8371\",\"type\":\"BasicTickFormatter\"},{\"attributes\":{\"axis\":{\"id\":\"8138\"},\"ticker\":null},\"id\":\"8141\",\"type\":\"Grid\"},{\"attributes\":{},\"id\":\"8147\",\"type\":\"WheelZoomTool\"},{\"attributes\":{\"axis_label\":\"Intensity\",\"formatter\":{\"id\":\"8360\"},\"ticker\":{\"id\":\"8143\"}},\"id\":\"8142\",\"type\":\"LinearAxis\"},{\"attributes\":{\"axis\":{\"id\":\"8142\"},\"dimension\":1,\"ticker\":null},\"id\":\"8145\",\"type\":\"Grid\"},{\"attributes\":{},\"id\":\"8143\",\"type\":\"BasicTicker\"},{\"attributes\":{},\"id\":\"8399\",\"type\":\"Selection\"},{\"attributes\":{},\"id\":\"8151\",\"type\":\"HelpTool\"},{\"attributes\":{},\"id\":\"8146\",\"type\":\"PanTool\"},{\"attributes\":{\"overlay\":{\"id\":\"8152\"}},\"id\":\"8148\",\"type\":\"BoxZoomTool\"},{\"attributes\":{},\"id\":\"8400\",\"type\":\"UnionRenderers\"},{\"attributes\":{},\"id\":\"8149\",\"type\":\"SaveTool\"},{\"attributes\":{},\"id\":\"8150\",\"type\":\"ResetTool\"},{\"attributes\":{},\"id\":\"8372\",\"type\":\"Selection\"},{\"attributes\":{},\"id\":\"8387\",\"type\":\"BasicTickFormatter\"},{\"attributes\":{\"line_color\":\"red\",\"x\":{\"field\":\"x\"},\"y\":{\"field\":\"y\"}},\"id\":\"8199\",\"type\":\"Line\"},{\"attributes\":{},\"id\":\"8172\",\"type\":\"LinearScale\"},{\"attributes\":{},\"id\":\"8373\",\"type\":\"UnionRenderers\"},{\"attributes\":{},\"id\":\"8174\",\"type\":\"LinearScale\"},{\"attributes\":{},\"id\":\"8170\",\"type\":\"DataRange1d\"},{\"attributes\":{\"axis_label\":\"Velocity (kms^-1)\",\"formatter\":{\"id\":\"8371\"},\"ticker\":{\"id\":\"8177\"}},\"id\":\"8176\",\"type\":\"LinearAxis\"},{\"attributes\":{},\"id\":\"8389\",\"type\":\"BasicTickFormatter\"},{\"attributes\":{\"axis\":{\"id\":\"8176\"},\"ticker\":null},\"id\":\"8179\",\"type\":\"Grid\"},{\"attributes\":{},\"id\":\"8177\",\"type\":\"BasicTicker\"},{\"attributes\":{},\"id\":\"8185\",\"type\":\"WheelZoomTool\"},{\"attributes\":{},\"id\":\"8168\",\"type\":\"DataRange1d\"},{\"attributes\":{\"data_source\":{\"id\":\"8198\"},\"glyph\":{\"id\":\"8199\"},\"hover_glyph\":null,\"muted_glyph\":null,\"nonselection_glyph\":{\"id\":\"8200\"},\"selection_glyph\":null,\"view\":{\"id\":\"8202\"}},\"id\":\"8201\",\"type\":\"GlyphRenderer\"},{\"attributes\":{\"text\":\"l = 50\"},\"id\":\"8166\",\"type\":\"Title\"},{\"attributes\":{\"bottom_units\":\"screen\",\"fill_alpha\":0.5,\"fill_color\":\"lightgrey\",\"left_units\":\"screen\",\"level\":\"overlay\",\"line_alpha\":1.0,\"line_color\":\"black\",\"line_dash\":[4,4],\"line_width\":2,\"right_units\":\"screen\",\"top_units\":\"screen\"},\"id\":\"8152\",\"type\":\"BoxAnnotation\"},{\"attributes\":{},\"id\":\"8188\",\"type\":\"ResetTool\"},{\"attributes\":{},\"id\":\"8390\",\"type\":\"Selection\"},{\"attributes\":{},\"id\":\"8391\",\"type\":\"UnionRenderers\"},{\"attributes\":{},\"id\":\"8405\",\"type\":\"BasicTickFormatter\"},{\"attributes\":{},\"id\":\"8184\",\"type\":\"PanTool\"},{\"attributes\":{\"active_drag\":\"auto\",\"active_inspect\":\"auto\",\"active_multi\":null,\"active_scroll\":\"auto\",\"active_tap\":\"auto\",\"tools\":[{\"id\":\"8146\"},{\"id\":\"8147\"},{\"id\":\"8148\"},{\"id\":\"8149\"},{\"id\":\"8150\"},{\"id\":\"8151\"}]},\"id\":\"8153\",\"type\":\"Toolbar\"},{\"attributes\":{},\"id\":\"8378\",\"type\":\"BasicTickFormatter\"},{\"attributes\":{},\"id\":\"8407\",\"type\":\"BasicTickFormatter\"},{\"attributes\":{\"line_alpha\":0.1,\"line_color\":\"red\",\"x\":{\"field\":\"x\"},\"y\":{\"field\":\"y\"}},\"id\":\"8162\",\"type\":\"Line\"},{\"attributes\":{\"source\":{\"id\":\"8160\"}},\"id\":\"8164\",\"type\":\"CDSView\"},{\"attributes\":{\"below\":[{\"id\":\"8214\"}],\"center\":[{\"id\":\"8217\"},{\"id\":\"8221\"}],\"left\":[{\"id\":\"8218\"}],\"plot_height\":300,\"plot_width\":400,\"renderers\":[{\"id\":\"8239\"}],\"title\":{\"id\":\"8204\"},\"toolbar\":{\"id\":\"8229\"},\"toolbar_location\":null,\"x_range\":{\"id\":\"8206\"},\"x_scale\":{\"id\":\"8210\"},\"y_range\":{\"id\":\"8208\"},\"y_scale\":{\"id\":\"8212\"}},\"id\":\"8203\",\"subtype\":\"Figure\",\"type\":\"Plot\"},{\"attributes\":{},\"id\":\"8380\",\"type\":\"BasicTickFormatter\"},{\"attributes\":{},\"id\":\"8408\",\"type\":\"Selection\"},{\"attributes\":{\"data\":{\"x\":{\"__ndarray__\":\"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\",\"dtype\":\"float64\",\"order\":\"little\",\"shape\":[401]},\"y\":{\"__ndarray__\":\"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\",\"dtype\":\"float64\",\"order\":\"little\",\"shape\":[401]}},\"selected\":{\"id\":\"8372\"},\"selection_policy\":{\"id\":\"8373\"}},\"id\":\"8198\",\"type\":\"ColumnDataSource\"},{\"attributes\":{\"axis_label\":\"Intensity\",\"formatter\":{\"id\":\"8369\"},\"ticker\":{\"id\":\"8181\"}},\"id\":\"8180\",\"type\":\"LinearAxis\"},{\"attributes\":{\"axis\":{\"id\":\"8180\"},\"dimension\":1,\"ticker\":null},\"id\":\"8183\",\"type\":\"Grid\"},{\"attributes\":{},\"id\":\"8181\",\"type\":\"BasicTicker\"},{\"attributes\":{\"active_drag\":\"auto\",\"active_inspect\":\"auto\",\"active_multi\":null,\"active_scroll\":\"auto\",\"active_tap\":\"auto\",\"tools\":[{\"id\":\"8184\"},{\"id\":\"8185\"},{\"id\":\"8186\"},{\"id\":\"8187\"},{\"id\":\"8188\"},{\"id\":\"8189\"}]},\"id\":\"8191\",\"type\":\"Toolbar\"},{\"attributes\":{\"data_source\":{\"id\":\"8350\"},\"glyph\":{\"id\":\"8351\"},\"hover_glyph\":null,\"muted_glyph\":null,\"nonselection_glyph\":{\"id\":\"8352\"},\"selection_glyph\":null,\"view\":{\"id\":\"8354\"}},\"id\":\"8353\",\"type\":\"GlyphRenderer\"},{\"attributes\":{},\"id\":\"8189\",\"type\":\"HelpTool\"},{\"attributes\":{\"overlay\":{\"id\":\"8190\"}},\"id\":\"8186\",\"type\":\"BoxZoomTool\"},{\"attributes\":{},\"id\":\"8187\",\"type\":\"SaveTool\"}],\"root_ids\":[\"8415\"]},\"title\":\"Bokeh Application\",\"version\":\"2.2.3\"}};\n",
       "  var render_items = [{\"docid\":\"b300f972-414f-435d-9efe-a7f9a9a2ea7e\",\"root_ids\":[\"8415\"],\"roots\":{\"8415\":\"8d151fa3-4b43-4afb-9f62-cfdac246930d\"}}];\n",
       "  root.Bokeh.embed.embed_items_notebook(docs_json, render_items);\n",
       "\n",
       "  }\n",
       "  if (root.Bokeh !== undefined) {\n",
       "    embed_document(root);\n",
       "  } else {\n",
       "    var attempts = 0;\n",
       "    var timer = setInterval(function(root) {\n",
       "      if (root.Bokeh !== undefined) {\n",
       "        clearInterval(timer);\n",
       "        embed_document(root);\n",
       "      } else {\n",
       "        attempts++;\n",
       "        if (attempts > 100) {\n",
       "          clearInterval(timer);\n",
       "          console.log(\"Bokeh: ERROR: Unable to run BokehJS code because BokehJS library is missing\");\n",
       "        }\n",
       "      }\n",
       "    }, 10, root)\n",
       "  }\n",
       "})(window);"
      ],
      "application/vnd.bokehjs_exec.v0+json": ""
     },
     "metadata": {
      "application/vnd.bokehjs_exec.v0+json": {
       "id": "8415"
      }
     },
     "output_type": "display_data"
    }
   ],
   "source": [
    "from bokeh.layouts import gridplot\n",
    "from bokeh.models import Range1d\n",
    "\n",
    "# Let's just set up an 'x' value once here.\n",
    "xvals = df40['velocity']\n",
    "\n",
    "s1 = figure(plot_width=400, plot_height=300, title='l = 40',\n",
    "            x_axis_label='Velocity (kms^-1)', \n",
    "            y_axis_label='Intensity')\n",
    "s1.line(xvals,df40['mean_int'], color='red')\n",
    "s2 = figure(plot_width=400, plot_height=300, title='l = 50',\n",
    "            x_axis_label='Velocity (kms^-1)', \n",
    "            y_axis_label='Intensity')\n",
    "s2.line(xvals,df50['mean_int'], color='red')\n",
    "s3 = figure(plot_width=400, plot_height=300, title='l = 60',\n",
    "            x_axis_label='Velocity (kms^-1)', \n",
    "            y_axis_label='Intensity')\n",
    "s3.line(xvals,df60['mean_int'], color='red')\n",
    "s4 = figure(plot_width=400, plot_height=300, title='l = 70',\n",
    "            x_axis_label='Velocity (kms^-1)', \n",
    "            y_axis_label='Intensity')\n",
    "s4.line(xvals,df70['mean_int'],color='red')\n",
    "s5 = figure(plot_width=400, plot_height=300, title='l = 80',\n",
    "            x_axis_label='Velocity (kms^-1)', \n",
    "            y_axis_label='Intensity')\n",
    "s5.line(xvals,df80['mean_int'],color='red')\n",
    "s6 = figure(plot_width=400, plot_height=300, title='Baseline - (NEP)',\n",
    "            x_axis_label='Velocity (kms^-1)', \n",
    "            y_axis_label='Intensity')\n",
    "s6.line(xvals, df70['baseline'], color='purple')\n",
    "s6.add_tools(HoverTool(mode='vline'))\n",
    "6.y_range = Range1d(2,3)  # Matches the scale of the baseline graph to the other graphhs.\n",
    "\n",
    "grid = gridplot([[s1,s2],[s3,s4], [s5,s6]])\n",
    "show(grid)\n",
    "\n"
   ]
  },
  {
   "cell_type": "markdown",
   "metadata": {},
   "source": [
    "#### Odds and sods"
   ]
  },
  {
   "cell_type": "code",
   "execution_count": 57,
   "metadata": {},
   "outputs": [],
   "source": [
    "test=pd.DataFrame(columns=['this column', 'that column'])"
   ]
  },
  {
   "cell_type": "code",
   "execution_count": 58,
   "metadata": {},
   "outputs": [],
   "source": [
    "list=[{'Latitude':angle, 'Max velocity': round(df.loc[df['mean_norm'].idxmax()][2],3)} for angle,df in display_data]\n",
    "#df50.loc[df80['mean_norm'].idxmax()][2]"
   ]
  },
  {
   "cell_type": "code",
   "execution_count": 59,
   "metadata": {},
   "outputs": [],
   "source": [
    "max_vel=pd.DataFrame(list)"
   ]
  },
  {
   "cell_type": "code",
   "execution_count": 60,
   "metadata": {},
   "outputs": [
    {
     "data": {
      "text/html": [
       "<div>\n",
       "<style scoped>\n",
       "    .dataframe tbody tr th:only-of-type {\n",
       "        vertical-align: middle;\n",
       "    }\n",
       "\n",
       "    .dataframe tbody tr th {\n",
       "        vertical-align: top;\n",
       "    }\n",
       "\n",
       "    .dataframe thead th {\n",
       "        text-align: right;\n",
       "    }\n",
       "</style>\n",
       "<table border=\"1\" class=\"dataframe\">\n",
       "  <thead>\n",
       "    <tr style=\"text-align: right;\">\n",
       "      <th></th>\n",
       "      <th>Max velocity</th>\n",
       "    </tr>\n",
       "    <tr>\n",
       "      <th>Latitude</th>\n",
       "      <th></th>\n",
       "    </tr>\n",
       "  </thead>\n",
       "  <tbody>\n",
       "    <tr>\n",
       "      <th>40</th>\n",
       "      <td>35.881</td>\n",
       "    </tr>\n",
       "    <tr>\n",
       "      <th>50</th>\n",
       "      <td>7.387</td>\n",
       "    </tr>\n",
       "    <tr>\n",
       "      <th>60</th>\n",
       "      <td>7.387</td>\n",
       "    </tr>\n",
       "    <tr>\n",
       "      <th>70</th>\n",
       "      <td>1.055</td>\n",
       "    </tr>\n",
       "    <tr>\n",
       "      <th>80</th>\n",
       "      <td>-3.166</td>\n",
       "    </tr>\n",
       "  </tbody>\n",
       "</table>\n",
       "</div>"
      ],
      "text/plain": [
       "          Max velocity\n",
       "Latitude              \n",
       "40              35.881\n",
       "50               7.387\n",
       "60               7.387\n",
       "70               1.055\n",
       "80              -3.166"
      ]
     },
     "execution_count": 60,
     "metadata": {},
     "output_type": "execute_result"
    }
   ],
   "source": [
    "max_vel.set_index('Latitude')"
   ]
  },
  {
   "cell_type": "code",
   "execution_count": 61,
   "metadata": {},
   "outputs": [
    {
     "data": {
      "text/plain": [
       "range(0, 12)"
      ]
     },
     "execution_count": 61,
     "metadata": {},
     "output_type": "execute_result"
    }
   ],
   "source": [
    "range(12)"
   ]
  },
  {
   "cell_type": "code",
   "execution_count": 62,
   "metadata": {},
   "outputs": [
    {
     "name": "stdout",
     "output_type": "stream",
     "text": [
      "0\n"
     ]
    }
   ],
   "source": [
    "for i in range(1):\n",
    "    print(i)"
   ]
  },
  {
   "cell_type": "code",
   "execution_count": 63,
   "metadata": {},
   "outputs": [],
   "source": [
    "A=['a','b','c']\n",
    "B=['is for apple', 'is for bytecode', \"is for C++\"]\n",
    "C=zip(A,B)"
   ]
  },
  {
   "cell_type": "code",
   "execution_count": 64,
   "metadata": {},
   "outputs": [
    {
     "name": "stdout",
     "output_type": "stream",
     "text": [
      "<zip object at 0x00000215884A93C0>\n"
     ]
    }
   ],
   "source": [
    "print(C)"
   ]
  },
  {
   "cell_type": "code",
   "execution_count": 65,
   "metadata": {},
   "outputs": [],
   "source": [
    "# for item, item2 in C:\n",
    "#     print(f'{item} {item2}')"
   ]
  },
  {
   "cell_type": "code",
   "execution_count": 66,
   "metadata": {},
   "outputs": [
    {
     "name": "stdout",
     "output_type": "stream",
     "text": [
      "1. a is for apple\n",
      "2. b is for bytecode\n",
      "3. c is for C++\n"
     ]
    }
   ],
   "source": [
    "D=enumerate(C)\n",
    "for item,(item1,item2) in D:\n",
    "    print(f'{item+1}. {item1} {item2}')"
   ]
  },
  {
   "cell_type": "raw",
   "metadata": {},
   "source": []
  },
  {
   "cell_type": "code",
   "execution_count": null,
   "metadata": {},
   "outputs": [],
   "source": []
  },
  {
   "cell_type": "code",
   "execution_count": null,
   "metadata": {},
   "outputs": [],
   "source": []
  }
 ],
 "metadata": {
  "kernelspec": {
   "display_name": "Python 3",
   "language": "python",
   "name": "python3"
  },
  "language_info": {
   "codemirror_mode": {
    "name": "ipython",
    "version": 3
   },
   "file_extension": ".py",
   "mimetype": "text/x-python",
   "name": "python",
   "nbconvert_exporter": "python",
   "pygments_lexer": "ipython3",
   "version": "3.8.5"
  }
 },
 "nbformat": 4,
 "nbformat_minor": 4
}
