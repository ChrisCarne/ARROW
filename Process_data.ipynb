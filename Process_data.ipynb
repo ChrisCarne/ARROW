{
 "cells": [
  {
   "cell_type": "markdown",
   "metadata": {},
   "source": [
    "## Process and display data from ARROW\n",
    "\n",
    "1. Get filenames and read in data - Done\n",
    "2. Aggregate baseline data - Done\n",
    "3. Normalise data using baseline obs - Done\n",
    "4. Convert frequency to velocity - Done\n",
    "5. Save data + headers to file - Done\n",
    "6. Aggregate data - Done\n",
    "7. Display data\n",
    "8. Think of at least a dozen synonyms for data so there aren't duplicate variables - Done\n",
    "\n"
   ]
  },
  {
   "cell_type": "markdown",
   "metadata": {},
   "source": [
    "#### Various imports\n"
   ]
  },
  {
   "cell_type": "code",
   "execution_count": 35,
   "metadata": {},
   "outputs": [],
   "source": [
    "import os #filesystem stuff\n",
    "from operator import itemgetter #to help with complex list sort\n",
    "import numpy as np\n",
    "import pandas as pd\n",
    "from bokeh.plotting import figure, output_notebook, show\n",
    "from bokeh.models.tools import HoverTool"
   ]
  },
  {
   "cell_type": "markdown",
   "metadata": {},
   "source": [
    "#### Some sort of function that uses the file name to read in the data and returns a list of tuples containing `[(angle, data, header),...]`  "
   ]
  },
  {
   "cell_type": "code",
   "execution_count": 20,
   "metadata": {},
   "outputs": [],
   "source": [
    "def read_ARROW_data(path, filename):\n",
    "    \"\"\"Reads in and partially processes an  ARROW spectrum\n",
    "    \n",
    "    The spectrum file contains a number of header lines indicated by `#' or blanks. \n",
    "    This function splits these from the main data and returns both \n",
    "            \n",
    "    Parameters\n",
    "    ----------\n",
    "    filename : str\n",
    "    path : str\n",
    "       filepath\n",
    "    \n",
    "    Returns\n",
    "    -------\n",
    "    dat : class: pandas.DataFrame\n",
    "        Spectrum data\n",
    "    Header lines : list of str\n",
    "        List of header lines\n",
    "    \"\"\"\n",
    "     \n",
    "    # Read lines till first line not starting with #, or whitespace.\n",
    "    # Store these as a list\n",
    "    path_filename=path+'\\\\'+filename\n",
    "    angle=filename.split('_')[0]\n",
    "    header_list = []\n",
    "    number_header_lines = 0\n",
    "    dat = None\n",
    "    with open(path_filename) as f:\n",
    "        line = f.readline()\n",
    "        while line[0] == '#' or line[0] == ',' or line[0].isspace():\n",
    "            header_list.append(line)\n",
    "            number_header_lines += 1\n",
    "            line = f.readline()\n",
    "        dat = pd.read_csv(path_filename, header = number_header_lines, skipinitialspace = True, index_col='frequency')\n",
    "\n",
    "    return (angle, dat, header_list,filename)"
   ]
  },
  {
   "cell_type": "markdown",
   "metadata": {},
   "source": [
    "####  Processes the data to take the average of sets of obervations"
   ]
  },
  {
   "cell_type": "code",
   "execution_count": 21,
   "metadata": {},
   "outputs": [],
   "source": [
    "def aggregate_d(data_list,ang): \n",
    "    \"\"\" Takes in a list of dataframes and an angle and contatenates the results from a \n",
    "    number of observation and returns a df with the averaged result\n",
    "        \n",
    "    Parameters\n",
    "    ----------\n",
    "    data_list : list, str\n",
    "    ang: str\n",
    "    \n",
    "    Returns\n",
    "    -------\n",
    "    dat : class: pandas.DataFrame\n",
    "        Averaged spectrum data\n",
    "    \"\"\"\n",
    "    x=[data for angle, data, header,filename in data_list if angle.startswith(ang)]\n",
    "    df=pd.concat((x),axis=1)\n",
    "    df.columns=[item + '_'+  str(n+1) for n,item in enumerate(df.columns)]\n",
    "    df['mean intensity']=df.mean(axis=1)\n",
    "    return df"
   ]
  },
  {
   "cell_type": "markdown",
   "metadata": {},
   "source": [
    "#### Subtract the baseline data and save and display normalised data"
   ]
  },
  {
   "cell_type": "code",
   "execution_count": 22,
   "metadata": {},
   "outputs": [],
   "source": [
    "def normalise_data(data, baseline):\n",
    "    \"\"\" Takes in a list of angle, dataFrame and a pandas series of the baseline observation and\n",
    "    returns a new data frame with the baseline and normalised_ data added as columns. \n",
    "            \n",
    "    Parameters\n",
    "    ----------\n",
    "    data : tuple, str, pandas.DataFrame\n",
    "    baseline: pandas.Series\n",
    "    \n",
    "    Returns\n",
    "    -------\n",
    "    new_df : class: pandas.DataFrame\n",
    "    \"\"\"\n",
    "        \n",
    "    if data[0] !='BG':\n",
    "        new_df=data[1]\n",
    "        new_df['baseline']=baseline\n",
    "        new_df['norm_data']=new_df['intensity']-new_df['baseline']\n",
    "        return new_df"
   ]
  },
  {
   "cell_type": "markdown",
   "metadata": {},
   "source": [
    "#### Convert frequency to velocity"
   ]
  },
  {
   "cell_type": "code",
   "execution_count": 23,
   "metadata": {},
   "outputs": [],
   "source": [
    "def freq_to_vel(freq, f0=1420.4e6):\n",
    "    ''' Takes a frequency value (or Pandas Dataframe column or Series) and returns\n",
    "    a velocity value (or new Dataframe column of values). f0 is the rest\n",
    "    frequency and defaults to 1420.4 MHz'''\n",
    "    \n",
    "    # We need a value for 'c' - thespeed of light. \n",
    "    # You can either define it explicitly here or alternatively, use the \n",
    "    # Astropy constants\n",
    "    c = 299792458.0  #m/s\n",
    "    v=-(freq*c)/f0    \n",
    "    return v/1000  #(km/s)     "
   ]
  },
  {
   "cell_type": "markdown",
   "metadata": {},
   "source": [
    "#### Saves data list items back to file"
   ]
  },
  {
   "cell_type": "code",
   "execution_count": 24,
   "metadata": {},
   "outputs": [],
   "source": [
    "def save_data(data_list):\n",
    "    \n",
    "    '''Takes the data list and writes the header and dataframe out to a csv file making a directory if necessory\n",
    "        \n",
    "        Parameters\n",
    "        ----------\n",
    "        datalist : list [list, pandas.DataFrame]\n",
    "\n",
    "        Returns\n",
    "        -------\n",
    "        void  \n",
    "    '''\n",
    "    try: #Easier to ask forgiveness than seek permission\n",
    "        os.mkdir('D:\\\\OU2\\\\OneDrive - The Open University\\\\OU 2021\\\\SXPS277\\\\python\\\\ARROW\\\\proc_data')\n",
    "    except:\n",
    "        pass\n",
    "    save_path = 'D:\\\\OU2\\\\OneDrive - The Open University\\\\OU 2021\\\\SXPS277\\\\python\\\\ARROW\\\\proc_data'\n",
    "    for _,df,header,fn in data_list:\n",
    "        new_fn= fn[:-4] +\"_proc.csv\"\n",
    "        completeName = os.path.join(save_path, new_fn)\n",
    "        with open(completeName, mode='w') as data_file:\n",
    "            data_file.write(\"\".join(header))\n",
    "        df.to_csv(completeName, mode='a')"
   ]
  },
  {
   "cell_type": "markdown",
   "metadata": {},
   "source": [
    "#### Loops over a list of angles and calls the aggregating list function for each group of obs\n",
    "There's currently two functions doing much the same thing for the background data and the main data as tey need slighty different treatment - not 100% staidfoctory but hey ho."
   ]
  },
  {
   "cell_type": "code",
   "execution_count": 25,
   "metadata": {},
   "outputs": [],
   "source": [
    "def agg(obs_list):\n",
    "    #This is for the background obs\n",
    "    angle_set={angle[0][0:2] if angle[0].startswith('BG') else angle[0] for angle in obs_list} #using set to remove dupes\n",
    "\n",
    "    #sorts back into list - sets are unordered.  Function in a function - tut. \n",
    "    return sorted([[ang,aggregate_d(obs_list, ang)] for ang in angle_set],key=itemgetter(0)) \n",
    "    "
   ]
  },
  {
   "cell_type": "markdown",
   "metadata": {},
   "source": [
    "#### Pretty much thesame just calls a different function to do the processing"
   ]
  },
  {
   "cell_type": "code",
   "execution_count": 26,
   "metadata": {},
   "outputs": [],
   "source": [
    "def aggregate2(data_list):\n",
    "    angle_set={angle[0] for angle in data_list}\n",
    "    #sorts back into list - sets are unordered\n",
    "    return sorted([[angle,process_data(angle,data_list)]for angle in angle_set],key=itemgetter(0))"
   ]
  },
  {
   "cell_type": "markdown",
   "metadata": {},
   "source": [
    "#### Takes the main datalist and an angle and returns an aggregated  dataframe for each angle"
   ]
  },
  {
   "cell_type": "code",
   "execution_count": 27,
   "metadata": {},
   "outputs": [],
   "source": [
    "def process_data(ang,datalist):\n",
    "    ''' Stuff here I suppose\n",
    "    '''\n",
    "    dataframe= datalist[0][1]\n",
    "    x=[data for angle, data,_,_ in data_list if angle.startswith(ang)]\n",
    "    \n",
    "    # smashes everythign together into a big df\n",
    "    for frame in x:\n",
    "        dataframe = pd.merge(dataframe,frame, on=['baseline','frequency','velocity'])     \n",
    "  \n",
    "    #filters for intensity and normalised data\n",
    "    cols= [col for col in dataframe.columns if not(col.startswith('int'))]\n",
    "    n_cols=[col for col in dataframe.columns if not(col.startswith('norm'))]\n",
    "    \n",
    "    #chops up the big df and puts it together with the means of intensity and normalised intensity \n",
    "    mean_int=dataframe.drop(cols, axis =1).mean(axis=1)\n",
    "    int_norm=dataframe.drop(n_cols, axis =1).mean(axis=1)\n",
    "    new_df=pd.DataFrame({'mean_int':mean_int, 'mean_norm':int_norm})\n",
    "    new_df['velocity']=dataframe['velocity']\n",
    "    new_df['baseline']=dataframe['baseline']\n",
    "    return new_df"
   ]
  },
  {
   "cell_type": "markdown",
   "metadata": {},
   "source": [
    "#### Get the filenames from the specified directory"
   ]
  },
  {
   "cell_type": "code",
   "execution_count": 28,
   "metadata": {},
   "outputs": [],
   "source": [
    "basepath = 'D:\\\\OU2\\\\OneDrive - The Open University\\\\OU 2021\\\\SXPS277\\\\python\\\\ARROW\\\\sample_data'\n",
    "with os.scandir(basepath) as entries:\n",
    "    files=[entry.name for entry in entries if entry.name.find('.csv') !=-1] \n",
    "    background_list=[read_ARROW_data(basepath, file) for file in files if file.startswith(\"BG\")]\n",
    "    data_list=[read_ARROW_data(basepath, file) for file in files if not(file.startswith(\"BG\"))]\n"
   ]
  },
  {
   "cell_type": "markdown",
   "metadata": {},
   "source": [
    "####  Calls the function to aggregate the background data"
   ]
  },
  {
   "cell_type": "code",
   "execution_count": 29,
   "metadata": {},
   "outputs": [],
   "source": [
    "agg_bg=agg(background_list)\n"
   ]
  },
  {
   "cell_type": "markdown",
   "metadata": {},
   "source": [
    "#### Iterates over the sorted data list and calls the normalise_data function on each item"
   ]
  },
  {
   "cell_type": "code",
   "execution_count": 30,
   "metadata": {},
   "outputs": [],
   "source": [
    "baseline=agg_bg[0][1]['mean intensity'] #plucks the mean background values from the df\n",
    "\n",
    "norm_data_list=[(data[0],normalise_data(data,baseline),data[2],data[3])for data in data_list]\n"
   ]
  },
  {
   "cell_type": "markdown",
   "metadata": {},
   "source": [
    "#### Converts frequency to velocity"
   ]
  },
  {
   "cell_type": "code",
   "execution_count": 31,
   "metadata": {},
   "outputs": [],
   "source": [
    "for item in norm_data_list:\n",
    "    item[1]['velocity']=freq_to_vel(item[1].index)"
   ]
  },
  {
   "cell_type": "markdown",
   "metadata": {},
   "source": [
    "#### Saves data (duh)"
   ]
  },
  {
   "cell_type": "code",
   "execution_count": 32,
   "metadata": {},
   "outputs": [],
   "source": [
    "save_data(norm_data_list)"
   ]
  },
  {
   "cell_type": "markdown",
   "metadata": {},
   "source": [
    "#### To do\n",
    "\n",
    "1. Aggregate data - done\n",
    "2. Do the display stuff\n",
    "\n",
    "Strategy for aggregaton is to make one big df from each set of obs, then subsetting to get teh means of intensity and teh normalised intensity and then bulding a new df from that lot. "
   ]
  },
  {
   "cell_type": "markdown",
   "metadata": {},
   "source": [
    "#### Display the data as tables and as graphs"
   ]
  },
  {
   "cell_type": "code",
   "execution_count": 33,
   "metadata": {},
   "outputs": [],
   "source": [
    "# To do"
   ]
  },
  {
   "cell_type": "markdown",
   "metadata": {},
   "source": [
    "Other stuff "
   ]
  },
  {
   "cell_type": "code",
   "execution_count": 38,
   "metadata": {},
   "outputs": [],
   "source": [
    "display_data = aggregate2(norm_data_list)"
   ]
  },
  {
   "cell_type": "code",
   "execution_count": 71,
   "metadata": {},
   "outputs": [],
   "source": [
    "angle,df = display_data[0]"
   ]
  },
  {
   "cell_type": "code",
   "execution_count": 72,
   "metadata": {},
   "outputs": [
    {
     "data": {
      "text/plain": [
       "'030'"
      ]
     },
     "execution_count": 72,
     "metadata": {},
     "output_type": "execute_result"
    }
   ],
   "source": [
    "angle"
   ]
  },
  {
   "cell_type": "code",
   "execution_count": 77,
   "metadata": {},
   "outputs": [
    {
     "data": {
      "text/html": [
       "<div>\n",
       "<style scoped>\n",
       "    .dataframe tbody tr th:only-of-type {\n",
       "        vertical-align: middle;\n",
       "    }\n",
       "\n",
       "    .dataframe tbody tr th {\n",
       "        vertical-align: top;\n",
       "    }\n",
       "\n",
       "    .dataframe thead th {\n",
       "        text-align: right;\n",
       "    }\n",
       "</style>\n",
       "<table border=\"1\" class=\"dataframe\">\n",
       "  <thead>\n",
       "    <tr style=\"text-align: right;\">\n",
       "      <th></th>\n",
       "      <th>mean_int</th>\n",
       "      <th>mean_norm</th>\n",
       "      <th>velocity</th>\n",
       "      <th>baseline</th>\n",
       "    </tr>\n",
       "    <tr>\n",
       "      <th>frequency</th>\n",
       "      <th></th>\n",
       "      <th></th>\n",
       "      <th></th>\n",
       "      <th></th>\n",
       "    </tr>\n",
       "  </thead>\n",
       "  <tbody>\n",
       "    <tr>\n",
       "      <th>-800000</th>\n",
       "      <td>1.895</td>\n",
       "      <td>0.0040</td>\n",
       "      <td>168.849596</td>\n",
       "      <td>1.8910</td>\n",
       "    </tr>\n",
       "    <tr>\n",
       "      <th>-795000</th>\n",
       "      <td>1.885</td>\n",
       "      <td>0.0185</td>\n",
       "      <td>167.794286</td>\n",
       "      <td>1.8665</td>\n",
       "    </tr>\n",
       "    <tr>\n",
       "      <th>-790000</th>\n",
       "      <td>1.855</td>\n",
       "      <td>0.0045</td>\n",
       "      <td>166.738976</td>\n",
       "      <td>1.8505</td>\n",
       "    </tr>\n",
       "    <tr>\n",
       "      <th>-785000</th>\n",
       "      <td>1.863</td>\n",
       "      <td>0.0295</td>\n",
       "      <td>165.683666</td>\n",
       "      <td>1.8335</td>\n",
       "    </tr>\n",
       "    <tr>\n",
       "      <th>-780000</th>\n",
       "      <td>1.853</td>\n",
       "      <td>0.0285</td>\n",
       "      <td>164.628356</td>\n",
       "      <td>1.8245</td>\n",
       "    </tr>\n",
       "    <tr>\n",
       "      <th>...</th>\n",
       "      <td>...</td>\n",
       "      <td>...</td>\n",
       "      <td>...</td>\n",
       "      <td>...</td>\n",
       "    </tr>\n",
       "    <tr>\n",
       "      <th>1180000</th>\n",
       "      <td>2.461</td>\n",
       "      <td>0.0235</td>\n",
       "      <td>-249.053154</td>\n",
       "      <td>2.4375</td>\n",
       "    </tr>\n",
       "    <tr>\n",
       "      <th>1185000</th>\n",
       "      <td>2.476</td>\n",
       "      <td>0.0345</td>\n",
       "      <td>-250.108464</td>\n",
       "      <td>2.4415</td>\n",
       "    </tr>\n",
       "    <tr>\n",
       "      <th>1190000</th>\n",
       "      <td>2.473</td>\n",
       "      <td>0.0380</td>\n",
       "      <td>-251.163774</td>\n",
       "      <td>2.4350</td>\n",
       "    </tr>\n",
       "    <tr>\n",
       "      <th>1195000</th>\n",
       "      <td>2.490</td>\n",
       "      <td>0.0390</td>\n",
       "      <td>-252.219084</td>\n",
       "      <td>2.4510</td>\n",
       "    </tr>\n",
       "    <tr>\n",
       "      <th>1200000</th>\n",
       "      <td>2.490</td>\n",
       "      <td>0.0535</td>\n",
       "      <td>-253.274394</td>\n",
       "      <td>2.4365</td>\n",
       "    </tr>\n",
       "  </tbody>\n",
       "</table>\n",
       "<p>401 rows × 4 columns</p>\n",
       "</div>"
      ],
      "text/plain": [
       "           mean_int  mean_norm    velocity  baseline\n",
       "frequency                                           \n",
       "-800000       1.895     0.0040  168.849596    1.8910\n",
       "-795000       1.885     0.0185  167.794286    1.8665\n",
       "-790000       1.855     0.0045  166.738976    1.8505\n",
       "-785000       1.863     0.0295  165.683666    1.8335\n",
       "-780000       1.853     0.0285  164.628356    1.8245\n",
       "...             ...        ...         ...       ...\n",
       " 1180000      2.461     0.0235 -249.053154    2.4375\n",
       " 1185000      2.476     0.0345 -250.108464    2.4415\n",
       " 1190000      2.473     0.0380 -251.163774    2.4350\n",
       " 1195000      2.490     0.0390 -252.219084    2.4510\n",
       " 1200000      2.490     0.0535 -253.274394    2.4365\n",
       "\n",
       "[401 rows x 4 columns]"
      ]
     },
     "execution_count": 77,
     "metadata": {},
     "output_type": "execute_result"
    }
   ],
   "source": [
    "df"
   ]
  },
  {
   "cell_type": "code",
   "execution_count": 78,
   "metadata": {},
   "outputs": [
    {
     "data": {
      "text/html": [
       "\n",
       "    <div class=\"bk-root\">\n",
       "        <a href=\"https://bokeh.org\" target=\"_blank\" class=\"bk-logo bk-logo-small bk-logo-notebook\"></a>\n",
       "        <span id=\"3523\">Loading BokehJS ...</span>\n",
       "    </div>"
      ]
     },
     "metadata": {},
     "output_type": "display_data"
    },
    {
     "data": {
      "application/javascript": [
       "\n",
       "(function(root) {\n",
       "  function now() {\n",
       "    return new Date();\n",
       "  }\n",
       "\n",
       "  var force = true;\n",
       "\n",
       "  if (typeof root._bokeh_onload_callbacks === \"undefined\" || force === true) {\n",
       "    root._bokeh_onload_callbacks = [];\n",
       "    root._bokeh_is_loading = undefined;\n",
       "  }\n",
       "\n",
       "  var JS_MIME_TYPE = 'application/javascript';\n",
       "  var HTML_MIME_TYPE = 'text/html';\n",
       "  var EXEC_MIME_TYPE = 'application/vnd.bokehjs_exec.v0+json';\n",
       "  var CLASS_NAME = 'output_bokeh rendered_html';\n",
       "\n",
       "  /**\n",
       "   * Render data to the DOM node\n",
       "   */\n",
       "  function render(props, node) {\n",
       "    var script = document.createElement(\"script\");\n",
       "    node.appendChild(script);\n",
       "  }\n",
       "\n",
       "  /**\n",
       "   * Handle when an output is cleared or removed\n",
       "   */\n",
       "  function handleClearOutput(event, handle) {\n",
       "    var cell = handle.cell;\n",
       "\n",
       "    var id = cell.output_area._bokeh_element_id;\n",
       "    var server_id = cell.output_area._bokeh_server_id;\n",
       "    // Clean up Bokeh references\n",
       "    if (id != null && id in Bokeh.index) {\n",
       "      Bokeh.index[id].model.document.clear();\n",
       "      delete Bokeh.index[id];\n",
       "    }\n",
       "\n",
       "    if (server_id !== undefined) {\n",
       "      // Clean up Bokeh references\n",
       "      var cmd = \"from bokeh.io.state import curstate; print(curstate().uuid_to_server['\" + server_id + \"'].get_sessions()[0].document.roots[0]._id)\";\n",
       "      cell.notebook.kernel.execute(cmd, {\n",
       "        iopub: {\n",
       "          output: function(msg) {\n",
       "            var id = msg.content.text.trim();\n",
       "            if (id in Bokeh.index) {\n",
       "              Bokeh.index[id].model.document.clear();\n",
       "              delete Bokeh.index[id];\n",
       "            }\n",
       "          }\n",
       "        }\n",
       "      });\n",
       "      // Destroy server and session\n",
       "      var cmd = \"import bokeh.io.notebook as ion; ion.destroy_server('\" + server_id + \"')\";\n",
       "      cell.notebook.kernel.execute(cmd);\n",
       "    }\n",
       "  }\n",
       "\n",
       "  /**\n",
       "   * Handle when a new output is added\n",
       "   */\n",
       "  function handleAddOutput(event, handle) {\n",
       "    var output_area = handle.output_area;\n",
       "    var output = handle.output;\n",
       "\n",
       "    // limit handleAddOutput to display_data with EXEC_MIME_TYPE content only\n",
       "    if ((output.output_type != \"display_data\") || (!output.data.hasOwnProperty(EXEC_MIME_TYPE))) {\n",
       "      return\n",
       "    }\n",
       "\n",
       "    var toinsert = output_area.element.find(\".\" + CLASS_NAME.split(' ')[0]);\n",
       "\n",
       "    if (output.metadata[EXEC_MIME_TYPE][\"id\"] !== undefined) {\n",
       "      toinsert[toinsert.length - 1].firstChild.textContent = output.data[JS_MIME_TYPE];\n",
       "      // store reference to embed id on output_area\n",
       "      output_area._bokeh_element_id = output.metadata[EXEC_MIME_TYPE][\"id\"];\n",
       "    }\n",
       "    if (output.metadata[EXEC_MIME_TYPE][\"server_id\"] !== undefined) {\n",
       "      var bk_div = document.createElement(\"div\");\n",
       "      bk_div.innerHTML = output.data[HTML_MIME_TYPE];\n",
       "      var script_attrs = bk_div.children[0].attributes;\n",
       "      for (var i = 0; i < script_attrs.length; i++) {\n",
       "        toinsert[toinsert.length - 1].firstChild.setAttribute(script_attrs[i].name, script_attrs[i].value);\n",
       "        toinsert[toinsert.length - 1].firstChild.textContent = bk_div.children[0].textContent\n",
       "      }\n",
       "      // store reference to server id on output_area\n",
       "      output_area._bokeh_server_id = output.metadata[EXEC_MIME_TYPE][\"server_id\"];\n",
       "    }\n",
       "  }\n",
       "\n",
       "  function register_renderer(events, OutputArea) {\n",
       "\n",
       "    function append_mime(data, metadata, element) {\n",
       "      // create a DOM node to render to\n",
       "      var toinsert = this.create_output_subarea(\n",
       "        metadata,\n",
       "        CLASS_NAME,\n",
       "        EXEC_MIME_TYPE\n",
       "      );\n",
       "      this.keyboard_manager.register_events(toinsert);\n",
       "      // Render to node\n",
       "      var props = {data: data, metadata: metadata[EXEC_MIME_TYPE]};\n",
       "      render(props, toinsert[toinsert.length - 1]);\n",
       "      element.append(toinsert);\n",
       "      return toinsert\n",
       "    }\n",
       "\n",
       "    /* Handle when an output is cleared or removed */\n",
       "    events.on('clear_output.CodeCell', handleClearOutput);\n",
       "    events.on('delete.Cell', handleClearOutput);\n",
       "\n",
       "    /* Handle when a new output is added */\n",
       "    events.on('output_added.OutputArea', handleAddOutput);\n",
       "\n",
       "    /**\n",
       "     * Register the mime type and append_mime function with output_area\n",
       "     */\n",
       "    OutputArea.prototype.register_mime_type(EXEC_MIME_TYPE, append_mime, {\n",
       "      /* Is output safe? */\n",
       "      safe: true,\n",
       "      /* Index of renderer in `output_area.display_order` */\n",
       "      index: 0\n",
       "    });\n",
       "  }\n",
       "\n",
       "  // register the mime type if in Jupyter Notebook environment and previously unregistered\n",
       "  if (root.Jupyter !== undefined) {\n",
       "    var events = require('base/js/events');\n",
       "    var OutputArea = require('notebook/js/outputarea').OutputArea;\n",
       "\n",
       "    if (OutputArea.prototype.mime_types().indexOf(EXEC_MIME_TYPE) == -1) {\n",
       "      register_renderer(events, OutputArea);\n",
       "    }\n",
       "  }\n",
       "\n",
       "  \n",
       "  if (typeof (root._bokeh_timeout) === \"undefined\" || force === true) {\n",
       "    root._bokeh_timeout = Date.now() + 5000;\n",
       "    root._bokeh_failed_load = false;\n",
       "  }\n",
       "\n",
       "  var NB_LOAD_WARNING = {'data': {'text/html':\n",
       "     \"<div style='background-color: #fdd'>\\n\"+\n",
       "     \"<p>\\n\"+\n",
       "     \"BokehJS does not appear to have successfully loaded. If loading BokehJS from CDN, this \\n\"+\n",
       "     \"may be due to a slow or bad network connection. Possible fixes:\\n\"+\n",
       "     \"</p>\\n\"+\n",
       "     \"<ul>\\n\"+\n",
       "     \"<li>re-rerun `output_notebook()` to attempt to load from CDN again, or</li>\\n\"+\n",
       "     \"<li>use INLINE resources instead, as so:</li>\\n\"+\n",
       "     \"</ul>\\n\"+\n",
       "     \"<code>\\n\"+\n",
       "     \"from bokeh.resources import INLINE\\n\"+\n",
       "     \"output_notebook(resources=INLINE)\\n\"+\n",
       "     \"</code>\\n\"+\n",
       "     \"</div>\"}};\n",
       "\n",
       "  function display_loaded() {\n",
       "    var el = document.getElementById(\"3523\");\n",
       "    if (el != null) {\n",
       "      el.textContent = \"BokehJS is loading...\";\n",
       "    }\n",
       "    if (root.Bokeh !== undefined) {\n",
       "      if (el != null) {\n",
       "        el.textContent = \"BokehJS \" + root.Bokeh.version + \" successfully loaded.\";\n",
       "      }\n",
       "    } else if (Date.now() < root._bokeh_timeout) {\n",
       "      setTimeout(display_loaded, 100)\n",
       "    }\n",
       "  }\n",
       "\n",
       "\n",
       "  function run_callbacks() {\n",
       "    try {\n",
       "      root._bokeh_onload_callbacks.forEach(function(callback) {\n",
       "        if (callback != null)\n",
       "          callback();\n",
       "      });\n",
       "    } finally {\n",
       "      delete root._bokeh_onload_callbacks\n",
       "    }\n",
       "    console.debug(\"Bokeh: all callbacks have finished\");\n",
       "  }\n",
       "\n",
       "  function load_libs(css_urls, js_urls, callback) {\n",
       "    if (css_urls == null) css_urls = [];\n",
       "    if (js_urls == null) js_urls = [];\n",
       "\n",
       "    root._bokeh_onload_callbacks.push(callback);\n",
       "    if (root._bokeh_is_loading > 0) {\n",
       "      console.debug(\"Bokeh: BokehJS is being loaded, scheduling callback at\", now());\n",
       "      return null;\n",
       "    }\n",
       "    if (js_urls == null || js_urls.length === 0) {\n",
       "      run_callbacks();\n",
       "      return null;\n",
       "    }\n",
       "    console.debug(\"Bokeh: BokehJS not loaded, scheduling load and callback at\", now());\n",
       "    root._bokeh_is_loading = css_urls.length + js_urls.length;\n",
       "\n",
       "    function on_load() {\n",
       "      root._bokeh_is_loading--;\n",
       "      if (root._bokeh_is_loading === 0) {\n",
       "        console.debug(\"Bokeh: all BokehJS libraries/stylesheets loaded\");\n",
       "        run_callbacks()\n",
       "      }\n",
       "    }\n",
       "\n",
       "    function on_error() {\n",
       "      console.error(\"failed to load \" + url);\n",
       "    }\n",
       "\n",
       "    for (var i = 0; i < css_urls.length; i++) {\n",
       "      var url = css_urls[i];\n",
       "      const element = document.createElement(\"link\");\n",
       "      element.onload = on_load;\n",
       "      element.onerror = on_error;\n",
       "      element.rel = \"stylesheet\";\n",
       "      element.type = \"text/css\";\n",
       "      element.href = url;\n",
       "      console.debug(\"Bokeh: injecting link tag for BokehJS stylesheet: \", url);\n",
       "      document.body.appendChild(element);\n",
       "    }\n",
       "\n",
       "    const hashes = {\"https://cdn.bokeh.org/bokeh/release/bokeh-2.2.3.min.js\": \"T2yuo9Oe71Cz/I4X9Ac5+gpEa5a8PpJCDlqKYO0CfAuEszu1JrXLl8YugMqYe3sM\", \"https://cdn.bokeh.org/bokeh/release/bokeh-widgets-2.2.3.min.js\": \"98GDGJ0kOMCUMUePhksaQ/GYgB3+NH9h996V88sh3aOiUNX3N+fLXAtry6xctSZ6\", \"https://cdn.bokeh.org/bokeh/release/bokeh-tables-2.2.3.min.js\": \"89bArO+nlbP3sgakeHjCo1JYxYR5wufVgA3IbUvDY+K7w4zyxJqssu7wVnfeKCq8\"};\n",
       "\n",
       "    for (var i = 0; i < js_urls.length; i++) {\n",
       "      var url = js_urls[i];\n",
       "      var element = document.createElement('script');\n",
       "      element.onload = on_load;\n",
       "      element.onerror = on_error;\n",
       "      element.async = false;\n",
       "      element.src = url;\n",
       "      if (url in hashes) {\n",
       "        element.crossOrigin = \"anonymous\";\n",
       "        element.integrity = \"sha384-\" + hashes[url];\n",
       "      }\n",
       "      console.debug(\"Bokeh: injecting script tag for BokehJS library: \", url);\n",
       "      document.head.appendChild(element);\n",
       "    }\n",
       "  };\n",
       "\n",
       "  function inject_raw_css(css) {\n",
       "    const element = document.createElement(\"style\");\n",
       "    element.appendChild(document.createTextNode(css));\n",
       "    document.body.appendChild(element);\n",
       "  }\n",
       "\n",
       "  \n",
       "  var js_urls = [\"https://cdn.bokeh.org/bokeh/release/bokeh-2.2.3.min.js\", \"https://cdn.bokeh.org/bokeh/release/bokeh-widgets-2.2.3.min.js\", \"https://cdn.bokeh.org/bokeh/release/bokeh-tables-2.2.3.min.js\"];\n",
       "  var css_urls = [];\n",
       "  \n",
       "\n",
       "  var inline_js = [\n",
       "    function(Bokeh) {\n",
       "      Bokeh.set_log_level(\"info\");\n",
       "    },\n",
       "    function(Bokeh) {\n",
       "    \n",
       "    \n",
       "    }\n",
       "  ];\n",
       "\n",
       "  function run_inline_js() {\n",
       "    \n",
       "    if (root.Bokeh !== undefined || force === true) {\n",
       "      \n",
       "    for (var i = 0; i < inline_js.length; i++) {\n",
       "      inline_js[i].call(root, root.Bokeh);\n",
       "    }\n",
       "    if (force === true) {\n",
       "        display_loaded();\n",
       "      }} else if (Date.now() < root._bokeh_timeout) {\n",
       "      setTimeout(run_inline_js, 100);\n",
       "    } else if (!root._bokeh_failed_load) {\n",
       "      console.log(\"Bokeh: BokehJS failed to load within specified timeout.\");\n",
       "      root._bokeh_failed_load = true;\n",
       "    } else if (force !== true) {\n",
       "      var cell = $(document.getElementById(\"3523\")).parents('.cell').data().cell;\n",
       "      cell.output_area.append_execute_result(NB_LOAD_WARNING)\n",
       "    }\n",
       "\n",
       "  }\n",
       "\n",
       "  if (root._bokeh_is_loading === 0) {\n",
       "    console.debug(\"Bokeh: BokehJS loaded, going straight to plotting\");\n",
       "    run_inline_js();\n",
       "  } else {\n",
       "    load_libs(css_urls, js_urls, function() {\n",
       "      console.debug(\"Bokeh: BokehJS plotting callback run at\", now());\n",
       "      run_inline_js();\n",
       "    });\n",
       "  }\n",
       "}(window));"
      ],
      "application/vnd.bokehjs_load.v0+json": "\n(function(root) {\n  function now() {\n    return new Date();\n  }\n\n  var force = true;\n\n  if (typeof root._bokeh_onload_callbacks === \"undefined\" || force === true) {\n    root._bokeh_onload_callbacks = [];\n    root._bokeh_is_loading = undefined;\n  }\n\n  \n\n  \n  if (typeof (root._bokeh_timeout) === \"undefined\" || force === true) {\n    root._bokeh_timeout = Date.now() + 5000;\n    root._bokeh_failed_load = false;\n  }\n\n  var NB_LOAD_WARNING = {'data': {'text/html':\n     \"<div style='background-color: #fdd'>\\n\"+\n     \"<p>\\n\"+\n     \"BokehJS does not appear to have successfully loaded. If loading BokehJS from CDN, this \\n\"+\n     \"may be due to a slow or bad network connection. Possible fixes:\\n\"+\n     \"</p>\\n\"+\n     \"<ul>\\n\"+\n     \"<li>re-rerun `output_notebook()` to attempt to load from CDN again, or</li>\\n\"+\n     \"<li>use INLINE resources instead, as so:</li>\\n\"+\n     \"</ul>\\n\"+\n     \"<code>\\n\"+\n     \"from bokeh.resources import INLINE\\n\"+\n     \"output_notebook(resources=INLINE)\\n\"+\n     \"</code>\\n\"+\n     \"</div>\"}};\n\n  function display_loaded() {\n    var el = document.getElementById(\"3523\");\n    if (el != null) {\n      el.textContent = \"BokehJS is loading...\";\n    }\n    if (root.Bokeh !== undefined) {\n      if (el != null) {\n        el.textContent = \"BokehJS \" + root.Bokeh.version + \" successfully loaded.\";\n      }\n    } else if (Date.now() < root._bokeh_timeout) {\n      setTimeout(display_loaded, 100)\n    }\n  }\n\n\n  function run_callbacks() {\n    try {\n      root._bokeh_onload_callbacks.forEach(function(callback) {\n        if (callback != null)\n          callback();\n      });\n    } finally {\n      delete root._bokeh_onload_callbacks\n    }\n    console.debug(\"Bokeh: all callbacks have finished\");\n  }\n\n  function load_libs(css_urls, js_urls, callback) {\n    if (css_urls == null) css_urls = [];\n    if (js_urls == null) js_urls = [];\n\n    root._bokeh_onload_callbacks.push(callback);\n    if (root._bokeh_is_loading > 0) {\n      console.debug(\"Bokeh: BokehJS is being loaded, scheduling callback at\", now());\n      return null;\n    }\n    if (js_urls == null || js_urls.length === 0) {\n      run_callbacks();\n      return null;\n    }\n    console.debug(\"Bokeh: BokehJS not loaded, scheduling load and callback at\", now());\n    root._bokeh_is_loading = css_urls.length + js_urls.length;\n\n    function on_load() {\n      root._bokeh_is_loading--;\n      if (root._bokeh_is_loading === 0) {\n        console.debug(\"Bokeh: all BokehJS libraries/stylesheets loaded\");\n        run_callbacks()\n      }\n    }\n\n    function on_error() {\n      console.error(\"failed to load \" + url);\n    }\n\n    for (var i = 0; i < css_urls.length; i++) {\n      var url = css_urls[i];\n      const element = document.createElement(\"link\");\n      element.onload = on_load;\n      element.onerror = on_error;\n      element.rel = \"stylesheet\";\n      element.type = \"text/css\";\n      element.href = url;\n      console.debug(\"Bokeh: injecting link tag for BokehJS stylesheet: \", url);\n      document.body.appendChild(element);\n    }\n\n    const hashes = {\"https://cdn.bokeh.org/bokeh/release/bokeh-2.2.3.min.js\": \"T2yuo9Oe71Cz/I4X9Ac5+gpEa5a8PpJCDlqKYO0CfAuEszu1JrXLl8YugMqYe3sM\", \"https://cdn.bokeh.org/bokeh/release/bokeh-widgets-2.2.3.min.js\": \"98GDGJ0kOMCUMUePhksaQ/GYgB3+NH9h996V88sh3aOiUNX3N+fLXAtry6xctSZ6\", \"https://cdn.bokeh.org/bokeh/release/bokeh-tables-2.2.3.min.js\": \"89bArO+nlbP3sgakeHjCo1JYxYR5wufVgA3IbUvDY+K7w4zyxJqssu7wVnfeKCq8\"};\n\n    for (var i = 0; i < js_urls.length; i++) {\n      var url = js_urls[i];\n      var element = document.createElement('script');\n      element.onload = on_load;\n      element.onerror = on_error;\n      element.async = false;\n      element.src = url;\n      if (url in hashes) {\n        element.crossOrigin = \"anonymous\";\n        element.integrity = \"sha384-\" + hashes[url];\n      }\n      console.debug(\"Bokeh: injecting script tag for BokehJS library: \", url);\n      document.head.appendChild(element);\n    }\n  };\n\n  function inject_raw_css(css) {\n    const element = document.createElement(\"style\");\n    element.appendChild(document.createTextNode(css));\n    document.body.appendChild(element);\n  }\n\n  \n  var js_urls = [\"https://cdn.bokeh.org/bokeh/release/bokeh-2.2.3.min.js\", \"https://cdn.bokeh.org/bokeh/release/bokeh-widgets-2.2.3.min.js\", \"https://cdn.bokeh.org/bokeh/release/bokeh-tables-2.2.3.min.js\"];\n  var css_urls = [];\n  \n\n  var inline_js = [\n    function(Bokeh) {\n      Bokeh.set_log_level(\"info\");\n    },\n    function(Bokeh) {\n    \n    \n    }\n  ];\n\n  function run_inline_js() {\n    \n    if (root.Bokeh !== undefined || force === true) {\n      \n    for (var i = 0; i < inline_js.length; i++) {\n      inline_js[i].call(root, root.Bokeh);\n    }\n    if (force === true) {\n        display_loaded();\n      }} else if (Date.now() < root._bokeh_timeout) {\n      setTimeout(run_inline_js, 100);\n    } else if (!root._bokeh_failed_load) {\n      console.log(\"Bokeh: BokehJS failed to load within specified timeout.\");\n      root._bokeh_failed_load = true;\n    } else if (force !== true) {\n      var cell = $(document.getElementById(\"3523\")).parents('.cell').data().cell;\n      cell.output_area.append_execute_result(NB_LOAD_WARNING)\n    }\n\n  }\n\n  if (root._bokeh_is_loading === 0) {\n    console.debug(\"Bokeh: BokehJS loaded, going straight to plotting\");\n    run_inline_js();\n  } else {\n    load_libs(css_urls, js_urls, function() {\n      console.debug(\"Bokeh: BokehJS plotting callback run at\", now());\n      run_inline_js();\n    });\n  }\n}(window));"
     },
     "metadata": {},
     "output_type": "display_data"
    },
    {
     "data": {
      "text/html": [
       "\n",
       "\n",
       "\n",
       "\n",
       "\n",
       "\n",
       "  <div class=\"bk-root\" id=\"f21dcb2e-9e08-4a44-9bdd-5d4f48745d7d\" data-root-id=\"3524\"></div>\n"
      ]
     },
     "metadata": {},
     "output_type": "display_data"
    },
    {
     "data": {
      "application/javascript": [
       "(function(root) {\n",
       "  function embed_document(root) {\n",
       "    \n",
       "  var docs_json = {\"ae0748d4-7a1c-4eac-93b4-91dc769b144a\":{\"roots\":{\"references\":[{\"attributes\":{\"below\":[{\"id\":\"3535\"}],\"center\":[{\"id\":\"3538\"},{\"id\":\"3542\"}],\"left\":[{\"id\":\"3539\"}],\"renderers\":[{\"id\":\"3560\"}],\"title\":{\"id\":\"3525\"},\"toolbar\":{\"id\":\"3550\"},\"x_range\":{\"id\":\"3527\"},\"x_scale\":{\"id\":\"3531\"},\"y_range\":{\"id\":\"3529\"},\"y_scale\":{\"id\":\"3533\"}},\"id\":\"3524\",\"subtype\":\"Figure\",\"type\":\"Plot\"},{\"attributes\":{},\"id\":\"3533\",\"type\":\"LinearScale\"},{\"attributes\":{},\"id\":\"3547\",\"type\":\"ResetTool\"},{\"attributes\":{},\"id\":\"3696\",\"type\":\"UnionRenderers\"},{\"attributes\":{\"line_color\":\"#1f77b4\",\"x\":{\"field\":\"x\"},\"y\":{\"field\":\"y\"}},\"id\":\"3558\",\"type\":\"Line\"},{\"attributes\":{\"data\":{\"x\":{\"__ndarray__\":\"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\",\"dtype\":\"float64\",\"order\":\"little\",\"shape\":[401]},\"y\":{\"__ndarray__\":\"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\",\"dtype\":\"float64\",\"order\":\"little\",\"shape\":[401]}},\"selected\":{\"id\":\"3697\"},\"selection_policy\":{\"id\":\"3696\"}},\"id\":\"3557\",\"type\":\"ColumnDataSource\"},{\"attributes\":{},\"id\":\"3527\",\"type\":\"DataRange1d\"},{\"attributes\":{},\"id\":\"3544\",\"type\":\"WheelZoomTool\"},{\"attributes\":{},\"id\":\"3697\",\"type\":\"Selection\"},{\"attributes\":{\"source\":{\"id\":\"3557\"}},\"id\":\"3561\",\"type\":\"CDSView\"},{\"attributes\":{},\"id\":\"3546\",\"type\":\"SaveTool\"},{\"attributes\":{},\"id\":\"3548\",\"type\":\"HelpTool\"},{\"attributes\":{\"active_drag\":\"auto\",\"active_inspect\":\"auto\",\"active_multi\":null,\"active_scroll\":\"auto\",\"active_tap\":\"auto\",\"tools\":[{\"id\":\"3543\"},{\"id\":\"3544\"},{\"id\":\"3545\"},{\"id\":\"3546\"},{\"id\":\"3547\"},{\"id\":\"3548\"}]},\"id\":\"3550\",\"type\":\"Toolbar\"},{\"attributes\":{\"axis_label\":\"Intensity\",\"formatter\":{\"id\":\"3691\"},\"ticker\":{\"id\":\"3540\"}},\"id\":\"3539\",\"type\":\"LinearAxis\"},{\"attributes\":{},\"id\":\"3543\",\"type\":\"PanTool\"},{\"attributes\":{\"overlay\":{\"id\":\"3549\"}},\"id\":\"3545\",\"type\":\"BoxZoomTool\"},{\"attributes\":{\"line_alpha\":0.1,\"line_color\":\"#1f77b4\",\"x\":{\"field\":\"x\"},\"y\":{\"field\":\"y\"}},\"id\":\"3559\",\"type\":\"Line\"},{\"attributes\":{},\"id\":\"3536\",\"type\":\"BasicTicker\"},{\"attributes\":{\"data_source\":{\"id\":\"3557\"},\"glyph\":{\"id\":\"3558\"},\"hover_glyph\":null,\"muted_glyph\":null,\"nonselection_glyph\":{\"id\":\"3559\"},\"selection_glyph\":null,\"view\":{\"id\":\"3561\"}},\"id\":\"3560\",\"type\":\"GlyphRenderer\"},{\"attributes\":{\"axis_label\":\"velocity (km \\\\ s)\",\"formatter\":{\"id\":\"3693\"},\"ticker\":{\"id\":\"3536\"}},\"id\":\"3535\",\"type\":\"LinearAxis\"},{\"attributes\":{\"axis\":{\"id\":\"3535\"},\"ticker\":null},\"id\":\"3538\",\"type\":\"Grid\"},{\"attributes\":{},\"id\":\"3540\",\"type\":\"BasicTicker\"},{\"attributes\":{},\"id\":\"3529\",\"type\":\"DataRange1d\"},{\"attributes\":{},\"id\":\"3691\",\"type\":\"BasicTickFormatter\"},{\"attributes\":{},\"id\":\"3531\",\"type\":\"LinearScale\"},{\"attributes\":{\"bottom_units\":\"screen\",\"fill_alpha\":0.5,\"fill_color\":\"lightgrey\",\"left_units\":\"screen\",\"level\":\"overlay\",\"line_alpha\":1.0,\"line_color\":\"black\",\"line_dash\":[4,4],\"line_width\":2,\"right_units\":\"screen\",\"top_units\":\"screen\"},\"id\":\"3549\",\"type\":\"BoxAnnotation\"},{\"attributes\":{\"text\":\"Frequency vs Intesity at 30 degrees latitude\"},\"id\":\"3525\",\"type\":\"Title\"},{\"attributes\":{},\"id\":\"3693\",\"type\":\"BasicTickFormatter\"},{\"attributes\":{\"axis\":{\"id\":\"3539\"},\"dimension\":1,\"ticker\":null},\"id\":\"3542\",\"type\":\"Grid\"}],\"root_ids\":[\"3524\"]},\"title\":\"Bokeh Application\",\"version\":\"2.2.3\"}};\n",
       "  var render_items = [{\"docid\":\"ae0748d4-7a1c-4eac-93b4-91dc769b144a\",\"root_ids\":[\"3524\"],\"roots\":{\"3524\":\"f21dcb2e-9e08-4a44-9bdd-5d4f48745d7d\"}}];\n",
       "  root.Bokeh.embed.embed_items_notebook(docs_json, render_items);\n",
       "\n",
       "  }\n",
       "  if (root.Bokeh !== undefined) {\n",
       "    embed_document(root);\n",
       "  } else {\n",
       "    var attempts = 0;\n",
       "    var timer = setInterval(function(root) {\n",
       "      if (root.Bokeh !== undefined) {\n",
       "        clearInterval(timer);\n",
       "        embed_document(root);\n",
       "      } else {\n",
       "        attempts++;\n",
       "        if (attempts > 100) {\n",
       "          clearInterval(timer);\n",
       "          console.log(\"Bokeh: ERROR: Unable to run BokehJS code because BokehJS library is missing\");\n",
       "        }\n",
       "      }\n",
       "    }, 10, root)\n",
       "  }\n",
       "})(window);"
      ],
      "application/vnd.bokehjs_exec.v0+json": ""
     },
     "metadata": {
      "application/vnd.bokehjs_exec.v0+json": {
       "id": "3524"
      }
     },
     "output_type": "display_data"
    }
   ],
   "source": [
    "output_notebook() # This just makes sure the ouput appears here, in the notebook\n",
    "p = figure(title = f\"Frequency vs Intesity at {angle[1:3]} degrees latitude\", \n",
    "          x_axis_label = 'velocity (km \\ s)', \n",
    "          y_axis_label = 'Intensity')\n",
    "# Now complete the next line given the information given just above\n",
    "p.line(\n",
    "    df[\"velocity\"],\n",
    "    df[\"mean_norm\"])\n",
    "show(p)"
   ]
  },
  {
   "cell_type": "code",
   "execution_count": null,
   "metadata": {},
   "outputs": [],
   "source": []
  }
 ],
 "metadata": {
  "kernelspec": {
   "display_name": "Python 3",
   "language": "python",
   "name": "python3"
  },
  "language_info": {
   "codemirror_mode": {
    "name": "ipython",
    "version": 3
   },
   "file_extension": ".py",
   "mimetype": "text/x-python",
   "name": "python",
   "nbconvert_exporter": "python",
   "pygments_lexer": "ipython3",
   "version": "3.8.5"
  }
 },
 "nbformat": 4,
 "nbformat_minor": 4
}
