{
 "cells": [
  {
   "cell_type": "markdown",
   "metadata": {},
   "source": [
    "## Fitting the rotation curve"
   ]
  },
  {
   "cell_type": "markdown",
   "metadata": {},
   "source": [
    "### Read in data"
   ]
  },
  {
   "cell_type": "markdown",
   "metadata": {},
   "source": [
    "#### Usual imports"
   ]
  },
  {
   "cell_type": "code",
   "execution_count": 5,
   "metadata": {},
   "outputs": [],
   "source": [
    "from os import path\n",
    "import pandas as pd\n",
    "import numpy as np\n",
    "import matplotlib.pyplot as plt\n",
    "\n",
    "from IPython.display import display, clear_output\n",
    "\n",
    "from IPython.core.interactiveshell import InteractiveShell\n",
    "InteractiveShell.ast_node_interactivity = \"all\""
   ]
  },
  {
   "cell_type": "markdown",
   "metadata": {},
   "source": [
    "#### Constants"
   ]
  },
  {
   "cell_type": "code",
   "execution_count": 6,
   "metadata": {},
   "outputs": [],
   "source": [
    "R0 = 8.5 # kpc\n",
    "\n",
    "V0 = 220 # km/s"
   ]
  },
  {
   "cell_type": "markdown",
   "metadata": {},
   "source": [
    "#### Reads archive data"
   ]
  },
  {
   "cell_type": "code",
   "execution_count": 8,
   "metadata": {},
   "outputs": [
    {
     "data": {
      "text/html": [
       "<div>\n",
       "<style scoped>\n",
       "    .dataframe tbody tr th:only-of-type {\n",
       "        vertical-align: middle;\n",
       "    }\n",
       "\n",
       "    .dataframe tbody tr th {\n",
       "        vertical-align: top;\n",
       "    }\n",
       "\n",
       "    .dataframe thead th {\n",
       "        text-align: right;\n",
       "    }\n",
       "</style>\n",
       "<table border=\"1\" class=\"dataframe\">\n",
       "  <thead>\n",
       "    <tr style=\"text-align: right;\">\n",
       "      <th></th>\n",
       "      <th>longitude</th>\n",
       "      <th>v_obs_max</th>\n",
       "      <th>v_error</th>\n",
       "    </tr>\n",
       "  </thead>\n",
       "  <tbody>\n",
       "    <tr>\n",
       "      <th>0</th>\n",
       "      <td>0</td>\n",
       "      <td>55</td>\n",
       "      <td>5</td>\n",
       "    </tr>\n",
       "    <tr>\n",
       "      <th>1</th>\n",
       "      <td>10</td>\n",
       "      <td>200</td>\n",
       "      <td>5</td>\n",
       "    </tr>\n",
       "    <tr>\n",
       "      <th>2</th>\n",
       "      <td>20</td>\n",
       "      <td>152</td>\n",
       "      <td>5</td>\n",
       "    </tr>\n",
       "    <tr>\n",
       "      <th>3</th>\n",
       "      <td>30</td>\n",
       "      <td>134</td>\n",
       "      <td>5</td>\n",
       "    </tr>\n",
       "    <tr>\n",
       "      <th>4</th>\n",
       "      <td>40</td>\n",
       "      <td>113</td>\n",
       "      <td>5</td>\n",
       "    </tr>\n",
       "    <tr>\n",
       "      <th>5</th>\n",
       "      <td>50</td>\n",
       "      <td>99</td>\n",
       "      <td>5</td>\n",
       "    </tr>\n",
       "    <tr>\n",
       "      <th>6</th>\n",
       "      <td>60</td>\n",
       "      <td>68</td>\n",
       "      <td>5</td>\n",
       "    </tr>\n",
       "    <tr>\n",
       "      <th>7</th>\n",
       "      <td>70</td>\n",
       "      <td>51</td>\n",
       "      <td>5</td>\n",
       "    </tr>\n",
       "    <tr>\n",
       "      <th>8</th>\n",
       "      <td>80</td>\n",
       "      <td>48</td>\n",
       "      <td>5</td>\n",
       "    </tr>\n",
       "    <tr>\n",
       "      <th>9</th>\n",
       "      <td>90</td>\n",
       "      <td>37</td>\n",
       "      <td>5</td>\n",
       "    </tr>\n",
       "  </tbody>\n",
       "</table>\n",
       "</div>"
      ],
      "text/plain": [
       "   longitude  v_obs_max  v_error\n",
       "0          0         55        5\n",
       "1         10        200        5\n",
       "2         20        152        5\n",
       "3         30        134        5\n",
       "4         40        113        5\n",
       "5         50         99        5\n",
       "6         60         68        5\n",
       "7         70         51        5\n",
       "8         80         48        5\n",
       "9         90         37        5"
      ]
     },
     "execution_count": 8,
     "metadata": {},
     "output_type": "execute_result"
    }
   ],
   "source": [
    "path_name = path.join(\".\\\\results\\\\\", \"max_vel.csv\")\n",
    "\n",
    "vals_df = pd.read_csv(path_name, skipinitialspace = True)\n",
    "\n",
    "vals_df"
   ]
  },
  {
   "cell_type": "markdown",
   "metadata": {},
   "source": [
    "#### Calculates R and V\n",
    "\n",
    "$R=R_0 \\sin{\\theta_{obs}}\\\\$\n",
    "$V=V_{obs}+V_0 \\sin{\\theta_{obs}}$"
   ]
  },
  {
   "cell_type": "code",
   "execution_count": 9,
   "metadata": {},
   "outputs": [
    {
     "data": {
      "text/html": [
       "<div>\n",
       "<style scoped>\n",
       "    .dataframe tbody tr th:only-of-type {\n",
       "        vertical-align: middle;\n",
       "    }\n",
       "\n",
       "    .dataframe tbody tr th {\n",
       "        vertical-align: top;\n",
       "    }\n",
       "\n",
       "    .dataframe thead th {\n",
       "        text-align: right;\n",
       "    }\n",
       "</style>\n",
       "<table border=\"1\" class=\"dataframe\">\n",
       "  <thead>\n",
       "    <tr style=\"text-align: right;\">\n",
       "      <th></th>\n",
       "      <th>longitude</th>\n",
       "      <th>v_obs_max</th>\n",
       "      <th>v_error</th>\n",
       "      <th>R</th>\n",
       "      <th>V</th>\n",
       "      <th>V_err</th>\n",
       "    </tr>\n",
       "  </thead>\n",
       "  <tbody>\n",
       "    <tr>\n",
       "      <th>0</th>\n",
       "      <td>0</td>\n",
       "      <td>55</td>\n",
       "      <td>5</td>\n",
       "      <td>0.000000</td>\n",
       "      <td>55.000000</td>\n",
       "      <td>5</td>\n",
       "    </tr>\n",
       "    <tr>\n",
       "      <th>1</th>\n",
       "      <td>10</td>\n",
       "      <td>200</td>\n",
       "      <td>5</td>\n",
       "      <td>1.476010</td>\n",
       "      <td>238.202599</td>\n",
       "      <td>5</td>\n",
       "    </tr>\n",
       "    <tr>\n",
       "      <th>2</th>\n",
       "      <td>20</td>\n",
       "      <td>152</td>\n",
       "      <td>5</td>\n",
       "      <td>2.907171</td>\n",
       "      <td>227.244432</td>\n",
       "      <td>5</td>\n",
       "    </tr>\n",
       "    <tr>\n",
       "      <th>3</th>\n",
       "      <td>30</td>\n",
       "      <td>134</td>\n",
       "      <td>5</td>\n",
       "      <td>4.250000</td>\n",
       "      <td>244.000000</td>\n",
       "      <td>5</td>\n",
       "    </tr>\n",
       "    <tr>\n",
       "      <th>4</th>\n",
       "      <td>40</td>\n",
       "      <td>113</td>\n",
       "      <td>5</td>\n",
       "      <td>5.463695</td>\n",
       "      <td>254.413274</td>\n",
       "      <td>5</td>\n",
       "    </tr>\n",
       "    <tr>\n",
       "      <th>5</th>\n",
       "      <td>50</td>\n",
       "      <td>99</td>\n",
       "      <td>5</td>\n",
       "      <td>6.511378</td>\n",
       "      <td>267.529777</td>\n",
       "      <td>5</td>\n",
       "    </tr>\n",
       "    <tr>\n",
       "      <th>6</th>\n",
       "      <td>60</td>\n",
       "      <td>68</td>\n",
       "      <td>5</td>\n",
       "      <td>7.361216</td>\n",
       "      <td>258.525589</td>\n",
       "      <td>5</td>\n",
       "    </tr>\n",
       "    <tr>\n",
       "      <th>7</th>\n",
       "      <td>70</td>\n",
       "      <td>51</td>\n",
       "      <td>5</td>\n",
       "      <td>7.987387</td>\n",
       "      <td>257.732377</td>\n",
       "      <td>5</td>\n",
       "    </tr>\n",
       "    <tr>\n",
       "      <th>8</th>\n",
       "      <td>80</td>\n",
       "      <td>48</td>\n",
       "      <td>5</td>\n",
       "      <td>8.370866</td>\n",
       "      <td>264.657706</td>\n",
       "      <td>5</td>\n",
       "    </tr>\n",
       "    <tr>\n",
       "      <th>9</th>\n",
       "      <td>90</td>\n",
       "      <td>37</td>\n",
       "      <td>5</td>\n",
       "      <td>8.500000</td>\n",
       "      <td>257.000000</td>\n",
       "      <td>5</td>\n",
       "    </tr>\n",
       "  </tbody>\n",
       "</table>\n",
       "</div>"
      ],
      "text/plain": [
       "   longitude  v_obs_max  v_error         R           V  V_err\n",
       "0          0         55        5  0.000000   55.000000      5\n",
       "1         10        200        5  1.476010  238.202599      5\n",
       "2         20        152        5  2.907171  227.244432      5\n",
       "3         30        134        5  4.250000  244.000000      5\n",
       "4         40        113        5  5.463695  254.413274      5\n",
       "5         50         99        5  6.511378  267.529777      5\n",
       "6         60         68        5  7.361216  258.525589      5\n",
       "7         70         51        5  7.987387  257.732377      5\n",
       "8         80         48        5  8.370866  264.657706      5\n",
       "9         90         37        5  8.500000  257.000000      5"
      ]
     },
     "execution_count": 9,
     "metadata": {},
     "output_type": "execute_result"
    }
   ],
   "source": [
    "vals_df['R'] = R0*np.sin(np.radians(vals_df['longitude']))\n",
    "vals_df['V'] = vals_df['v_obs_max']+ V0*np.sin(np.radians(vals_df['longitude']))\n",
    "vals_df['V_err'] = vals_df['v_error']\n",
    "\n",
    "vals_df"
   ]
  },
  {
   "cell_type": "code",
   "execution_count": 11,
   "metadata": {},
   "outputs": [
    {
     "data": {
      "text/plain": [
       "<matplotlib.collections.PathCollection at 0x247cee50e20>"
      ]
     },
     "execution_count": 11,
     "metadata": {},
     "output_type": "execute_result"
    },
    {
     "data": {
      "text/plain": [
       "<ErrorbarContainer object of 3 artists>"
      ]
     },
     "execution_count": 11,
     "metadata": {},
     "output_type": "execute_result"
    },
    {
     "data": {
      "text/plain": [
       "Text(0.5, 0, '$\\\\mathrm{R\\\\;/kpc}$')"
      ]
     },
     "execution_count": 11,
     "metadata": {},
     "output_type": "execute_result"
    },
    {
     "data": {
      "text/plain": [
       "Text(0, 0.5, '$\\\\mathrm{V\\\\;/km\\\\,s^{-1}}$')"
      ]
     },
     "execution_count": 11,
     "metadata": {},
     "output_type": "execute_result"
    },
    {
     "data": {
      "image/png": "[encoded data removed]",
      "text/plain": [
       "<Figure size 576x360 with 1 Axes>"
      ]
     },
     "metadata": {
      "needs_background": "light"
     },
     "output_type": "display_data"
    }
   ],
   "source": [
    "plt.rcParams[\"scatter.marker\"] = \".\"\n",
    "plt.rcParams[\"figure.figsize\"] = [8, 5]\n",
    "\n",
    "plt.scatter(vals_df[\"R\"], vals_df[\"V\"])\n",
    "plt.errorbar(\n",
    "    vals_df[\"R\"],\n",
    "    vals_df[\"V\"],\n",
    "    yerr=vals_df[\"V_err\"],\n",
    "    color=\"black\",\n",
    "    fmt=\".\",\n",
    "    ecolor=\"lightgray\",\n",
    "    elinewidth=2,\n",
    "    capsize=0,\n",
    ")\n",
    "\n",
    "plt.xlabel(r\"$\\mathrm{R\\;/kpc}$\")\n",
    "plt.ylabel(r\"$\\mathrm{V\\;/km\\,s^{-1}}$\")\n",
    "plt.savefig(path.join(\".\\\\results\\\\\", \"rotation_scatter.png\"))\n",
    "plt.show()"
   ]
  },
  {
   "cell_type": "code",
   "execution_count": 13,
   "metadata": {},
   "outputs": [
    {
     "name": "stdout",
     "output_type": "stream",
     "text": [
      "Optimised parameters are: 255.1142699196798 199.7147095718812 1.4464313782046827\n"
     ]
    },
    {
     "data": {
      "text/plain": [
       "<matplotlib.collections.PathCollection at 0x247d0b244f0>"
      ]
     },
     "execution_count": 13,
     "metadata": {},
     "output_type": "execute_result"
    },
    {
     "data": {
      "text/plain": [
       "Text(0.5, 0, '$\\\\mathrm{R\\\\;/kpc}$')"
      ]
     },
     "execution_count": 13,
     "metadata": {},
     "output_type": "execute_result"
    },
    {
     "data": {
      "text/plain": [
       "Text(0, 0.5, '$\\\\mathrm{V\\\\;/km\\\\,s^{-1}}$')"
      ]
     },
     "execution_count": 13,
     "metadata": {},
     "output_type": "execute_result"
    },
    {
     "data": {
      "image/png": "[encoded data removed]",
      "text/plain": [
       "<Figure size 576x360 with 1 Axes>"
      ]
     },
     "metadata": {
      "needs_background": "light"
     },
     "output_type": "display_data"
    }
   ],
   "source": [
    "from scipy.optimize import curve_fit\n",
    "\n",
    "plt.rcParams[\"figure.figsize\"] = [8, 5]\n",
    "\n",
    "# Here's a simple mathematical curve that might fit\n",
    "def gal_curve(r, C0, C1, C2):\n",
    "    return C0 - C1 * np.exp(-C2 * r)\n",
    "\n",
    "\n",
    "R = vals_df[\"R\"].values\n",
    "V = vals_df[\"V\"].values\n",
    "R2 = np.linspace(0, 8.5, 50)\n",
    "\n",
    "# Use some trial values for initial parameters for the constants\n",
    "p0 = [250, 200, 0.15]\n",
    "\n",
    "# and fit the curve\n",
    "c, pcov = curve_fit(gal_curve, R, V, p0)\n",
    "\n",
    "print(\"Optimised parameters are:\", *c)\n",
    "\n",
    "# Plot it\n",
    "plt.scatter(R2, gal_curve(R2, *c), color=\"black\")\n",
    "plt.xlabel(r\"$\\mathrm{R\\;/kpc}$\")\n",
    "plt.ylabel(r\"$\\mathrm{V\\;/km\\,s^{-1}}$\")\n",
    "plt.savefig(path.join(\".\\\\results\\\\\", \"rotation_curve.png\"))\n",
    "plt.show()"
   ]
  },
  {
   "cell_type": "code",
   "execution_count": 14,
   "metadata": {},
   "outputs": [],
   "source": [
    "try:\n",
    "    vals_df.to_csv('rot_curve_data.csv',index=False)\n",
    "except PermissionError as error:\n",
    "    print(error)\n",
    "    print('Might want to check if file is in use somewhere')\n",
    "    "
   ]
  },
  {
   "cell_type": "code",
   "execution_count": null,
   "metadata": {},
   "outputs": [],
   "source": [
    "vals_df"
   ]
  },
  {
   "cell_type": "code",
   "execution_count": null,
   "metadata": {},
   "outputs": [],
   "source": []
  }
 ],
 "metadata": {
  "kernelspec": {
   "display_name": "Python 3",
   "language": "python",
   "name": "python3"
  },
  "language_info": {
   "codemirror_mode": {
    "name": "ipython",
    "version": 3
   },
   "file_extension": ".py",
   "mimetype": "text/x-python",
   "name": "python",
   "nbconvert_exporter": "python",
   "pygments_lexer": "ipython3",
   "version": "3.8.5"
  }
 },
 "nbformat": 4,
 "nbformat_minor": 4
}
