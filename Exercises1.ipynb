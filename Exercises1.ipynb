{
 "cells": [
  {
   "cell_type": "markdown",
   "metadata": {},
   "source": [
    "## 3.1 Converting wavelength (in cm) for frequency (Hz)\n"
   ]
  },
  {
   "cell_type": "markdown",
   "metadata": {},
   "source": [
    "Sets a constant"
   ]
  },
  {
   "cell_type": "code",
   "execution_count": 1,
   "metadata": {},
   "outputs": [],
   "source": [
    "_c=2.9979e+08 #speed of light"
   ]
  },
  {
   "cell_type": "markdown",
   "metadata": {},
   "source": [
    "Using $f=c\\;/\\lambda$ and converting the wavelength in cms to metres"
   ]
  },
  {
   "cell_type": "code",
   "execution_count": 2,
   "metadata": {},
   "outputs": [],
   "source": [
    "def w_to_f(wl):\n",
    "    return _c/(wl*0.1)"
   ]
  },
  {
   "cell_type": "markdown",
   "metadata": {},
   "source": [
    "Looping around until the user types 'q'\n"
   ]
  },
  {
   "cell_type": "code",
   "execution_count": 3,
   "metadata": {},
   "outputs": [
    {
     "name": "stdout",
     "output_type": "stream",
     "text": [
      "Please enter a wavelength in cms 20\n",
      "20.0 cms is 1.4990e+08 Hz\n",
      "Enter another wavelength or type q to finish qq\n"
     ]
    },
    {
     "ename": "ValueError",
     "evalue": "could not convert string to float: 'qq'",
     "output_type": "error",
     "traceback": [
      "\u001b[1;31m---------------------------------------------------------------------------\u001b[0m",
      "\u001b[1;31mValueError\u001b[0m                                Traceback (most recent call last)",
      "\u001b[1;32m<ipython-input-3-d09d7d0848f0>\u001b[0m in \u001b[0;36m<module>\u001b[1;34m\u001b[0m\n\u001b[0;32m      9\u001b[0m         \u001b[1;32mbreak\u001b[0m\u001b[1;33m\u001b[0m\u001b[1;33m\u001b[0m\u001b[0m\n\u001b[0;32m     10\u001b[0m     \u001b[1;32melse\u001b[0m\u001b[1;33m:\u001b[0m\u001b[1;33m\u001b[0m\u001b[1;33m\u001b[0m\u001b[0m\n\u001b[1;32m---> 11\u001b[1;33m         \u001b[0mwl\u001b[0m\u001b[1;33m=\u001b[0m\u001b[0mfloat\u001b[0m\u001b[1;33m(\u001b[0m\u001b[0mgo_again\u001b[0m\u001b[1;33m)\u001b[0m\u001b[1;33m\u001b[0m\u001b[1;33m\u001b[0m\u001b[0m\n\u001b[0m",
      "\u001b[1;31mValueError\u001b[0m: could not convert string to float: 'qq'"
     ]
    }
   ],
   "source": [
    "wl= float(input('Please enter a wavelength in cms '))\n",
    "\n",
    "while True:\n",
    "    freq=w_to_f(wl)\n",
    "    print(f'{wl} cms is {freq:.4e} Hz')\n",
    "    go_again=input(\"Enter another wavelength or type q to finish \")\n",
    "    if go_again==\n",
    "        print('OK bye')\n",
    "        break\n",
    "    else:\n",
    "        wl=float(go_again)"
   ]
  },
  {
   "cell_type": "markdown",
   "metadata": {},
   "source": [
    "### Exercise 3.2 Doppler effect\n",
    "\n",
    "The task here is to take in a frequency shift (number ornupmy array) and return radial velocity.\n",
    "\n",
    "$\\dfrac{\\Delta f}{f}=-\\dfrac{v}{c}\\Rightarrow v=-\n",
    "\\dfrac{\\Delta f \\times c}{f}$\n",
    "\n"
   ]
  },
  {
   "cell_type": "code",
   "execution_count": null,
   "metadata": {},
   "outputs": [],
   "source": [
    "import numpy as np\n",
    "from astropy import constants as const\n",
    "from astropy import units as u\n",
    "\n",
    "_c=const.c"
   ]
  },
  {
   "cell_type": "code",
   "execution_count": null,
   "metadata": {},
   "outputs": [],
   "source": [
    "def doppler(df, f0=1420.4e6):\n",
    "    v= -(df*_c)/(df+f0)\n",
    "    return v.to(u.km/u.s)"
   ]
  },
  {
   "cell_type": "code",
   "execution_count": null,
   "metadata": {},
   "outputs": [],
   "source": [
    "freqs = np.array([-800000, -400000, 0, 200000, 600000])\n",
    "vels = doppler(freqs)\n",
    "\n",
    "fv=zip(freqs, vels)\n",
    "\n",
    "for f,vel in fv:\n",
    "     print(f'For Δf = {f*u.Hz} the radial velocity is {vel:.2f}')"
   ]
  },
  {
   "cell_type": "markdown",
   "metadata": {},
   "source": [
    "### Exercise 3.3 Beam width\n",
    "\n",
    "The task here is to write a function that takes in the diameter of a radio telescope and teh wavelength of observed radiation and returns the beam width in radian and degrees\n",
    "\n",
    "$\\theta_{\\text{FWHM}}=1.22 \\dfrac{\\lambda}{D}$"
   ]
  },
  {
   "cell_type": "code",
   "execution_count": 21,
   "metadata": {},
   "outputs": [
    {
     "name": "stdout",
     "output_type": "stream",
     "text": [
      "Enter dish diameter in metres3\n",
      "Enter observed wavelength in cms21\n",
      "Where the diameter is 3.0 cm and the observed radiation is 21.0 m then the width is 0.0854 radians (4.893 degrees)\n"
     ]
    }
   ],
   "source": [
    "import numpy as np\n",
    "\n",
    "di = float(input(\"Enter dish diameter in metres \"))\n",
    "wl = float(input(\"Enter observed wavelength in cms \"))\n",
    "bw=(1.22*wl*0.01)/di\n",
    "\n",
    "print(f'Where the diameter is {di} cm and the observed radiation is {wl} m then the \\\n",
    "width is {bw:.4f} radians ({np.degrees(bw):.4} degrees)')"
   ]
  },
  {
   "cell_type": "code",
   "execution_count": null,
   "metadata": {},
   "outputs": [],
   "source": []
  }
 ],
 "metadata": {
  "kernelspec": {
   "display_name": "Python 3",
   "language": "python",
   "name": "python3"
  },
  "language_info": {
   "codemirror_mode": {
    "name": "ipython",
    "version": 3
   },
   "file_extension": ".py",
   "mimetype": "text/x-python",
   "name": "python",
   "nbconvert_exporter": "python",
   "pygments_lexer": "ipython3",
   "version": "3.8.5"
  }
 },
 "nbformat": 4,
 "nbformat_minor": 4
}
