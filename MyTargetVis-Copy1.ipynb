{
 "cells": [
  {
   "cell_type": "markdown",
   "metadata": {},
   "source": [
    "### Target Visiblity \n",
    "\n",
    "The purpose of this program is to take in a date and time and identify whether objects at a given galactic longitude will be visible to the PIRATE telescope in Milton Keynes "
   ]
  },
  {
   "cell_type": "markdown",
   "metadata": {},
   "source": [
    "#### Some imports - AstroPy stuff to deal with time and locations\n"
   ]
  },
  {
   "cell_type": "code",
   "execution_count": 16,
   "metadata": {},
   "outputs": [],
   "source": [
    "from astropy.time import Time\n",
    "from astropy import units as u\n",
    "from astropy.coordinates import SkyCoord, EarthLocation, AltAz"
   ]
  },
  {
   "cell_type": "markdown",
   "metadata": {},
   "source": [
    "#### This is where most of the work is done.\n",
    "\n",
    "Takes in the longitudinal angle, the location of ARROW and the datetime object and determines visibility"
   ]
  },
  {
   "cell_type": "code",
   "execution_count": 22,
   "metadata": {},
   "outputs": [],
   "source": [
    "def process_targets(l,arrow,obs):\n",
    "    # Creates a SkyCoord for the target\n",
    "    target = SkyCoord(l=l*u.deg, b=90*u.deg, frame='galactic') #NB set b=90 for GNP, otherwise b=0\n",
    "    \n",
    "    # Creates an observation AltAz frame using the observation Time and EarthLocation\n",
    "    obs_frame = AltAz(obstime=obs , location=arrow )\n",
    "    \n",
    "    # And convert to the AltAz Frame\n",
    "    obs_altaz=target.transform_to(obs_frame)\n",
    "    \n",
    "    #check if the Alt and Az values are within certain bounds\n",
    "    if 20<obs_altaz.alt.deg<80 and 20<obs_altaz.az.deg<340:\n",
    "        visible=True\n",
    "    else:\n",
    "        visible=False\n",
    "    return (l, visible,target)"
   ]
  },
  {
   "cell_type": "markdown",
   "metadata": {},
   "source": [
    "#### Do the timey-wimey stuff"
   ]
  },
  {
   "cell_type": "code",
   "execution_count": 18,
   "metadata": {},
   "outputs": [
    {
     "name": "stdout",
     "output_type": "stream",
     "text": [
      "Enter observing date in format yyyy-mm-dd or leave blank to use the default \n",
      "Using the default for date: 2021-11-05\n",
      "Enter observing time in format hhh:mm:ss.s or leave blank to use the default\n",
      "Using the default for time: 15:40:00\n"
     ]
    }
   ],
   "source": [
    "obs_date = input('Enter observing date in format yyyy-mm-dd or leave blank to use the default ')\n",
    "\n",
    "if obs_date=='':\n",
    "    obs_date='2021-11-05'\n",
    "    print(f'Using the default for date: {obs_date}')\n",
    "    \n",
    "obs_time = input('Enter observing time in format hhh:mm:ss.s or leave blank to use the default')\n",
    "    \n",
    "if obs_time=='':\n",
    "    obs_time='15:40:00'\n",
    "    print(f'Using the default for time: {obs_time}')\n",
    "\n",
    "obs_str = obs_date + 'T' + obs_time\n",
    "\n",
    "# Now form a Time object\n",
    "obs = Time(obs_str, format='isot', scale='utc')"
   ]
  },
  {
   "cell_type": "markdown",
   "metadata": {},
   "source": [
    "#### Set the location of ARROW"
   ]
  },
  {
   "cell_type": "code",
   "execution_count": 19,
   "metadata": {},
   "outputs": [],
   "source": [
    "arrow = EarthLocation(lat=52.024444*u.deg, \\\n",
    "                      lon=-0.706388*u.deg, \\\n",
    "                      height=114*u.m)"
   ]
  },
  {
   "cell_type": "markdown",
   "metadata": {},
   "source": [
    "#### Iterates through a list of angles and calls the process_targets function to determine visiblity "
   ]
  },
  {
   "cell_type": "code",
   "execution_count": 24,
   "metadata": {},
   "outputs": [],
   "source": [
    "visibility=[process_targets(l,arrow, obs) for l in range(20,241,10)]"
   ]
  },
  {
   "cell_type": "markdown",
   "metadata": {},
   "source": [
    "#### Loops through the visibilty list and does output stuff. "
   ]
  },
  {
   "cell_type": "code",
   "execution_count": 25,
   "metadata": {},
   "outputs": [
    {
     "name": "stdout",
     "output_type": "stream",
     "text": [
      "On 2021-11-05 at 15:40:00 \n",
      "\n",
      "A target at  20 degrees is visible        RA: 12.0 h: 51.0 m,   Dec:  27.0d: 7.0m\n",
      "A target at  30 degrees is visible        RA: 12.0 h: 51.0 m,   Dec:  27.0d: 7.0m\n",
      "A target at  40 degrees is visible        RA: 12.0 h: 51.0 m,   Dec:  27.0d: 7.0m\n",
      "A target at  50 degrees is visible        RA: 12.0 h: 51.0 m,   Dec:  27.0d: 7.0m\n",
      "A target at  60 degrees is visible        RA: 12.0 h: 51.0 m,   Dec:  27.0d: 7.0m\n",
      "A target at  70 degrees is visible        RA: 12.0 h: 51.0 m,   Dec:  27.0d: 7.0m\n",
      "A target at  80 degrees is visible        RA: 12.0 h: 51.0 m,   Dec:  27.0d: 7.0m\n",
      "A target at  90 degrees is visible        RA: 12.0 h: 51.0 m,   Dec:  27.0d: 7.0m\n",
      "A target at 100 degrees is visible        RA: 12.0 h: 51.0 m,   Dec:  27.0d: 7.0m\n",
      "A target at 110 degrees is visible        RA: 12.0 h: 51.0 m,   Dec:  27.0d: 7.0m\n",
      "A target at 120 degrees is visible        RA: 12.0 h: 51.0 m,   Dec:  27.0d: 7.0m\n",
      "A target at 130 degrees is visible        RA: 12.0 h: 51.0 m,   Dec:  27.0d: 7.0m\n",
      "A target at 140 degrees is visible        RA: 12.0 h: 51.0 m,   Dec:  27.0d: 7.0m\n",
      "A target at 150 degrees is visible        RA: 12.0 h: 51.0 m,   Dec:  27.0d: 7.0m\n",
      "A target at 160 degrees is visible        RA: 12.0 h: 51.0 m,   Dec:  27.0d: 7.0m\n",
      "A target at 170 degrees is visible        RA: 12.0 h: 51.0 m,   Dec:  27.0d: 7.0m\n",
      "A target at 180 degrees is visible        RA: 12.0 h: 51.0 m,   Dec:  27.0d: 7.0m\n",
      "A target at 190 degrees is visible        RA: 12.0 h: 51.0 m,   Dec:  27.0d: 7.0m\n",
      "A target at 200 degrees is visible        RA: 12.0 h: 51.0 m,   Dec:  27.0d: 7.0m\n",
      "A target at 210 degrees is visible        RA: 12.0 h: 51.0 m,   Dec:  27.0d: 7.0m\n",
      "A target at 220 degrees is visible        RA: 12.0 h: 51.0 m,   Dec:  27.0d: 7.0m\n",
      "A target at 230 degrees is visible        RA: 12.0 h: 51.0 m,   Dec:  27.0d: 7.0m\n",
      "A target at 240 degrees is visible        RA: 12.0 h: 51.0 m,   Dec:  27.0d: 7.0m\n"
     ]
    }
   ],
   "source": [
    "print (f'On {obs_date} at {obs_time} \\n') \n",
    "for (angle,visible, target) in visibility:\n",
    "    targ_icrs=target.transform_to('icrs')\n",
    "    targ_ra=targ_icrs.ra.hms\n",
    "    targ_dec=targ_icrs.dec.dms\n",
    "    if visible:\n",
    "        vis_string=\"visible\"\n",
    "    else:\n",
    "        vis_string=\"not visible\"\n",
    "    print(f'A target at {angle:3} degrees is {vis_string:15}\\\n",
    "RA: {targ_ra[0]:<5}h: {targ_ra[1]:<5}m,   \\\n",
    "Dec: {targ_dec[0]:5}d: {targ_dec[1]:}m')"
   ]
  },
  {
   "cell_type": "code",
   "execution_count": null,
   "metadata": {},
   "outputs": [],
   "source": []
  }
 ],
 "metadata": {
  "kernelspec": {
   "display_name": "Python 3",
   "language": "python",
   "name": "python3"
  },
  "language_info": {
   "codemirror_mode": {
    "name": "ipython",
    "version": 3
   },
   "file_extension": ".py",
   "mimetype": "text/x-python",
   "name": "python",
   "nbconvert_exporter": "python",
   "pygments_lexer": "ipython3",
   "version": "3.8.5"
  }
 },
 "nbformat": 4,
 "nbformat_minor": 4
}
